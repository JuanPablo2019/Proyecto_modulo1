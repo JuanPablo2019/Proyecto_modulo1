{
 "cells": [
  {
   "cell_type": "markdown",
   "metadata": {},
   "source": [
    "<img style=\"float: left; margin: 30px 15px 15px 15px;\" src=\"https://pngimage.net/wp-content/uploads/2018/06/logo-iteso-png-5.png\" width=\"300\" height=\"500\" /> \n",
    "    \n",
    "    \n",
    "### <font color='navy'> Simulación de procesos financieros. \n",
    "\n",
    "**Nombres:** \n",
    "- Juan Pablo Ruíz Magaña.\n",
    "- Bryan Azahel Juárez Pineda.\n",
    "\n",
    "**Fecha:** 26 de abril del 2021.\n",
    "\n",
    "**Expediente** :\n",
    "- 721093.\n",
    "- 722176.\n",
    "    \n",
    "**Profesor:** Oscar David Jaramillo Zuluaga.\n",
    "    \n",
    "**Link Github**: [Repositorio proyecto.](https://github.com/Bryan722176/Proyecto_modulo1)\n",
    "    \n",
    "**Link a la base de datos**: [Base de datos original.](https://www.kaggle.com/kapoorshivam/credit-analysis)\n",
    "\n",
    "# Proyecto TEMA-2"
   ]
  },
  {
   "cell_type": "markdown",
   "metadata": {},
   "source": [
    "### 1.1 Título del trabajo.\n",
    "**`Análisis de solicitud de productos bancarios de crédito.`**"
   ]
  },
  {
   "cell_type": "markdown",
   "metadata": {},
   "source": [
    "### 1.2 Objetivos.\n",
    "\n",
    "#### Objetivo general.\n",
    "* Determinar las características de los productos bancarios de crédito que solicitarán futuros clientes.\n",
    "\n",
    "#### Objetivo secundarios.\n",
    "* Simular una cantidad considerable de escenarios que nos permita conocer posibles valores a futuro de las variables de interés.\n",
    "* Evaluar las simulaciones con el método Montecarlo con la finalidad de encontrar el valor esperado de las variables de interés.\n",
    "* Obtener las probabilidades de ocurrencia de ciertos eventos relacionados a nuestras variables de interés.\n",
    "* Definir los parámetros que caracterizan a las solicitudes de crédito a partir de las variables de interés."
   ]
  },
  {
   "cell_type": "markdown",
   "metadata": {},
   "source": [
    "### 1.3 Definición del problema."
   ]
  },
  {
   "cell_type": "markdown",
   "metadata": {},
   "source": [
    "En las estructuras capitalistas que caracterizan al sistema económico mundial, el consumo forma parte elemental del día a día de las personas, la cuestión de interés surge en el momento en que la productividad / salario no corresponde a la capacidad adquisitiva que los individuos requieren para adquirir determinados bienes y servicios en el corto plazo. De ahí nace la necesidad y figura de los créditos.\n",
    "\n",
    "Situandonos en la posición de una institución bancaria, otorgar créditos conlleva un riesgo considerable en el modelo de negocios de la institución. Asumir el riesgo de impago en un crédito puede tener consecuencias graves si esto se llega a dar en escalas masivas, por ende quienes otorgan crédito deben realizar un análisis minucioso respecto a la capacidad crediticia de las personas o empresas que lo soliciten.\n",
    "\n",
    "Con el fin de cuidar los intereses del banco y maximizar las oportunidades de negocio de la institución, nos interesa analizar las características de las aplicaciones previas de diferentes productos bancarios de crédito, con la intención de que la institución bancaria pueda perfilar clientes pontenciales de manera más efectiva y a su vez gestione de manera más óptima sus recursos destinados a estas oportunidades de negocio.\n",
    "\n",
    "Para conocer lo antes descrito, y con nuestra base de datos, definimos los nodos que se deciden simular como los siguientes:\n",
    "\n",
    "* **Monto solicitado del crédito**: Esto para poder definir las expectativas crediticias de los potenciales clientes. Conocer el monto solicitado nos da una pauta para identificar y poder seccionar clientes a partir de su potencial capacidad adquisitiva y su necesidad.\n",
    "\n",
    "* **Monto aprobado del crédito**: Después de un análisis por parte de la institución, esta variable representa el monto designado a una solicitud en particular. Conocer el monto aprobado nos ayuda a determinar no solo la capacidad real de pago del cliente, sino también nos ayuda a saber si el banco cubre las necesidades de capitalización del cliente.  \n",
    "\n",
    "* **Canal de venta**: Conducto por el cual se establece la relación entre el cliente y la institución, y se inicializa el trámite. Conocer esta variable nos ayudará a entender como se distribuye la captación de clientes para el banco, esto generará que se pueda saber cuales son los canales a fortalecer y en cuales continuar con la inercia descrita.\n",
    "\n",
    "* **Categoría de productos que se adquieren con instrumentos de crédito**: Esta variable representa el destino del crédito solicitado. Conocer la categoría de destino nos ayuda a entender no solo las necesidades y el por qué se solicitan los créditos, también nos puede ayudar a evaluar que sectores de consumo requieren de mayor capacidad crediticia."
   ]
  },
  {
   "attachments": {
    "image.png": {
     "image/png": "[encoded data removed]"
    }
   },
   "cell_type": "markdown",
   "metadata": {},
   "source": [
    "#### Diagrama de proceso.\n",
    "![image.png](attachment:image.png)"
   ]
  },
  {
   "cell_type": "markdown",
   "metadata": {},
   "source": [
    "#### Descripción del diagrama:\n",
    "\n",
    "En el diagrama se describe el proceso a modelar:\n",
    "\n",
    "1. Comenzando por el canal de venta elegido por el cliente, por medio del cual se hace el primer contacto entre la institución y el cliente.\n",
    "\n",
    "2. Consecuentemente el cliente solicita un monto determinado a manera de crédito.\n",
    "\n",
    "3. Posteriormente, la institución realiza un analisís crediticio y opta por asignar un monto a dicho al cliente.\n",
    "\n",
    "4. Por último el cliente hace uso del crédito adquiriendo bienes y servicios.\n",
    "\n",
    "A manera de conclusión de este diagrama lo que obtenemos es la caracterización de las solicitudes de crédito de los clientes de la institución."
   ]
  },
  {
   "cell_type": "markdown",
   "metadata": {},
   "source": [
    "### 1.4 Nodos y variables que se decidieron simular y porqué."
   ]
  },
  {
   "cell_type": "markdown",
   "metadata": {},
   "source": [
    "Resumiendo lo antes descrito, los nodos a simular serán los siguientes:\n",
    "* **Monto solicitado del crédito**.\n",
    "\n",
    "* **Monto aprobado del crédito**.\n",
    "\n",
    "* **Canal de venta**.\n",
    "\n",
    "* **Categoría de productos adquirimos con instrumentos de crédito**.\n",
    "\n",
    "Y las posibles complicaciones que podriamos encontrar en su simulación, de manera generalizada son las siguientes:\n",
    "1. **Escalabilidad de los datos:** Es posible que se presenten valores extremos, por lo tanto debemos realizar un correcto análisis exploratorio de los datos y de ser necesario modificar su escala.\n",
    "\n",
    "2. **Ausencia de valores:** En datasets tan grandes es posibles que algunas variables reporten valores faltantes o simplemente se encuentren en una categoría desconocida, por lo tanto será conveniente observar su frecuencia en la muestra."
   ]
  },
  {
   "cell_type": "markdown",
   "metadata": {},
   "source": [
    "### 1.5 Definición de hipótesis y supuestos."
   ]
  },
  {
   "cell_type": "markdown",
   "metadata": {},
   "source": [
    "De manera generalizada podemos definir los siguientes supuestos constantes en el proceso para conocer los parámetros de los créditos solicitados:\n",
    "1. **Se asume la aprobación del crédito.**\n",
    "2. **El monto aprobado del crédito no necesariamente corresponde al solicitado.**\n",
    "3. **El destino del crédito es rastreable.**\n",
    "4. **El monto de aplicación es mayor a 0.**\n",
    "\n",
    "En cuanto al desarrollo de hipótesis respecto al desarrollo del proyecto podemos definir lo siguiente:\n",
    "1. **El monto de crédito aprobado es independiente del canal de ventas por el cuál se haya tramitado el crédito.**"
   ]
  },
  {
   "cell_type": "markdown",
   "metadata": {},
   "source": [
    "### 1.6 Obtención de bases de datos"
   ]
  },
  {
   "cell_type": "markdown",
   "metadata": {},
   "source": [
    "La base que se obtuvo a través de la plataforma web [_Kaggle_](https://www.kaggle.com/) describe las aplicaciones créditicias de un una institución financiera, el problema se presenta al momento de que las aplicaciones se aprueban de manera que el corporativo llega a otorgar créditos a individuos que no necesariamente terminan pagando en tiempo y forma.\n",
    "\n",
    "La base de datos original está conformada por $1'670,214$ filas y $37$ columnas. La realidad es que para el análisis particular que se desea realizar, existen variables y valores que no aportan demasiado, y con la finalidad de eficientar costos computacionales y dejar exclusivamente la información relevante al objetivo descrito previamente, realizaremos un análisis exploratorio y una limpieza de datos, la cual se podrá observar el notebook llamado \"**`EDA_BD`**\" presente en este mismo repositorio."
   ]
  },
  {
   "cell_type": "markdown",
   "metadata": {},
   "source": [
    "### 1.7 Visualización de resultados de simulación."
   ]
  },
  {
   "cell_type": "markdown",
   "metadata": {},
   "source": [
    "Entonces, las variables a modelar serán las siguientes:\n",
    "- Canal de venta.\n",
    "- Monto solicitado.\n",
    "- Monto aprobado.\n",
    "- Bienes adquiridos."
   ]
  },
  {
   "cell_type": "code",
   "execution_count": 273,
   "metadata": {},
   "outputs": [],
   "source": [
    "# Librerías a utilizar.\n",
    "import numpy as np\n",
    "import pandas as pd\n",
    "from scipy.optimize import minimize\n",
    "import seaborn as sns\n",
    "from statsmodels.nonparametric.kde import KDEUnivariate\n",
    "import matplotlib.pyplot as plt\n",
    "import scipy.stats as st     \n",
    "import statsmodels.api as sm \n",
    "import warnings\n",
    "from fitter import Fitter\n",
    "import sklearn\n",
    "from sklearn.neighbors import KernelDensity\n",
    "%matplotlib inline"
   ]
  },
  {
   "cell_type": "code",
   "execution_count": 2,
   "metadata": {
    "scrolled": true
   },
   "outputs": [
    {
     "data": {
      "text/html": [
       "<div>\n",
       "<style scoped>\n",
       "    .dataframe tbody tr th:only-of-type {\n",
       "        vertical-align: middle;\n",
       "    }\n",
       "\n",
       "    .dataframe tbody tr th {\n",
       "        vertical-align: top;\n",
       "    }\n",
       "\n",
       "    .dataframe thead th {\n",
       "        text-align: right;\n",
       "    }\n",
       "</style>\n",
       "<table border=\"1\" class=\"dataframe\">\n",
       "  <thead>\n",
       "    <tr style=\"text-align: right;\">\n",
       "      <th></th>\n",
       "      <th>SK_ID_CURR</th>\n",
       "      <th>NAME_CONTRACT_TYPE</th>\n",
       "      <th>AMT_APPLICATION</th>\n",
       "      <th>AMT_CREDIT</th>\n",
       "      <th>WEEKDAY_APPR_PROCESS_START</th>\n",
       "      <th>NAME_CASH_LOAN_PURPOSE</th>\n",
       "      <th>NAME_CLIENT_TYPE</th>\n",
       "      <th>NAME_GOODS_CATEGORY</th>\n",
       "      <th>NAME_PORTFOLIO</th>\n",
       "      <th>CHANNEL_TYPE</th>\n",
       "    </tr>\n",
       "  </thead>\n",
       "  <tbody>\n",
       "    <tr>\n",
       "      <th>0</th>\n",
       "      <td>271877</td>\n",
       "      <td>Consumer loans</td>\n",
       "      <td>17145.0</td>\n",
       "      <td>17145.0</td>\n",
       "      <td>SATURDAY</td>\n",
       "      <td>XAP</td>\n",
       "      <td>Repeater</td>\n",
       "      <td>Mobile</td>\n",
       "      <td>POS</td>\n",
       "      <td>Country-wide</td>\n",
       "    </tr>\n",
       "    <tr>\n",
       "      <th>1</th>\n",
       "      <td>108129</td>\n",
       "      <td>Cash loans</td>\n",
       "      <td>607500.0</td>\n",
       "      <td>679671.0</td>\n",
       "      <td>THURSDAY</td>\n",
       "      <td>XNA</td>\n",
       "      <td>Repeater</td>\n",
       "      <td>XNA</td>\n",
       "      <td>Cash</td>\n",
       "      <td>Contact center</td>\n",
       "    </tr>\n",
       "    <tr>\n",
       "      <th>2</th>\n",
       "      <td>122040</td>\n",
       "      <td>Cash loans</td>\n",
       "      <td>112500.0</td>\n",
       "      <td>136444.5</td>\n",
       "      <td>TUESDAY</td>\n",
       "      <td>XNA</td>\n",
       "      <td>Repeater</td>\n",
       "      <td>XNA</td>\n",
       "      <td>Cash</td>\n",
       "      <td>Credit and cash offices</td>\n",
       "    </tr>\n",
       "    <tr>\n",
       "      <th>3</th>\n",
       "      <td>176158</td>\n",
       "      <td>Cash loans</td>\n",
       "      <td>450000.0</td>\n",
       "      <td>470790.0</td>\n",
       "      <td>MONDAY</td>\n",
       "      <td>XNA</td>\n",
       "      <td>Repeater</td>\n",
       "      <td>XNA</td>\n",
       "      <td>Cash</td>\n",
       "      <td>Credit and cash offices</td>\n",
       "    </tr>\n",
       "    <tr>\n",
       "      <th>4</th>\n",
       "      <td>199383</td>\n",
       "      <td>Cash loans</td>\n",
       "      <td>315000.0</td>\n",
       "      <td>340573.5</td>\n",
       "      <td>SATURDAY</td>\n",
       "      <td>Everyday expenses</td>\n",
       "      <td>Repeater</td>\n",
       "      <td>XNA</td>\n",
       "      <td>Cash</td>\n",
       "      <td>Credit and cash offices</td>\n",
       "    </tr>\n",
       "  </tbody>\n",
       "</table>\n",
       "</div>"
      ],
      "text/plain": [
       "   SK_ID_CURR NAME_CONTRACT_TYPE  AMT_APPLICATION  AMT_CREDIT  \\\n",
       "0      271877     Consumer loans          17145.0     17145.0   \n",
       "1      108129         Cash loans         607500.0    679671.0   \n",
       "2      122040         Cash loans         112500.0    136444.5   \n",
       "3      176158         Cash loans         450000.0    470790.0   \n",
       "4      199383         Cash loans         315000.0    340573.5   \n",
       "\n",
       "  WEEKDAY_APPR_PROCESS_START NAME_CASH_LOAN_PURPOSE NAME_CLIENT_TYPE  \\\n",
       "0                   SATURDAY                    XAP         Repeater   \n",
       "1                   THURSDAY                    XNA         Repeater   \n",
       "2                    TUESDAY                    XNA         Repeater   \n",
       "3                     MONDAY                    XNA         Repeater   \n",
       "4                   SATURDAY      Everyday expenses         Repeater   \n",
       "\n",
       "  NAME_GOODS_CATEGORY NAME_PORTFOLIO             CHANNEL_TYPE  \n",
       "0              Mobile            POS             Country-wide  \n",
       "1                 XNA           Cash           Contact center  \n",
       "2                 XNA           Cash  Credit and cash offices  \n",
       "3                 XNA           Cash  Credit and cash offices  \n",
       "4                 XNA           Cash  Credit and cash offices  "
      ]
     },
     "execution_count": 2,
     "metadata": {},
     "output_type": "execute_result"
    }
   ],
   "source": [
    "# Importamos nuestro dataframe\n",
    "data = pd.read_csv('approval_clean.csv')\n",
    "data.head()"
   ]
  },
  {
   "cell_type": "markdown",
   "metadata": {},
   "source": [
    "Al observar nuestro dataset, nos encontramos con una gran incongruencia. El hecho de que un crédito se autorice implica que el **monto aprobado** de la línea de crédito debe ser mayor a 0, sin embargo existen valores que cuentan con está situación. Con la finalidad de ser congruentes a nuestro supuesto de aprobación, eliminaremos todas las filas que contengan estos valores. Los manejaremos como un _error de captura_."
   ]
  },
  {
   "cell_type": "code",
   "execution_count": 3,
   "metadata": {},
   "outputs": [],
   "source": [
    "# Eliminar montos de crédito aprobados iguales a 0. Es un error de captura.\n",
    "data = data[data.AMT_CREDIT != 0]"
   ]
  },
  {
   "cell_type": "markdown",
   "metadata": {},
   "source": [
    "Comenzamos a explorar nuestras variables de interés. Primero observaremos los valores únicos y la cuenta de los mismos en el **canal de venta**."
   ]
  },
  {
   "cell_type": "code",
   "execution_count": 4,
   "metadata": {},
   "outputs": [
    {
     "data": {
      "text/plain": [
       "Country-wide                  401875\n",
       "Credit and cash offices       288947\n",
       "Stone                         188924\n",
       "Regional / Local               96170\n",
       "AP+ (Cash loan)                31195\n",
       "Contact center                 25217\n",
       "Channel of corporate sales      2616\n",
       "Car dealer                       286\n",
       "Name: CHANNEL_TYPE, dtype: int64"
      ]
     },
     "execution_count": 4,
     "metadata": {},
     "output_type": "execute_result"
    }
   ],
   "source": [
    "# Cuenta de valores únicos del canal de venta.\n",
    "data.CHANNEL_TYPE.value_counts()"
   ]
  },
  {
   "cell_type": "markdown",
   "metadata": {},
   "source": [
    "En el caso particular del **canal de venta** nos podemos percatar que existen 8 valores únicos, los cuales categorizamos como los distintos canales de venta sobre los cuales los clientes llegan a nosotros. A simple vista, observamos que el más popular es la categoria _Country-wide_.\n",
    "\n",
    "Ahora, visualizaremos un poco sobre nuestros **montos solicitados**. Para una visualización rápida lo observamos a partir de un histograma."
   ]
  },
  {
   "cell_type": "code",
   "execution_count": 5,
   "metadata": {},
   "outputs": [
    {
     "name": "stdout",
     "output_type": "stream",
     "text": [
      "El valor mínimo del monto de aplicación es de: $0\n",
      "El valor máximo del monto de aplicación es de: $5850000\n"
     ]
    },
    {
     "data": {
      "image/png": "[encoded data removed]",
      "text/plain": [
       "<Figure size 432x288 with 1 Axes>"
      ]
     },
     "metadata": {
      "needs_background": "light"
     },
     "output_type": "display_data"
    }
   ],
   "source": [
    "# Visualizamos el monto solicitado.\n",
    "sns.histplot(data.AMT_APPLICATION, color='y', bins=10);\n",
    "print(f'El valor mínimo del monto de aplicación es de: ${int(min(data.AMT_APPLICATION))}')\n",
    "print(f'El valor máximo del monto de aplicación es de: ${int(max(data.AMT_APPLICATION))}')"
   ]
  },
  {
   "cell_type": "markdown",
   "metadata": {},
   "source": [
    "En el caso de los **montos solicitados**, graficamente se observa que la escala sobre la cual se está trabajando no resulta del todo óptima en la visualización, esto porque la mayoría de las cantidades están abajo de un millón de dólares, sin embargo, existen algunos montos que superan los cinco millones, como lo es el máximo, el cual es de $5,850,00$. De está situación observamos otra cuestión que resulta interesante y que contrasta con uno de los supuestos planteados, y es que existen **montos solicitados** iguales a 0. A pesar de que no nos interesan para nuestra análisis, si se puede derivar un análisis particular del mismo."
   ]
  },
  {
   "cell_type": "code",
   "execution_count": 6,
   "metadata": {
    "scrolled": true
   },
   "outputs": [
    {
     "name": "stdout",
     "output_type": "stream",
     "text": [
      "El caso particular, representa un: 4.226403794325899% del total de la muestra.\n"
     ]
    },
    {
     "data": {
      "text/html": [
       "<div>\n",
       "<style scoped>\n",
       "    .dataframe tbody tr th:only-of-type {\n",
       "        vertical-align: middle;\n",
       "    }\n",
       "\n",
       "    .dataframe tbody tr th {\n",
       "        vertical-align: top;\n",
       "    }\n",
       "\n",
       "    .dataframe thead th {\n",
       "        text-align: right;\n",
       "    }\n",
       "</style>\n",
       "<table border=\"1\" class=\"dataframe\">\n",
       "  <thead>\n",
       "    <tr style=\"text-align: right;\">\n",
       "      <th></th>\n",
       "      <th>SK_ID_CURR</th>\n",
       "      <th>NAME_CONTRACT_TYPE</th>\n",
       "      <th>AMT_APPLICATION</th>\n",
       "      <th>AMT_CREDIT</th>\n",
       "      <th>WEEKDAY_APPR_PROCESS_START</th>\n",
       "      <th>NAME_CASH_LOAN_PURPOSE</th>\n",
       "      <th>NAME_CLIENT_TYPE</th>\n",
       "      <th>NAME_GOODS_CATEGORY</th>\n",
       "      <th>NAME_PORTFOLIO</th>\n",
       "      <th>CHANNEL_TYPE</th>\n",
       "    </tr>\n",
       "  </thead>\n",
       "  <tbody>\n",
       "    <tr>\n",
       "      <th>54</th>\n",
       "      <td>120854</td>\n",
       "      <td>Revolving loans</td>\n",
       "      <td>0.0</td>\n",
       "      <td>675000.0</td>\n",
       "      <td>THURSDAY</td>\n",
       "      <td>XAP</td>\n",
       "      <td>Repeater</td>\n",
       "      <td>XNA</td>\n",
       "      <td>Cards</td>\n",
       "      <td>Credit and cash offices</td>\n",
       "    </tr>\n",
       "    <tr>\n",
       "      <th>75</th>\n",
       "      <td>276237</td>\n",
       "      <td>Revolving loans</td>\n",
       "      <td>0.0</td>\n",
       "      <td>450000.0</td>\n",
       "      <td>TUESDAY</td>\n",
       "      <td>XAP</td>\n",
       "      <td>Repeater</td>\n",
       "      <td>XNA</td>\n",
       "      <td>Cards</td>\n",
       "      <td>Country-wide</td>\n",
       "    </tr>\n",
       "    <tr>\n",
       "      <th>215</th>\n",
       "      <td>449030</td>\n",
       "      <td>Revolving loans</td>\n",
       "      <td>0.0</td>\n",
       "      <td>180000.0</td>\n",
       "      <td>SUNDAY</td>\n",
       "      <td>XAP</td>\n",
       "      <td>Repeater</td>\n",
       "      <td>XNA</td>\n",
       "      <td>Cards</td>\n",
       "      <td>Country-wide</td>\n",
       "    </tr>\n",
       "    <tr>\n",
       "      <th>222</th>\n",
       "      <td>323651</td>\n",
       "      <td>Revolving loans</td>\n",
       "      <td>0.0</td>\n",
       "      <td>270000.0</td>\n",
       "      <td>TUESDAY</td>\n",
       "      <td>XAP</td>\n",
       "      <td>Repeater</td>\n",
       "      <td>XNA</td>\n",
       "      <td>Cards</td>\n",
       "      <td>AP+ (Cash loan)</td>\n",
       "    </tr>\n",
       "    <tr>\n",
       "      <th>256</th>\n",
       "      <td>263634</td>\n",
       "      <td>Revolving loans</td>\n",
       "      <td>0.0</td>\n",
       "      <td>765000.0</td>\n",
       "      <td>MONDAY</td>\n",
       "      <td>XAP</td>\n",
       "      <td>Repeater</td>\n",
       "      <td>XNA</td>\n",
       "      <td>Cards</td>\n",
       "      <td>Credit and cash offices</td>\n",
       "    </tr>\n",
       "  </tbody>\n",
       "</table>\n",
       "</div>"
      ],
      "text/plain": [
       "     SK_ID_CURR NAME_CONTRACT_TYPE  AMT_APPLICATION  AMT_CREDIT  \\\n",
       "54       120854    Revolving loans              0.0    675000.0   \n",
       "75       276237    Revolving loans              0.0    450000.0   \n",
       "215      449030    Revolving loans              0.0    180000.0   \n",
       "222      323651    Revolving loans              0.0    270000.0   \n",
       "256      263634    Revolving loans              0.0    765000.0   \n",
       "\n",
       "    WEEKDAY_APPR_PROCESS_START NAME_CASH_LOAN_PURPOSE NAME_CLIENT_TYPE  \\\n",
       "54                    THURSDAY                    XAP         Repeater   \n",
       "75                     TUESDAY                    XAP         Repeater   \n",
       "215                     SUNDAY                    XAP         Repeater   \n",
       "222                    TUESDAY                    XAP         Repeater   \n",
       "256                     MONDAY                    XAP         Repeater   \n",
       "\n",
       "    NAME_GOODS_CATEGORY NAME_PORTFOLIO             CHANNEL_TYPE  \n",
       "54                  XNA          Cards  Credit and cash offices  \n",
       "75                  XNA          Cards             Country-wide  \n",
       "215                 XNA          Cards             Country-wide  \n",
       "222                 XNA          Cards          AP+ (Cash loan)  \n",
       "256                 XNA          Cards  Credit and cash offices  "
      ]
     },
     "execution_count": 6,
     "metadata": {},
     "output_type": "execute_result"
    }
   ],
   "source": [
    "# Definimos caso particular. Monto de aplicación igual a 0.\n",
    "data_particular = data[data['AMT_APPLICATION']==0]\n",
    "print(f'El caso particular, representa un: {(len(data_particular) / len(data))*100}% del total de la muestra.')\n",
    "data_particular.head()"
   ]
  },
  {
   "cell_type": "markdown",
   "metadata": {},
   "source": [
    "Como podemos observar, este conjunto de datos representan aproximadamente un $4.23\\%$ de la muestra. Por lo tanto su eliminación del análisis principal no afectará a los objetivos inicialmente planteados. Ahora, para analizar este caso particular, las variables que nos interesa observar a partir del nuevo subconjunto de datos serán el **tipo de contrato**, **tipo de instrumento**, **categoria de gasto**, **tipo de cliente** y **monto aprobado**."
   ]
  },
  {
   "cell_type": "code",
   "execution_count": 7,
   "metadata": {},
   "outputs": [
    {
     "data": {
      "text/plain": [
       "Revolving loans    43753\n",
       "Name: NAME_CONTRACT_TYPE, dtype: int64"
      ]
     },
     "execution_count": 7,
     "metadata": {},
     "output_type": "execute_result"
    }
   ],
   "source": [
    "# Observamos el tipo de contrato.\n",
    "data_particular.NAME_CONTRACT_TYPE.value_counts()"
   ]
  },
  {
   "cell_type": "markdown",
   "metadata": {},
   "source": [
    "Se observa que el tipo de contrato que se da en estos casos, solo corresponde a un **préstamo revolvente**, siendo que este abarca la totalidad de la muestra."
   ]
  },
  {
   "cell_type": "code",
   "execution_count": 8,
   "metadata": {},
   "outputs": [
    {
     "data": {
      "text/plain": [
       "Cards    43753\n",
       "Name: NAME_PORTFOLIO, dtype: int64"
      ]
     },
     "execution_count": 8,
     "metadata": {},
     "output_type": "execute_result"
    }
   ],
   "source": [
    "# Observamos el tipo de instrumento utilizado.\n",
    "data_particular.NAME_PORTFOLIO.value_counts()"
   ]
  },
  {
   "cell_type": "markdown",
   "metadata": {},
   "source": [
    "Para el caso del instrumento otorgado, vemos nuevamente que existe solo uno, las **tarjetas de crédito**."
   ]
  },
  {
   "cell_type": "code",
   "execution_count": 9,
   "metadata": {},
   "outputs": [
    {
     "data": {
      "text/plain": [
       "XNA    43753\n",
       "Name: NAME_GOODS_CATEGORY, dtype: int64"
      ]
     },
     "execution_count": 9,
     "metadata": {},
     "output_type": "execute_result"
    }
   ],
   "source": [
    "# Observamos la categoria de gasto de la línea.\n",
    "data_particular.NAME_GOODS_CATEGORY.value_counts()"
   ]
  },
  {
   "cell_type": "markdown",
   "metadata": {},
   "source": [
    "En el caso de la categoría de gasto observamos que solo existe una, **XNA** la cual representa una ausencia de valor. Con esto podemos deducir que estas líneas de crédito no informan la categoria de bienes adquiridos, o al menos esta información pareciera no resultar determinante para la institución."
   ]
  },
  {
   "cell_type": "code",
   "execution_count": 10,
   "metadata": {},
   "outputs": [
    {
     "data": {
      "text/plain": [
       "Repeater     39912\n",
       "Refreshed     3627\n",
       "New            214\n",
       "Name: NAME_CLIENT_TYPE, dtype: int64"
      ]
     },
     "execution_count": 10,
     "metadata": {},
     "output_type": "execute_result"
    }
   ],
   "source": [
    "# Observamos el tipo de cliente.\n",
    "data_particular.NAME_CLIENT_TYPE.value_counts()"
   ]
  },
  {
   "cell_type": "markdown",
   "metadata": {},
   "source": [
    "En esta variable encontramos otra cuestión interesante, y es que la mayoría de personas con este tipo particular de crédito o son clientes, o lo llegaron a ser en algun momento. Esto se representa en casi todos los casos, donde solo $214$ clientes fueron nuevos para la institución. Esto nos da pauta a pensar que este tipo de líneas no se otorgan a cualquier cliente, probablemente sea una línea preferencial."
   ]
  },
  {
   "cell_type": "code",
   "execution_count": 11,
   "metadata": {},
   "outputs": [
    {
     "name": "stdout",
     "output_type": "stream",
     "text": [
      "El valor mínimo del monto de aprobación es de: $22500\n",
      "El valor máximo del monto de aprobación es de: $1350000\n"
     ]
    },
    {
     "data": {
      "image/png": "[encoded data removed]",
      "text/plain": [
       "<Figure size 432x288 with 1 Axes>"
      ]
     },
     "metadata": {
      "needs_background": "light"
     },
     "output_type": "display_data"
    }
   ],
   "source": [
    "# Visualizamos rápidamente, con un histograma el monto aprobado.\n",
    "sns.histplot(data_particular.AMT_CREDIT, color='y', bins=10);\n",
    "print(f'El valor mínimo del monto de aprobación es de: ${int(min(data_particular.AMT_CREDIT))}')\n",
    "print(f'El valor máximo del monto de aprobación es de: ${int(max(data_particular.AMT_CREDIT))}')"
   ]
  },
  {
   "cell_type": "markdown",
   "metadata": {},
   "source": [
    "En el caso del **monto aprobado** observamos que las cantidades oscilan entre $\\$22,500$ y $\\$1,350,000$. Tomando en cuenta que el máximo monto registrado en el dataset ronda los seis millones, podemos decir que este tipo de líneas de crédito no se caracterizan por ser altas.\n",
    "\n",
    "Entonces con todo lo antes mencionado podemos definir las carácteristicas de este caso particular, donde el **monto solicitado** del crédito es igual a 0, es decir, la institución otorga estas líneas sin que exista una prevía solicitud por parte de un cliente:\n",
    "\n",
    "- Es específico a una línea de crédito conocidad como **crédito revolvente**.\n",
    "- El instrumento que se otorga para ejercer la línea es exclusivamente la **tarjeta de crédito**.\n",
    "- Los bienes adquiridos, no representan o al menos no son del interés de la institución financiera.\n",
    "- El tipo de cliente al cual están dirigidas estas líneas es en su mayoría para aquellos que ya tienen un historial con la institución.\n",
    "- Los montos de estas líneas de crédito son más bajos, respecto a otro tipo de solicitudes."
   ]
  },
  {
   "cell_type": "code",
   "execution_count": 12,
   "metadata": {
    "scrolled": true
   },
   "outputs": [
    {
     "data": {
      "text/html": [
       "<div>\n",
       "<style scoped>\n",
       "    .dataframe tbody tr th:only-of-type {\n",
       "        vertical-align: middle;\n",
       "    }\n",
       "\n",
       "    .dataframe tbody tr th {\n",
       "        vertical-align: top;\n",
       "    }\n",
       "\n",
       "    .dataframe thead th {\n",
       "        text-align: right;\n",
       "    }\n",
       "</style>\n",
       "<table border=\"1\" class=\"dataframe\">\n",
       "  <thead>\n",
       "    <tr style=\"text-align: right;\">\n",
       "      <th></th>\n",
       "      <th>SK_ID_CURR</th>\n",
       "      <th>NAME_CONTRACT_TYPE</th>\n",
       "      <th>AMT_APPLICATION</th>\n",
       "      <th>AMT_CREDIT</th>\n",
       "      <th>WEEKDAY_APPR_PROCESS_START</th>\n",
       "      <th>NAME_CASH_LOAN_PURPOSE</th>\n",
       "      <th>NAME_CLIENT_TYPE</th>\n",
       "      <th>NAME_GOODS_CATEGORY</th>\n",
       "      <th>NAME_PORTFOLIO</th>\n",
       "      <th>CHANNEL_TYPE</th>\n",
       "    </tr>\n",
       "  </thead>\n",
       "  <tbody>\n",
       "    <tr>\n",
       "      <th>0</th>\n",
       "      <td>271877</td>\n",
       "      <td>Consumer loans</td>\n",
       "      <td>17145.0</td>\n",
       "      <td>17145.0</td>\n",
       "      <td>SATURDAY</td>\n",
       "      <td>XAP</td>\n",
       "      <td>Repeater</td>\n",
       "      <td>Mobile</td>\n",
       "      <td>POS</td>\n",
       "      <td>Country-wide</td>\n",
       "    </tr>\n",
       "    <tr>\n",
       "      <th>1</th>\n",
       "      <td>108129</td>\n",
       "      <td>Cash loans</td>\n",
       "      <td>607500.0</td>\n",
       "      <td>679671.0</td>\n",
       "      <td>THURSDAY</td>\n",
       "      <td>XNA</td>\n",
       "      <td>Repeater</td>\n",
       "      <td>XNA</td>\n",
       "      <td>Cash</td>\n",
       "      <td>Contact center</td>\n",
       "    </tr>\n",
       "    <tr>\n",
       "      <th>2</th>\n",
       "      <td>122040</td>\n",
       "      <td>Cash loans</td>\n",
       "      <td>112500.0</td>\n",
       "      <td>136444.5</td>\n",
       "      <td>TUESDAY</td>\n",
       "      <td>XNA</td>\n",
       "      <td>Repeater</td>\n",
       "      <td>XNA</td>\n",
       "      <td>Cash</td>\n",
       "      <td>Credit and cash offices</td>\n",
       "    </tr>\n",
       "    <tr>\n",
       "      <th>3</th>\n",
       "      <td>176158</td>\n",
       "      <td>Cash loans</td>\n",
       "      <td>450000.0</td>\n",
       "      <td>470790.0</td>\n",
       "      <td>MONDAY</td>\n",
       "      <td>XNA</td>\n",
       "      <td>Repeater</td>\n",
       "      <td>XNA</td>\n",
       "      <td>Cash</td>\n",
       "      <td>Credit and cash offices</td>\n",
       "    </tr>\n",
       "    <tr>\n",
       "      <th>4</th>\n",
       "      <td>199383</td>\n",
       "      <td>Cash loans</td>\n",
       "      <td>315000.0</td>\n",
       "      <td>340573.5</td>\n",
       "      <td>SATURDAY</td>\n",
       "      <td>Everyday expenses</td>\n",
       "      <td>Repeater</td>\n",
       "      <td>XNA</td>\n",
       "      <td>Cash</td>\n",
       "      <td>Credit and cash offices</td>\n",
       "    </tr>\n",
       "  </tbody>\n",
       "</table>\n",
       "</div>"
      ],
      "text/plain": [
       "   SK_ID_CURR NAME_CONTRACT_TYPE  AMT_APPLICATION  AMT_CREDIT  \\\n",
       "0      271877     Consumer loans          17145.0     17145.0   \n",
       "1      108129         Cash loans         607500.0    679671.0   \n",
       "2      122040         Cash loans         112500.0    136444.5   \n",
       "3      176158         Cash loans         450000.0    470790.0   \n",
       "4      199383         Cash loans         315000.0    340573.5   \n",
       "\n",
       "  WEEKDAY_APPR_PROCESS_START NAME_CASH_LOAN_PURPOSE NAME_CLIENT_TYPE  \\\n",
       "0                   SATURDAY                    XAP         Repeater   \n",
       "1                   THURSDAY                    XNA         Repeater   \n",
       "2                    TUESDAY                    XNA         Repeater   \n",
       "3                     MONDAY                    XNA         Repeater   \n",
       "4                   SATURDAY      Everyday expenses         Repeater   \n",
       "\n",
       "  NAME_GOODS_CATEGORY NAME_PORTFOLIO             CHANNEL_TYPE  \n",
       "0              Mobile            POS             Country-wide  \n",
       "1                 XNA           Cash           Contact center  \n",
       "2                 XNA           Cash  Credit and cash offices  \n",
       "3                 XNA           Cash  Credit and cash offices  \n",
       "4                 XNA           Cash  Credit and cash offices  "
      ]
     },
     "execution_count": 12,
     "metadata": {},
     "output_type": "execute_result"
    }
   ],
   "source": [
    "# Ya con el caso particular descrito, nos quedamos exclusivamente con los montos solicitados mayores a 0.\n",
    "data = data[data['AMT_APPLICATION'] !=0]\n",
    "data.head()"
   ]
  },
  {
   "cell_type": "markdown",
   "metadata": {},
   "source": [
    "Ahora ya con un exploratorio de datos más completo, comenzamos con la simulación correspondiente a los nodos descritos en el objetivo principal."
   ]
  },
  {
   "cell_type": "markdown",
   "metadata": {},
   "source": [
    "## `Nodo: Canal de venta`."
   ]
  },
  {
   "cell_type": "markdown",
   "metadata": {},
   "source": [
    "### `Visualización de datos`."
   ]
  },
  {
   "cell_type": "code",
   "execution_count": 108,
   "metadata": {},
   "outputs": [
    {
     "data": {
      "text/plain": [
       "array(['Country-wide', 'Contact center', 'Credit and cash offices',\n",
       "       'Stone', 'Regional / Local', 'AP+ (Cash loan)', 'Car dealer',\n",
       "       'Channel of corporate sales'], dtype=object)"
      ]
     },
     "execution_count": 108,
     "metadata": {},
     "output_type": "execute_result"
    }
   ],
   "source": [
    "# Datos del canal de venta.\n",
    "data['CHANNEL_TYPE'].unique()"
   ]
  },
  {
   "cell_type": "markdown",
   "metadata": {},
   "source": [
    "Al observar nuestras categorías de canal de venta, vemos que tenemos valores tipo \"string\". Con la intención de trabajar de una manera más cómoda, lo que haremos será transformar los valores únicos tipo \"string\" por valores numéricos.\n",
    "\n",
    "Estos estarán categorizados de manera que en el dominio de la frecuencia nos permitan observar alguna distribución de probabilidad que sea más moldeable."
   ]
  },
  {
   "cell_type": "code",
   "execution_count": 111,
   "metadata": {},
   "outputs": [
    {
     "data": {
      "text/plain": [
       "0    0\n",
       "1    5\n",
       "2    1\n",
       "3    1\n",
       "4    1\n",
       "Name: CHANNEL_TYPE, dtype: int64"
      ]
     },
     "execution_count": 111,
     "metadata": {},
     "output_type": "execute_result"
    }
   ],
   "source": [
    "# Categorización de lo datos.\n",
    "data['CHANNEL_TYPE']=data['CHANNEL_TYPE'].replace('Country-wide',0)\n",
    "data['CHANNEL_TYPE']=data['CHANNEL_TYPE'].replace('Contact center',5)\n",
    "data['CHANNEL_TYPE']=data['CHANNEL_TYPE'].replace('Credit and cash offices',1)\n",
    "data['CHANNEL_TYPE']=data['CHANNEL_TYPE'].replace('Stone',2)\n",
    "data['CHANNEL_TYPE']=data['CHANNEL_TYPE'].replace('Regional / Local',3)\n",
    "data['CHANNEL_TYPE']=data['CHANNEL_TYPE'].replace('AP+ (Cash loan)',4)\n",
    "data['CHANNEL_TYPE']=data['CHANNEL_TYPE'].replace('Car dealer',7)\n",
    "data['CHANNEL_TYPE']=data['CHANNEL_TYPE'].replace('Channel of corporate sales',6)\n",
    "data['CHANNEL_TYPE'].head()"
   ]
  },
  {
   "cell_type": "code",
   "execution_count": 112,
   "metadata": {},
   "outputs": [
    {
     "data": {
      "image/png": "[encoded data removed]",
      "text/plain": [
       "<Figure size 432x288 with 1 Axes>"
      ]
     },
     "metadata": {
      "needs_background": "light"
     },
     "output_type": "display_data"
    }
   ],
   "source": [
    "# Visualizando nuestros datos.\n",
    "sns.boxplot(x=data['CHANNEL_TYPE'], saturation=.5, color='r');"
   ]
  },
  {
   "cell_type": "markdown",
   "metadata": {},
   "source": [
    "En nuestro **Boxplot**, podemos observar que el primer cuartil de nuestros datos pertenecen a la categoria 0 la cual representa  el canal _Country-wide_.\n",
    "\n",
    "En el segundo cuartil, es decir la media de nuestros datos se encuentra en la categoria 1 la cual representa el canal _Credit and cash offices_.\n",
    "\n",
    "En nuestro tercer cuartil podemos observar que los datos se encuentran en la categoria 2 la cual representa el canal _Stone_.\n",
    "\n",
    "Por último nuestro rango intercuartilico llega hasta la categoría 5  _Contact center_ mientrás que la categoría 6 _Channel of corporate sales_ y la categoría 7 _Car dearler_ salen del rango intercuartílico y se pueden llegar a considerarse outliers."
   ]
  },
  {
   "cell_type": "code",
   "execution_count": 113,
   "metadata": {},
   "outputs": [
    {
     "data": {
      "image/png": "[encoded data removed]",
      "text/plain": [
       "<Figure size 432x288 with 1 Axes>"
      ]
     },
     "metadata": {
      "needs_background": "light"
     },
     "output_type": "display_data"
    }
   ],
   "source": [
    "# Histograma de nuestros datos de canal de venta.\n",
    "sns.histplot(data['CHANNEL_TYPE'], color='y', bins=8);"
   ]
  },
  {
   "cell_type": "code",
   "execution_count": 114,
   "metadata": {},
   "outputs": [],
   "source": [
    "#Generamos una muestra de 10000 proveniente de nuestros datos originales.\n",
    "n = 10000\n",
    "channel = data['CHANNEL_TYPE'].sample(n)"
   ]
  },
  {
   "cell_type": "code",
   "execution_count": 115,
   "metadata": {
    "scrolled": true
   },
   "outputs": [
    {
     "data": {
      "image/png": "[encoded data removed]",
      "text/plain": [
       "<Figure size 432x288 with 1 Axes>"
      ]
     },
     "metadata": {
      "needs_background": "light"
     },
     "output_type": "display_data"
    }
   ],
   "source": [
    "# Histograma de la muestra.\n",
    "sns.histplot(channel, color='r', bins=8).set_title('Muestra de Canal de Venta');"
   ]
  },
  {
   "cell_type": "markdown",
   "metadata": {},
   "source": [
    "A simple vista podemos observar que con una muestra de $10,000$ valores, masomenos podemos representar de buena manera nuestra distribución original. Con el fin de eficientar costos computacionales, trabajaremos sobre esta muestra significativa al **Canal de Venta**."
   ]
  },
  {
   "cell_type": "code",
   "execution_count": 116,
   "metadata": {},
   "outputs": [
    {
     "data": {
      "image/png": "[encoded data removed]",
      "text/plain": [
       "<Figure size 432x288 with 1 Axes>"
      ]
     },
     "metadata": {
      "needs_background": "light"
     },
     "output_type": "display_data"
    }
   ],
   "source": [
    "# Boxplot de la muestra.\n",
    "sns.boxplot(x=channel, saturation=.5, color='r');"
   ]
  },
  {
   "cell_type": "markdown",
   "metadata": {},
   "source": [
    "Nuevamente con el **Boxplot** reiteramos lo anterior. La muestra sí es significativa y representa el comportamiento de la distribución real."
   ]
  },
  {
   "cell_type": "markdown",
   "metadata": {},
   "source": [
    "### `Kernel Density Estimation`."
   ]
  },
  {
   "cell_type": "markdown",
   "metadata": {},
   "source": [
    "Lo que sigue a continuación será estimar un **Kernel Density Estimation** (**KDE**) para nuestro conjunto de datos.\n",
    "\n",
    "Para el desarrollo de esta parte tenemos diferentes librerías que nos ayudan a realizar un **KDE**, sin embargo, tomando en cuenta las características de nuestros datos (univariados) y además debido al algoritmo de la Transformada Rápida de Fourier (**FFT**), el cual disminuye los costos computacionales de un problema de tamaño $N$ a un tamaño $N\\text{log}_{2}N$ \n",
    "\n",
    "Esto se encuentra programado en la librería _Statsmodels KDEUnivariate_. Por lo tanto utilizaremos esta estimación para este apartado."
   ]
  },
  {
   "cell_type": "code",
   "execution_count": 117,
   "metadata": {},
   "outputs": [],
   "source": [
    "# Semilla\n",
    "np.random.seed(4555)"
   ]
  },
  {
   "cell_type": "code",
   "execution_count": 118,
   "metadata": {},
   "outputs": [],
   "source": [
    "# Definimos función. Regresa la evaluación de la pdf.\n",
    "def kde_statsmodels_u(x, x_grid, **kwargs):\n",
    "    \"\"\"Univariate Kernel Density Estimation with Statsmodels\"\"\"\n",
    "    kde = KDEUnivariate(x)\n",
    "    kde.fit(bw='normal_reference', **kwargs)\n",
    "    return kde.evaluate(x_grid)"
   ]
  },
  {
   "cell_type": "code",
   "execution_count": 119,
   "metadata": {},
   "outputs": [
    {
     "data": {
      "image/png": "[encoded data removed]",
      "text/plain": [
       "<Figure size 432x288 with 1 Axes>"
      ]
     },
     "metadata": {
      "needs_background": "light"
     },
     "output_type": "display_data"
    },
    {
     "name": "stdout",
     "output_type": "stream",
     "text": [
      "El bandwidth óptimo es de: 0.2146027042141205\n"
     ]
    }
   ],
   "source": [
    "# Definición del modelo para encontar la distribución\n",
    "kde_univariate = KDEUnivariate(channel)\n",
    "\n",
    "# Histograma de nuestros datos discretos.\n",
    "y,x,_=plt.hist(channel,bins=8,density=True,label='data') # en un hist puedo almacenar y,x\n",
    "x = x[1:]\n",
    "\n",
    "# dominio de la función\n",
    "x_grid = np.arange(0,8,1)\n",
    "# Guardamos el bw óptimo para este modelo\n",
    "bw_op = kde_univariate.fit(bw='normal_reference').bw\n",
    "\n",
    "#error\n",
    "y_hat = kde_statsmodels_u(channel, x_grid)\n",
    "err0 = ((y-y_hat)**2).sum()\n",
    "\n",
    "# Graficamos la distribución junto con la estimación.\n",
    "plt.plot(x_grid,kde_statsmodels_u(channel, x_grid))\n",
    "plt.hist(channel,bins=8,density=True)\n",
    "plt.title('KDE univariate')\n",
    "plt.show()\n",
    "print(f'El bandwidth óptimo es de: {bw_op}')"
   ]
  },
  {
   "cell_type": "markdown",
   "metadata": {},
   "source": [
    "Con la intención de hacer una comparación del ajuste de nuestro **KDE**, respecto a nuestros datos reales, lo que haremos será comparar su aproximación a través de una métrica de error, en este caso particular utilizaremos el **SSE** como referencia."
   ]
  },
  {
   "cell_type": "code",
   "execution_count": 120,
   "metadata": {},
   "outputs": [
    {
     "name": "stdout",
     "output_type": "stream",
     "text": [
      "El error de la suma de la resta de cuadrados que se obtuvo entre nuestro KDE y la distribución real es de: 0.0577\n"
     ]
    }
   ],
   "source": [
    "# Definimos nuestro kde en una función.\n",
    "f_uni_kde_d = lambda x: kde_univariate.evaluate(x)\n",
    "\n",
    "# Definimos métrica de error.\n",
    "# Almacenamos la distribución real.\n",
    "y_real, x_real = np.histogram(data['CHANNEL_TYPE'], bins=8, density=True)\n",
    "x_real = x_real[1:]\n",
    "\n",
    "# Definimos la distribución generada por el KDE.\n",
    "y_est = f_uni_kde_d(x_real)\n",
    "\n",
    "# Calculamos el error.\n",
    "error_kde =((y_real-y_est)**2).sum()\n",
    "print(f'El error de la suma de la resta de cuadrados que se obtuvo entre nuestro KDE y la distribución real es de: {((error_kde)).round(4)}')"
   ]
  },
  {
   "cell_type": "markdown",
   "metadata": {},
   "source": [
    "Observamos que el error de aproximación ronda en el $6\\%$, sin embargo, visualmente no parece representar de buena manera la distribución real de los datos."
   ]
  },
  {
   "cell_type": "markdown",
   "metadata": {},
   "source": [
    "### `Buscando PDF´s`."
   ]
  },
  {
   "cell_type": "markdown",
   "metadata": {},
   "source": [
    "Debido a los resultados que obtuvimos al estimar el kernel, donde pudimos observar\n",
    "que la pdf estimada parecía una exponencial decidimos utilizar la función de probabilidad continua de probabilidad exponencial para contrastar."
   ]
  },
  {
   "cell_type": "code",
   "execution_count": 121,
   "metadata": {
    "scrolled": true
   },
   "outputs": [
    {
     "data": {
      "text/html": [
       "<div>\n",
       "<style scoped>\n",
       "    .dataframe tbody tr th:only-of-type {\n",
       "        vertical-align: middle;\n",
       "    }\n",
       "\n",
       "    .dataframe tbody tr th {\n",
       "        vertical-align: top;\n",
       "    }\n",
       "\n",
       "    .dataframe thead th {\n",
       "        text-align: right;\n",
       "    }\n",
       "</style>\n",
       "<table border=\"1\" class=\"dataframe\">\n",
       "  <thead>\n",
       "    <tr style=\"text-align: right;\">\n",
       "      <th></th>\n",
       "      <th>error</th>\n",
       "    </tr>\n",
       "  </thead>\n",
       "  <tbody>\n",
       "    <tr>\n",
       "      <th>expon</th>\n",
       "      <td>0.0469</td>\n",
       "    </tr>\n",
       "  </tbody>\n",
       "</table>\n",
       "</div>"
      ],
      "text/plain": [
       "        error\n",
       "expon  0.0469"
      ]
     },
     "execution_count": 121,
     "metadata": {},
     "output_type": "execute_result"
    },
    {
     "data": {
      "image/png": "[encoded data removed]",
      "text/plain": [
       "<Figure size 432x288 with 1 Axes>"
      ]
     },
     "metadata": {
      "needs_background": "light"
     },
     "output_type": "display_data"
    }
   ],
   "source": [
    "# A fin de comparar. Visualizamos nuestros datos respecto a una distribución exponencial continua.\n",
    "plt.hist(channel,bins=8,density=True,label='data')\n",
    "\n",
    "error = pd.DataFrame(index=['expon'], columns=['error'])\n",
    "\n",
    "params = st.expon.fit(channel)\n",
    "y_hat = st.expon.pdf(x_real)\n",
    "error['error']=((y-y_hat)**2).sum() #SSE\n",
    "\n",
    "plt.title('PDF exponencial')\n",
    "plt.plot(x_real,y_hat,label='')\n",
    "plt.legend()\n",
    "error "
   ]
  },
  {
   "cell_type": "markdown",
   "metadata": {},
   "source": [
    "Ahora, con la intención de encontrar distribuciones de probabilidad existentes a nuestro conjunto de datos, realizaremos el test de ajuste con **Kolmogorov-Smirnov**. Este método lo que hace es determinar la bondad de ajuste de dos distribuciones de probabilidad entre sí. En nuestro caso una de ellas será el **Canal de Venta** y la otra será la que estaremos variando.\n",
    "\n",
    "Para conocer que tan buenos es el ajuste de la distribución exponencial que hemos hecho aplicamos la prueba **Kolmogorov-Smirnov**.\n",
    "\n",
    "Definimos un nivel de significancia ${\\alpha} = 0.01$. Por lo tanto queremos un nivel de confianza  $1-{\\alpha} = 99\\%$.\n",
    "\n",
    "$H_{0}$: Nuestro conjunto de datos sigue una distribución Exponencial.\n",
    "\n",
    "$H_{a}$: Nuestro conjunto de datos NO sigue una distribución Exponencial.\n",
    "\n",
    "Si el \"p-value\" es menor que ${\\alpha}$ se rechaza $H_{0}$.\n",
    "\n",
    "Si el \"p-value\" es mayor que el nivel de significancia no se puede rechazar $H_{0}$."
   ]
  },
  {
   "cell_type": "code",
   "execution_count": 122,
   "metadata": {},
   "outputs": [
    {
     "data": {
      "text/plain": [
       "KstestResult(statistic=0.48508678585912324, pvalue=0.0)"
      ]
     },
     "execution_count": 122,
     "metadata": {},
     "output_type": "execute_result"
    }
   ],
   "source": [
    "# Prueba de Kolmogorov-Smirnov para la distribución exponencial.\n",
    "st.kstest(channel,lambda x: st.expon.cdf(x,(1/np.mean(channel)),(1/np.mean(channel)**2)))"
   ]
  },
  {
   "cell_type": "markdown",
   "metadata": {},
   "source": [
    "El \"p-value\" resultó menor que ${\\alpha}$ por lo tanto se rechaza ${H_{0}}$."
   ]
  },
  {
   "cell_type": "markdown",
   "metadata": {},
   "source": [
    "### `Prueba de bondad y ajuste con chi cuadrada`"
   ]
  },
  {
   "cell_type": "markdown",
   "metadata": {},
   "source": [
    "Ya que observamos que la _Distribución Exponencial_ no se ajusta a nuestro conjunto de datos, lo que haremos será ajustarlo para distribuciones discretas.\n",
    "\n",
    "Decidimos utilizar las siguientes funciones discretas para realizar el test de prueba de bondad y ajuste con chi cuadrada.\n",
    "\n",
    "1. Poisson\n",
    "2. Binomial\n",
    "3. Geometrica"
   ]
  },
  {
   "cell_type": "markdown",
   "metadata": {},
   "source": [
    "**Distirbución Binomial**"
   ]
  },
  {
   "cell_type": "markdown",
   "metadata": {},
   "source": [
    "**Formulación de hipótesis**\n",
    "\n",
    "$H_{0}$: Nuestro conjunto de datos tienen una distribución binomial.\n",
    "\n",
    "$H_{a}$: Nuestro conjunto de datos no sigue una distribución binomial."
   ]
  },
  {
   "cell_type": "markdown",
   "metadata": {},
   "source": [
    "**Plan de análisis.**\n",
    "\n",
    "Para este análisis nuestro nivel de significancia  es 5%.\n",
    "\n",
    "Por lo tanto nuestro nivel de confianza es del 95%.\n",
    "\n",
    "${\\alpha} = 0.05$\n",
    "\n",
    "$1-{\\alpha} = 0.95$"
   ]
  },
  {
   "cell_type": "markdown",
   "metadata": {},
   "source": [
    "**Generación de datos**\n",
    "\n",
    "Como muestra observada utilizamos los \"_counts_\" del histograma de la muestra tomada de nuestro conjunto de datos original.\n",
    "\n",
    "Como muestra esperada utilizamos los \"_counts_\" del histograma de una muestra que se distribuya de manera binomial."
   ]
  },
  {
   "cell_type": "code",
   "execution_count": 123,
   "metadata": {},
   "outputs": [],
   "source": [
    "# Parametros para la distribución binomial\n",
    "n, p = 8,.1452\n",
    "\n",
    "# Muestra binomial\n",
    "bi = st.binom.rvs(n,p,size=10000)"
   ]
  },
  {
   "cell_type": "code",
   "execution_count": 124,
   "metadata": {},
   "outputs": [
    {
     "data": {
      "image/png": "[encoded data removed]",
      "text/plain": [
       "<Figure size 432x288 with 1 Axes>"
      ]
     },
     "metadata": {
      "needs_background": "light"
     },
     "output_type": "display_data"
    }
   ],
   "source": [
    "# Graficamos las distribuciones \n",
    "plt.title('Muestra Binomial vs Muestra Original')\n",
    "y2,x2,_=plt.hist(bi,bins=8,label='Binomial')\n",
    "y1,x1,_=plt.hist(channel,bins=8,label='Original')\n",
    "plt.legend()\n",
    "plt.show()"
   ]
  },
  {
   "cell_type": "code",
   "execution_count": 125,
   "metadata": {},
   "outputs": [
    {
     "data": {
      "text/plain": [
       "Power_divergenceResult(statistic=3609.222329264791, pvalue=0.0)"
      ]
     },
     "execution_count": 125,
     "metadata": {},
     "output_type": "execute_result"
    }
   ],
   "source": [
    "warnings.filterwarnings(\"ignore\")\n",
    "# Realizamos la prueba de bondad y ajuste.\n",
    "chi_bin = st.chisquare(f_obs=y1,f_exp=y2)\n",
    "chi_bin"
   ]
  },
  {
   "cell_type": "markdown",
   "metadata": {},
   "source": [
    "El \"p-value\" resulto menor que ${\\alpha}$ por lo tanto se rechaza ${H_{0}}$"
   ]
  },
  {
   "cell_type": "markdown",
   "metadata": {},
   "source": [
    "**Distribución de Poisson**."
   ]
  },
  {
   "cell_type": "markdown",
   "metadata": {},
   "source": [
    "**Formulación de hipótesis**\n",
    "\n",
    "$H_{0}$: Nuestro conjunto de datos tienen una distribución de Poisson.\n",
    "\n",
    "$H_{a}$: Nuestro conjunto de datos no sigue una distribución de Poisson."
   ]
  },
  {
   "cell_type": "markdown",
   "metadata": {},
   "source": [
    "**Plan de análisis.**\n",
    "\n",
    "Para este análisis nuestro nivel de significancia  es 5%.\n",
    "\n",
    "Por lo tanto nuestro nivel de confianza es del 95%.\n",
    "\n",
    "${\\alpha} = 0.05$\n",
    "\n",
    "$1-{\\alpha} = 0.95$"
   ]
  },
  {
   "cell_type": "markdown",
   "metadata": {},
   "source": [
    "**Generación de datos**\n",
    "\n",
    "Como muestra observada utilizamos los \"_counts_\" del histograma de la muestra tomada de nuestro conjunto de datos original.\n",
    "\n",
    "Como muestra esperada utilizamos los \"_counts_\" del histograma de una muestra que se distribuya como Poisson."
   ]
  },
  {
   "cell_type": "markdown",
   "metadata": {},
   "source": [
    "**Obtención de parámetros**\n",
    "\n",
    "Para conocer si nuestra muestra se distribuye como  **_Poisson_** nosotros identificamps los parametros que distribuyen esta distribución. En el caso de **_Poisson_** tanto ${\\mu}$ y ${\\sigma}^{2}$ son iguales al parametro ${\\lambda}$.\n",
    "El parametro ${\\lambda}$ es igual a la media de la los datos."
   ]
  },
  {
   "cell_type": "code",
   "execution_count": 126,
   "metadata": {},
   "outputs": [],
   "source": [
    "# Calculando la media de la muestra.\n",
    "mu = np.mean(channel)\n",
    "\n",
    "# Vector de enteros con los valores a generar.\n",
    "k = x_grid\n",
    "\n",
    "# Muestra Poisson.\n",
    "poi = st.poisson.rvs(mu,size=len(channel))"
   ]
  },
  {
   "cell_type": "code",
   "execution_count": 127,
   "metadata": {},
   "outputs": [
    {
     "data": {
      "image/png": "[encoded data removed]",
      "text/plain": [
       "<Figure size 432x288 with 1 Axes>"
      ]
     },
     "metadata": {
      "needs_background": "light"
     },
     "output_type": "display_data"
    }
   ],
   "source": [
    "# Graficamos las distribuciones.\n",
    "plt.title('Muestra Poisson vs Muestra Original')\n",
    "y2,x2,_=plt.hist(poi,bins=8,label='Poisson',density=True)\n",
    "y1,x1,_=plt.hist(channel,bins=8,label='Original',density=True)\n",
    "plt.legend()\n",
    "plt.show()"
   ]
  },
  {
   "cell_type": "code",
   "execution_count": 128,
   "metadata": {},
   "outputs": [
    {
     "data": {
      "text/plain": [
       "Power_divergenceResult(statistic=0.12419022728408488, pvalue=0.9999951122569026)"
      ]
     },
     "execution_count": 128,
     "metadata": {},
     "output_type": "execute_result"
    }
   ],
   "source": [
    "warnings.filterwarnings(\"ignore\")\n",
    "# Realizamos la prueba de bondad y ajuste.\n",
    "chi_poi = st.chisquare(f_obs=y1,f_exp=y2)\n",
    "chi_poi"
   ]
  },
  {
   "cell_type": "markdown",
   "metadata": {},
   "source": [
    "El \"p-value\" resultó mayor que ${\\alpha}$ por lo tanto no se rechaza ${H_{0}}$"
   ]
  },
  {
   "cell_type": "markdown",
   "metadata": {},
   "source": [
    "**Distribución Geométrica**."
   ]
  },
  {
   "cell_type": "markdown",
   "metadata": {},
   "source": [
    "**Formulación de hipótesis**\n",
    "\n",
    "$H_{0}$: Nuestro conjunto de datos tienen una distribución geométrica.\n",
    "\n",
    "$H_{a}$: Nuestro conjunto de datos no sigue una distribución geométrica"
   ]
  },
  {
   "cell_type": "markdown",
   "metadata": {},
   "source": [
    "**Obtención de Parámetros**\n",
    "\n",
    "La media de la distribución geometrica se calcula de la siguiente manera:\n",
    "\n",
    "$$ E[X] = \\frac{1-p}{p} $$\n",
    "Recordando que la media de neustra muestra es igual a: 1.1616. Podemos despejar la ecuación para obtener ${p}$.\n",
    "\n",
    "$$ 1.1616p = 1-p $$\n",
    "\n",
    "$$ 2.1616p = 1 $$\n",
    "\n",
    "$$ p = .4626 $$"
   ]
  },
  {
   "cell_type": "code",
   "execution_count": 129,
   "metadata": {},
   "outputs": [],
   "source": [
    "# Definición de parámetros.\n",
    "p_g = 0.4626\n",
    "g = st.geom.rvs(p_g,size=len(channel))"
   ]
  },
  {
   "cell_type": "code",
   "execution_count": 130,
   "metadata": {},
   "outputs": [
    {
     "data": {
      "image/png": "[encoded data removed]",
      "text/plain": [
       "<Figure size 432x288 with 1 Axes>"
      ]
     },
     "metadata": {
      "needs_background": "light"
     },
     "output_type": "display_data"
    }
   ],
   "source": [
    "# Graficamos las distribuciones.\n",
    "plt.title('Muestra Geómetrica vs Muestra Original')\n",
    "y2,x2,_=plt.hist(g,bins=8,label='Geómetrica',density=True)\n",
    "y1,x1,_=plt.hist(channel,bins=8,label='Original',density=True)\n",
    "plt.legend()\n",
    "plt.show()"
   ]
  },
  {
   "cell_type": "code",
   "execution_count": 131,
   "metadata": {},
   "outputs": [
    {
     "data": {
      "text/plain": [
       "Power_divergenceResult(statistic=3.488533565688357, pvalue=0.8364384987400968)"
      ]
     },
     "execution_count": 131,
     "metadata": {},
     "output_type": "execute_result"
    }
   ],
   "source": [
    "warnings.filterwarnings(\"ignore\")\n",
    "# Realizamos la prueba de bondad y ajuste.\n",
    "chi_geom = st.chisquare(f_obs=y1,f_exp=y2)\n",
    "chi_geom"
   ]
  },
  {
   "cell_type": "markdown",
   "metadata": {},
   "source": [
    "El \"p-value\" resultó mayor que ${\\alpha}$ por lo tanto no se rechaza ${H_{0}}$"
   ]
  },
  {
   "cell_type": "markdown",
   "metadata": {},
   "source": [
    "**Elección de distribución y KDE**\n",
    "\n",
    "Optamos por descartar el **KDE** ya que nuestra variable discreta no tiene tantas categorias como para utilizar un KDE el cual\n",
    "sería más útil para datos continuos. Por otra parte la distribución exponencial fue rechazada con el test de **Kolmogorov-Sminorv**. Finalmente optamos por utilizar la distribución de Poisson la cual tuvo el \"p-value\" más alto, modela todas nuestras categorias y visualmente parece ser la que mejor se ajusta a nuestros datos."
   ]
  },
  {
   "cell_type": "markdown",
   "metadata": {},
   "source": [
    "### `Transformada inversa`."
   ]
  },
  {
   "cell_type": "code",
   "execution_count": 109,
   "metadata": {},
   "outputs": [],
   "source": [
    "# Definimos las funciones necesarias para evaluar la transformada inversa.\n",
    "# Comenzamos con la función para graficar histogramas discretos.\n",
    "def plot_histogram_discrete(distribucion:'distribución a graficar histograma',\n",
    "                            label:'label del legend'):\n",
    "    # len(set(distribucion)) cuenta la cantidad de elementos distintos de la variable 'distribucion'\n",
    "    plt.figure(figsize=[8,4])\n",
    "    y,x = np.histogram(distribucion,density = True,bins = len(set(distribucion))) \n",
    "    plt.bar(list(set(distribucion)),y,label=label)\n",
    "    plt.legend()\n",
    "    plt.show()\n",
    "    \n",
    "# Función que genera variables aleatorias discretas.\n",
    "def Gen_distr_discreta(p_acum: 'P.Acumulada de la distribución a generar',\n",
    "                       indices: 'valores reales a generar aleatoriamente',\n",
    "                       U: 'cantidad de números aleatorios a generar'):\n",
    "    \n",
    "    U =np.random.rand(U)\n",
    "    # Diccionario de valores aleatorios\n",
    "    rand2reales = {i: idx for i, idx in enumerate(indices)}\n",
    "\n",
    "    # Series de los valores aletorios\n",
    "    y = pd.Series([sum([1 for p in p_acum if p < ui]) for ui in U]).map(rand2reales)\n",
    "\n",
    "    return y\n",
    "\n",
    "# Función que regresa la distribucion de Poisson.\n",
    "def poisson(mu,k):\n",
    "    p=np.zeros(len(k))\n",
    "    \n",
    "    p[0]=(np.exp(-mu)*mu**k[0])/1  # sabiendo que 0! es 1\n",
    "    def fill(i):\n",
    "        nonlocal mu,p\n",
    "        p[i+1]=(mu/k[i+1])*p[i]\n",
    "        \n",
    "    [fill(i) for i in range(len(k)-1)]\n",
    "    return np.cumsum(p)"
   ]
  },
  {
   "cell_type": "code",
   "execution_count": 132,
   "metadata": {},
   "outputs": [
    {
     "data": {
      "image/png": "[encoded data removed]",
      "text/plain": [
       "<Figure size 576x288 with 1 Axes>"
      ]
     },
     "metadata": {
      "needs_background": "light"
     },
     "output_type": "display_data"
    }
   ],
   "source": [
    "# Definimos variables aleatorias.\n",
    "p_acum = poisson(mu,k)\n",
    "N = 1000\n",
    "\n",
    "poisson_dist = Gen_distr_discreta(p_acum,k,N)\n",
    "plot_histogram_discrete(poisson_dist,'Label muestra Poisson Trans Inv.')"
   ]
  },
  {
   "cell_type": "markdown",
   "metadata": {},
   "source": [
    "### `Reducción de Varianza`"
   ]
  },
  {
   "cell_type": "markdown",
   "metadata": {},
   "source": [
    "**Estimando la media**\n",
    "\n",
    "\n",
    "Fórmula para estimar la media de una distribución discreta\n",
    "$$\n",
    "\\mathbb {E} [X]=x_{1}p(X=x_{1})+...+x_{n}p(X=x_{n})=\\sum _{i=1}^{n}x_{i}p(x_{i})\n",
    "$$"
   ]
  },
  {
   "cell_type": "code",
   "execution_count": 174,
   "metadata": {},
   "outputs": [
    {
     "data": {
      "text/plain": [
       "1.1185999999999998"
      ]
     },
     "execution_count": 174,
     "metadata": {},
     "output_type": "execute_result"
    }
   ],
   "source": [
    "# Media teórica \n",
    "probs=np.array([channel.value_counts()/10000])\n",
    "vals = channel.value_counts().index.values\n",
    "media_teorica = np.mean(np.dot(probs,vals))\n",
    "media_teorica"
   ]
  },
  {
   "cell_type": "markdown",
   "metadata": {},
   "source": [
    "**Montecarlo**"
   ]
  },
  {
   "cell_type": "code",
   "execution_count": 175,
   "metadata": {},
   "outputs": [
    {
     "name": "stdout",
     "output_type": "stream",
     "text": [
      "monte carlo crudo 1.155\n"
     ]
    }
   ],
   "source": [
    "print('monte carlo crudo', poisson_dist.mean())"
   ]
  },
  {
   "cell_type": "markdown",
   "metadata": {},
   "source": [
    "**Estratificado igualmente espaciado**"
   ]
  },
  {
   "cell_type": "code",
   "execution_count": 176,
   "metadata": {},
   "outputs": [],
   "source": [
    "def estra_igualmente_espaciado(B):\n",
    "    \"\"\"\n",
    "    Función que ingresa el número de estratos y retorna un conjunto de variables aleatorias con estratos igualmente espaciados\n",
    "    \"\"\"\n",
    "    U = np.random.rand(B)\n",
    "    i = np.arange(0,B)\n",
    "    v = (U+i)/B\n",
    "    return v"
   ]
  },
  {
   "cell_type": "code",
   "execution_count": 177,
   "metadata": {},
   "outputs": [
    {
     "name": "stdout",
     "output_type": "stream",
     "text": [
      "Igualmente Estratificado  = 1.0959\n"
     ]
    }
   ],
   "source": [
    "N=10000\n",
    "U = estra_igualmente_espaciado(N)\n",
    "estra2 = Gen_distr_discreta(p_acum,k,U)\n",
    "\n",
    "\n",
    "print('Igualmente Estratificado  =',np.mean(estra2))"
   ]
  },
  {
   "cell_type": "code",
   "execution_count": 178,
   "metadata": {},
   "outputs": [
    {
     "name": "stdout",
     "output_type": "stream",
     "text": [
      "Complementario: 1.113\n"
     ]
    }
   ],
   "source": [
    "N = 10000\n",
    "u1 = np.random.rand(N)\n",
    "u2 = 1-u1\n",
    "comp_dist = Gen_distr_discreta(p_acum,k,np.concatenate([u1,u2]))\n",
    "print('Complementario:',np.mean(comp_dist))"
   ]
  },
  {
   "cell_type": "code",
   "execution_count": 179,
   "metadata": {},
   "outputs": [
    {
     "data": {
      "text/html": [
       "<div>\n",
       "<style scoped>\n",
       "    .dataframe tbody tr th:only-of-type {\n",
       "        vertical-align: middle;\n",
       "    }\n",
       "\n",
       "    .dataframe tbody tr th {\n",
       "        vertical-align: top;\n",
       "    }\n",
       "\n",
       "    .dataframe thead th {\n",
       "        text-align: right;\n",
       "    }\n",
       "</style>\n",
       "<table border=\"1\" class=\"dataframe\">\n",
       "  <thead>\n",
       "    <tr style=\"text-align: right;\">\n",
       "      <th></th>\n",
       "      <th>0</th>\n",
       "      <th>error absoluto</th>\n",
       "    </tr>\n",
       "  </thead>\n",
       "  <tbody>\n",
       "    <tr>\n",
       "      <th>Media teo</th>\n",
       "      <td>1.1186</td>\n",
       "      <td>0.0000</td>\n",
       "    </tr>\n",
       "    <tr>\n",
       "      <th>complementarios</th>\n",
       "      <td>1.1130</td>\n",
       "      <td>0.0056</td>\n",
       "    </tr>\n",
       "    <tr>\n",
       "      <th>estra igual</th>\n",
       "      <td>1.0959</td>\n",
       "      <td>0.0227</td>\n",
       "    </tr>\n",
       "    <tr>\n",
       "      <th>monte carlo</th>\n",
       "      <td>1.1550</td>\n",
       "      <td>0.0364</td>\n",
       "    </tr>\n",
       "  </tbody>\n",
       "</table>\n",
       "</div>"
      ],
      "text/plain": [
       "                      0  error absoluto\n",
       "Media teo        1.1186          0.0000\n",
       "complementarios  1.1130          0.0056\n",
       "estra igual      1.0959          0.0227\n",
       "monte carlo      1.1550          0.0364"
      ]
     },
     "execution_count": 179,
     "metadata": {},
     "output_type": "execute_result"
    }
   ],
   "source": [
    "red_var = pd.DataFrame({'Media teo':media_teorica,\n",
    "                        'monte carlo':poisson_dist.mean(),\n",
    "                        'estra igual':np.mean(estra2),\n",
    "                        'complementarios':np.mean(comp_dist)},index=range(0,1))\n",
    "\n",
    "red_var=red_var.T\n",
    "red_var['error absoluto']=[np.abs((media_teorica-i)) for i in red_var[0].values]\n",
    "red_var.sort_values(by='error absoluto')"
   ]
  },
  {
   "cell_type": "markdown",
   "metadata": {},
   "source": [
    "Con lo antes descrito, observamos que el estrato igualmente espaciado resultó ser el mejor método de reducción de varianza.\n",
    "\n",
    "Ahora definimos un intervalo de confianza al $95\\%$."
   ]
  },
  {
   "cell_type": "code",
   "execution_count": 180,
   "metadata": {},
   "outputs": [
    {
     "name": "stdout",
     "output_type": "stream",
     "text": [
      "El intervalo de confianza es (1.0492684537029788, 1.1879315462970212)\n"
     ]
    }
   ],
   "source": [
    "print('El intervalo de confianza es', (mu-(1.96*(mu**2/len(poisson_dist))**0.5),mu+(1.96*(mu**2/len(poisson_dist))**0.5)))"
   ]
  },
  {
   "cell_type": "markdown",
   "metadata": {},
   "source": [
    "### `Conclusiones`."
   ]
  },
  {
   "cell_type": "markdown",
   "metadata": {},
   "source": [
    "En conclusión pudimos comprobar que una dsitribución discreta modelaba mejor nuestros datos que los métodos para variables continuas como el kde. Igualmente tanto con montecarlo como con los métdos de reducción de varianza pudimos aproximarnos a la media de la muestra proveninete de los datos orignales. Comprobando que la media de nuestros datos esta en la categoría 1 _credit and cash offices_.\n",
    "\n",
    "Por lo tanto como institución bancaria podriamos prever que la medía de los trámites comenzaran por este canal de venta."
   ]
  },
  {
   "cell_type": "markdown",
   "metadata": {},
   "source": [
    "## `Nodo: Monto solicitado`."
   ]
  },
  {
   "cell_type": "markdown",
   "metadata": {},
   "source": [
    "### `Visualización de los datos`."
   ]
  },
  {
   "cell_type": "code",
   "execution_count": 209,
   "metadata": {},
   "outputs": [
    {
     "data": {
      "image/png": "[encoded data removed]",
      "text/plain": [
       "<Figure size 432x288 with 1 Axes>"
      ]
     },
     "metadata": {
      "needs_background": "light"
     },
     "output_type": "display_data"
    }
   ],
   "source": [
    "# Visualizando nuestros datos.\n",
    "sns.boxplot(x=data['AMT_APPLICATION'], saturation=.5, color='r');"
   ]
  },
  {
   "cell_type": "markdown",
   "metadata": {},
   "source": [
    "Observamos que existen valores atipicos que excenden el rango intercuartilico en el boxplot, por lo tanto optaremos por utilizar una escala logaritmica que nos permita trabajar escalar los datos que pueden ser extremos."
   ]
  },
  {
   "cell_type": "code",
   "execution_count": 210,
   "metadata": {},
   "outputs": [
    {
     "data": {
      "image/png": "[encoded data removed]",
      "text/plain": [
       "<Figure size 432x288 with 1 Axes>"
      ]
     },
     "metadata": {
      "needs_background": "light"
     },
     "output_type": "display_data"
    }
   ],
   "source": [
    "# Transformamos el monto de aplicación a una escala logaritmica.\n",
    "data_log = np.log(data['AMT_APPLICATION'])\n",
    "sns.boxplot(x=data_log, saturation=.5, color='r');"
   ]
  },
  {
   "cell_type": "markdown",
   "metadata": {},
   "source": [
    "Con la escala logaritmica, si bien aún existen valores que exceden el rango intercuartilico, ya son menos. Además de manera visual podemos observar de mejor manera la distribución de nuestros datos."
   ]
  },
  {
   "cell_type": "code",
   "execution_count": 211,
   "metadata": {},
   "outputs": [
    {
     "data": {
      "text/plain": [
       "count    991477.000000\n",
       "mean         11.577048\n",
       "std           1.023470\n",
       "min           8.594154\n",
       "25%          10.763208\n",
       "50%          11.483692\n",
       "75%          12.240474\n",
       "max          15.581952\n",
       "Name: AMT_APPLICATION, dtype: float64"
      ]
     },
     "execution_count": 211,
     "metadata": {},
     "output_type": "execute_result"
    }
   ],
   "source": [
    "# Propiedades estadísticas de los datos en escala logarítmica.\n",
    "data_log.describe()"
   ]
  },
  {
   "cell_type": "code",
   "execution_count": 212,
   "metadata": {},
   "outputs": [
    {
     "data": {
      "image/png": "[encoded data removed]",
      "text/plain": [
       "<Figure size 432x288 with 1 Axes>"
      ]
     },
     "metadata": {
      "needs_background": "light"
     },
     "output_type": "display_data"
    }
   ],
   "source": [
    "# Visualizamos los datos en un histograma\n",
    "sns.histplot(data_log, color='y', bins=20);"
   ]
  },
  {
   "cell_type": "markdown",
   "metadata": {},
   "source": [
    "Ahora, podemos observar que los datos en escala logaritmica parecen seguir una distribución más pareja, de hecho pareciera aproximarse al comportamiento de una normal."
   ]
  },
  {
   "cell_type": "markdown",
   "metadata": {},
   "source": [
    "Ya con nuestros datos preparados, proseguimos a buscar un **KDE**."
   ]
  },
  {
   "cell_type": "code",
   "execution_count": 213,
   "metadata": {
    "scrolled": false
   },
   "outputs": [
    {
     "data": {
      "image/png": "[encoded data removed]",
      "text/plain": [
       "<Figure size 432x288 with 1 Axes>"
      ]
     },
     "metadata": {
      "needs_background": "light"
     },
     "output_type": "display_data"
    }
   ],
   "source": [
    "# Trabajaremos con un kernel univariado.\n",
    "# Límites donde nosotros queremos graficar nuestra distribución.\n",
    "x_grid = np.linspace(9,15,1000) \n",
    "\n",
    "# Datos de prueba, tomaremos 100,000.\n",
    "x = data_log.sample(n=100000, random_state=1)\n",
    "\n",
    "# Datos reales. Muestra completa\n",
    "pdf_true = data_log\n",
    "\n",
    "# Con la intención de saber si nuestra muestra representa el comportamiento de la distribución, obtendremos su histograma.\n",
    "sns.histplot(x, color='r', bins=20).set_title('Muestra de 100,000 datos');"
   ]
  },
  {
   "cell_type": "markdown",
   "metadata": {},
   "source": [
    "Al observar el histograma de la distribución, y comparandolo con la muestra aleatoria generada de 100,000. Podemos concluir que 100,000 muestras aleatorias del conjunto de datos, **sí** representa en buena parte la distribución."
   ]
  },
  {
   "cell_type": "markdown",
   "metadata": {},
   "source": [
    "### `Kernel Density Estimation`."
   ]
  },
  {
   "cell_type": "code",
   "execution_count": 214,
   "metadata": {},
   "outputs": [],
   "source": [
    "# Definimos función. Regresa la evaluación de la pdf.\n",
    "# Es una estimación para un kernel univariado.\n",
    "def kde_statsmodels_u(x, x_grid, **kwargs):\n",
    "    \"\"\"Univariate Kernel Density Estimation with Statsmodels\"\"\"\n",
    "    kde = KDEUnivariate(x)\n",
    "    kde.fit(bw='normal_reference', **kwargs)\n",
    "    return kde.evaluate(x_grid)"
   ]
  },
  {
   "cell_type": "code",
   "execution_count": 215,
   "metadata": {},
   "outputs": [
    {
     "data": {
      "image/png": "[encoded data removed]",
      "text/plain": [
       "<Figure size 432x288 with 1 Axes>"
      ]
     },
     "metadata": {
      "needs_background": "light"
     },
     "output_type": "display_data"
    },
    {
     "name": "stdout",
     "output_type": "stream",
     "text": [
      "El bandwidth óptimo es de: 0.10862356178541112\n"
     ]
    }
   ],
   "source": [
    "# Definición del modelo para la distribución total.\n",
    "kde_univariate = KDEUnivariate(x)\n",
    "\n",
    "# Guardamos el bw óptimo para este modelo\n",
    "bw_optimo = kde_univariate.fit(bw='normal_reference').bw\n",
    "\n",
    "# Graficamos la distribución junto con la estimación.\n",
    "plt.plot(x_grid,kde_statsmodels_u(x, x_grid))\n",
    "plt.hist(x,bins=20,density=True)\n",
    "plt.title('KDE univariate')\n",
    "plt.show()\n",
    "print(f'El bandwidth óptimo es de: {bw_optimo}')"
   ]
  },
  {
   "cell_type": "markdown",
   "metadata": {},
   "source": [
    "De la anterior gráfica podemos observar que nuestro **KDE** parece definir de una buena manera la función de distribución de probabilidad real de nuestros datos. Una cuestión que resalta a simple vista es que parece existir un problema de _overfitting_, donde el **KDE** esta sobreestimando el comportamiento de la distribución real. Con la intención de generar una función de distribución de probabilidad más suavizada, cambiaremos el parámetro bw a un $0.20$."
   ]
  },
  {
   "cell_type": "code",
   "execution_count": 216,
   "metadata": {},
   "outputs": [],
   "source": [
    "# Definimos la función con un bandwidth más suave\n",
    "def kde_statsmodels_u20(x, x_grid, **kwargs):\n",
    "    \"\"\"Univariate Kernel Density Estimation with Statsmodels\"\"\"\n",
    "    kde = KDEUnivariate(x)\n",
    "    kde.fit(bw=0.20, **kwargs)\n",
    "    return kde.evaluate(x_grid)"
   ]
  },
  {
   "cell_type": "code",
   "execution_count": 217,
   "metadata": {},
   "outputs": [
    {
     "data": {
      "image/png": "[encoded data removed]",
      "text/plain": [
       "<Figure size 432x288 with 1 Axes>"
      ]
     },
     "metadata": {
      "needs_background": "light"
     },
     "output_type": "display_data"
    },
    {
     "name": "stdout",
     "output_type": "stream",
     "text": [
      "El bandwidth es de: 0.20\n"
     ]
    }
   ],
   "source": [
    "# Graficamos la distribución junto con la estimación.\n",
    "plt.plot(x_grid,kde_statsmodels_u20(x, x_grid))\n",
    "plt.hist(x,bins=20,density=True)\n",
    "plt.title('KDE univariate')\n",
    "plt.show()\n",
    "print(f'El bandwidth es de: 0.20')"
   ]
  },
  {
   "cell_type": "code",
   "execution_count": 218,
   "metadata": {
    "scrolled": true
   },
   "outputs": [
    {
     "data": {
      "image/png": "[encoded data removed]",
      "text/plain": [
       "<Figure size 432x288 with 1 Axes>"
      ]
     },
     "metadata": {
      "needs_background": "light"
     },
     "output_type": "display_data"
    }
   ],
   "source": [
    "# Definimos la función de distribución de probabilidad a partir del KDEUnivariate.\n",
    "kde_univariate.fit(bw=0.20)\n",
    "f_uni_kde = lambda x: kde_univariate.evaluate(x)\n",
    "\n",
    "# Graficamos la función.\n",
    "plt.plot(x_grid, f_uni_kde(x_grid))\n",
    "plt.title('PDF data');"
   ]
  },
  {
   "cell_type": "markdown",
   "metadata": {},
   "source": [
    "Con la intención de hacer una comparación del ajuste de nuestro **KDE**, respecto a nuestros datos reales, lo que haremos será comparar su aproximación a través de una métrica de error, en este caso particular utilizaremos el **SSE** como referencia."
   ]
  },
  {
   "cell_type": "code",
   "execution_count": 219,
   "metadata": {},
   "outputs": [
    {
     "name": "stdout",
     "output_type": "stream",
     "text": [
      "El error de la suma de la resta de cuadrados que se obtuvo entre nuestro KDE y la distribución real es de: 0.0264\n"
     ]
    }
   ],
   "source": [
    "# Definimos métrica de error.\n",
    "# Almacenamos la distribución real.\n",
    "y_real, x_real = np.histogram(data_log, bins=20, density=True)\n",
    "x_real = x_real[1:]\n",
    "\n",
    "# Definimos la distribución generada por el KDE.\n",
    "y_est = f_uni_kde(x_real)\n",
    "\n",
    "# Calculamos el error.\n",
    "error_kde =((y_real-y_est)**2).sum()\n",
    "print(f'El error de la suma de la resta de cuadrados que se obtuvo entre nuestro KDE y la distribución real es de: {((error_kde)).round(4)}')"
   ]
  },
  {
   "cell_type": "markdown",
   "metadata": {},
   "source": [
    "Observando el **SSE** obtenido, podemos concluir que el **KDE** univariado que se obtuvo, parece aproximar de una buena manera la distribución que sigue nuesto **Monto Solicitado**, sin embargo, con la intención de generar un análisis más profundo, evaluaremos cuales de las funciones de distribución de probabilidad existentes se ajustan bien a nuestros datos."
   ]
  },
  {
   "cell_type": "markdown",
   "metadata": {},
   "source": [
    "### `Buscando PDF's`."
   ]
  },
  {
   "cell_type": "code",
   "execution_count": 83,
   "metadata": {},
   "outputs": [],
   "source": [
    "# Tratamos de ajustar las distribuciones de probabilidad existentes a nuestro Monto Solicitado.\n",
    "# Comenzamos evaluando el método fit de la librería estadística.\n",
    "# Obtenemos las distribuciones continuas existentes en la librería estadística.\n",
    "dist_con = [d for d in dir(st) if isinstance(getattr(st,d),getattr(st,'rv_continuous'))]\n",
    "\n",
    "# Definimos una función que itere sobre las distribuciones que se indiquen y regrese su error respecto a la distribucion real.\n",
    "def give_error(data: 'Datos de la distribución real',\n",
    "               distributions: 'Lista de distribuciones a evaluar'):\n",
    "    \n",
    "    # Definimos un data frame donde se almacena el MSE.\n",
    "    errores = pd.DataFrame(index=distributions, columns=['MSE'])\n",
    "    \n",
    "    # Definimos los parámetros de la distribución real.\n",
    "    y, x = np.histogram(data, bins=20, density=True)\n",
    "    x = x[1:]  \n",
    "    \n",
    "    # Iteramos en las distribuciones.\n",
    "    for d in distributions:\n",
    "        params = getattr(st,d).fit(data)\n",
    "        y_hat =getattr(st,d)(*params).pdf(x)\n",
    "        errores.loc[d] = ((y-y_hat)**2).mean() \n",
    "        \n",
    "    return errores"
   ]
  },
  {
   "cell_type": "markdown",
   "metadata": {},
   "source": [
    "Al explorar nuestra función _give_error_, nos dimos cuenta que el costo computacional de ajustar nuestro conjunto de datos en cada distribución continua, es demasiado alto. Además de esto observamos que existen distribuciones que parecen no ajustarse del todo bien, lanzando errores y deteniendo la ejecución. Entonces decidimos investigar respecto a la paquetería **Fitter** presente en python, y aquí obtuvimos una ventaja en tema de costos computacionales pues al varíar nosotros el parámetro \"timeout\", decidimos el tiempo de ejecución máximo al ajustar una distribución a los datos, con lo cual eficientamos y ajustamos solo aquellas que responden a las necesidades del problema."
   ]
  },
  {
   "cell_type": "code",
   "execution_count": 57,
   "metadata": {},
   "outputs": [],
   "source": [
    "np.random.seed(4355)"
   ]
  },
  {
   "cell_type": "code",
   "execution_count": 58,
   "metadata": {
    "scrolled": true
   },
   "outputs": [
    {
     "data": {
      "text/html": [
       "\n",
       "            <div style=\"float: left; border: 1px solid black; width:500px\">\n",
       "              <div id=\"cbd3daad-76e5-44e2-af7c-f3867852ab80\" style=\"background-color:blue; width:0%\">&nbsp;</div>\n",
       "            </div>\n",
       "            <label id=\"8bfe09eb-9174-401a-96c4-954bc89ef683\" style=\"padding-left: 10px;\" text = \"\"/>\n",
       "            "
      ],
      "text/plain": [
       "<IPython.core.display.HTML object>"
      ]
     },
     "metadata": {},
     "output_type": "display_data"
    },
    {
     "name": "stderr",
     "output_type": "stream",
     "text": [
      "WARNING:root:SKIPPED burr distribution (taking more than 30 seconds)\n",
      "WARNING:root:SKIPPED exponweib distribution (taking more than 30 seconds)\n",
      "WARNING:root:SKIPPED fisk distribution (taking more than 30 seconds)\n",
      "WARNING:root:SKIPPED gausshyper distribution (taking more than 30 seconds)\n",
      "WARNING:root:SKIPPED genexpon distribution (taking more than 30 seconds)\n",
      "WARNING:root:SKIPPED genextreme distribution (taking more than 30 seconds)\n",
      "WARNING:root:SKIPPED gengamma distribution (taking more than 30 seconds)\n",
      "WARNING:root:SKIPPED genhalflogistic distribution (taking more than 30 seconds)\n",
      "WARNING:root:SKIPPED geninvgauss distribution (taking more than 30 seconds)\n",
      "WARNING:root:SKIPPED genlogistic distribution (taking more than 30 seconds)\n",
      "WARNING:root:SKIPPED genpareto distribution (taking more than 30 seconds)\n",
      "WARNING:root:SKIPPED gilbrat distribution (taking more than 30 seconds)\n",
      "WARNING:root:SKIPPED gompertz distribution (taking more than 30 seconds)\n",
      "WARNING:root:SKIPPED halfcauchy distribution (taking more than 30 seconds)\n",
      "WARNING:root:SKIPPED halfgennorm distribution (taking more than 30 seconds)\n",
      "WARNING:root:SKIPPED invgamma distribution (taking more than 30 seconds)\n",
      "WARNING:root:SKIPPED kstwo distribution (taking more than 30 seconds)\n",
      "WARNING:root:SKIPPED invgauss distribution (taking more than 30 seconds)\n",
      "WARNING:root:SKIPPED invweibull distribution (taking more than 30 seconds)\n",
      "WARNING:root:SKIPPED johnsonsb distribution (taking more than 30 seconds)\n",
      "WARNING:root:SKIPPED johnsonsu distribution (taking more than 30 seconds)\n",
      "WARNING:root:SKIPPED kappa3 distribution (taking more than 30 seconds)\n",
      "WARNING:root:SKIPPED kappa4 distribution (taking more than 30 seconds)\n",
      "WARNING:root:SKIPPED ksone distribution (taking more than 30 seconds)\n",
      "WARNING:root:SKIPPED levy distribution (taking more than 30 seconds)\n",
      "WARNING:root:SKIPPED levy_l distribution (taking more than 30 seconds)\n",
      "WARNING:root:SKIPPED levy_stable distribution (taking more than 30 seconds)\n",
      "WARNING:root:SKIPPED loggamma distribution (taking more than 30 seconds)\n",
      "WARNING:root:SKIPPED loglaplace distribution (taking more than 30 seconds)\n",
      "WARNING:root:SKIPPED lognorm distribution (taking more than 30 seconds)\n",
      "WARNING:root:SKIPPED loguniform distribution (taking more than 30 seconds)\n",
      "WARNING:root:SKIPPED lomax distribution (taking more than 30 seconds)\n",
      "WARNING:root:SKIPPED maxwell distribution (taking more than 30 seconds)\n",
      "WARNING:root:SKIPPED mielke distribution (taking more than 30 seconds)\n",
      "WARNING:root:SKIPPED nakagami distribution (taking more than 30 seconds)\n",
      "WARNING:root:SKIPPED ncf distribution (taking more than 30 seconds)\n",
      "WARNING:root:SKIPPED nct distribution (taking more than 30 seconds)\n",
      "WARNING:root:SKIPPED ncx2 distribution (taking more than 30 seconds)\n",
      "WARNING:root:SKIPPED norminvgauss distribution (taking more than 30 seconds)\n",
      "WARNING:root:SKIPPED pareto distribution (taking more than 30 seconds)\n",
      "WARNING:root:SKIPPED pearson3 distribution (taking more than 30 seconds)\n",
      "WARNING:root:SKIPPED powerlaw distribution (taking more than 30 seconds)\n",
      "WARNING:root:SKIPPED rv_continuous distribution (taking more than 30 seconds)\n",
      "WARNING:root:SKIPPED rv_histogram distribution (taking more than 30 seconds)\n",
      "WARNING:root:SKIPPED powerlognorm distribution (taking more than 30 seconds)\n",
      "WARNING:root:SKIPPED powernorm distribution (taking more than 30 seconds)\n",
      "WARNING:root:SKIPPED rayleigh distribution (taking more than 30 seconds)\n",
      "WARNING:root:SKIPPED rdist distribution (taking more than 30 seconds)\n",
      "WARNING:root:SKIPPED recipinvgauss distribution (taking more than 30 seconds)\n",
      "WARNING:root:SKIPPED reciprocal distribution (taking more than 30 seconds)\n",
      "WARNING:root:SKIPPED rice distribution (taking more than 30 seconds)\n",
      "WARNING:root:SKIPPED semicircular distribution (taking more than 30 seconds)\n",
      "WARNING:root:SKIPPED skewnorm distribution (taking more than 30 seconds)\n",
      "WARNING:root:SKIPPED t distribution (taking more than 30 seconds)\n",
      "WARNING:root:SKIPPED trapz distribution (taking more than 30 seconds)\n",
      "WARNING:root:SKIPPED triang distribution (taking more than 30 seconds)\n",
      "WARNING:root:SKIPPED truncexpon distribution (taking more than 30 seconds)\n",
      "WARNING:root:SKIPPED truncnorm distribution (taking more than 30 seconds)\n",
      "WARNING:root:SKIPPED tukeylambda distribution (taking more than 30 seconds)\n",
      "WARNING:root:SKIPPED vonmises distribution (taking more than 30 seconds)\n",
      "WARNING:root:SKIPPED vonmises_line distribution (taking more than 30 seconds)\n",
      "WARNING:root:SKIPPED wald distribution (taking more than 30 seconds)\n",
      "WARNING:root:SKIPPED weibull_max distribution (taking more than 30 seconds)\n",
      "WARNING:root:SKIPPED weibull_min distribution (taking more than 30 seconds)\n"
     ]
    },
    {
     "name": "stdout",
     "output_type": "stream",
     "text": [
      "Wall time: 4min 52s\n"
     ]
    },
    {
     "data": {
      "text/html": [
       "<div>\n",
       "<style scoped>\n",
       "    .dataframe tbody tr th:only-of-type {\n",
       "        vertical-align: middle;\n",
       "    }\n",
       "\n",
       "    .dataframe tbody tr th {\n",
       "        vertical-align: top;\n",
       "    }\n",
       "\n",
       "    .dataframe thead th {\n",
       "        text-align: right;\n",
       "    }\n",
       "</style>\n",
       "<table border=\"1\" class=\"dataframe\">\n",
       "  <thead>\n",
       "    <tr style=\"text-align: right;\">\n",
       "      <th></th>\n",
       "      <th>sumsquare_error</th>\n",
       "      <th>aic</th>\n",
       "      <th>bic</th>\n",
       "      <th>kl_div</th>\n",
       "    </tr>\n",
       "  </thead>\n",
       "  <tbody>\n",
       "    <tr>\n",
       "      <th>chi2</th>\n",
       "      <td>0.017064</td>\n",
       "      <td>118.836782</td>\n",
       "      <td>-1.558339e+06</td>\n",
       "      <td>0.026196</td>\n",
       "    </tr>\n",
       "    <tr>\n",
       "      <th>erlang</th>\n",
       "      <td>0.017064</td>\n",
       "      <td>118.836891</td>\n",
       "      <td>-1.558339e+06</td>\n",
       "      <td>0.026196</td>\n",
       "    </tr>\n",
       "    <tr>\n",
       "      <th>gamma</th>\n",
       "      <td>0.017064</td>\n",
       "      <td>118.836834</td>\n",
       "      <td>-1.558339e+06</td>\n",
       "      <td>0.026196</td>\n",
       "    </tr>\n",
       "    <tr>\n",
       "      <th>f</th>\n",
       "      <td>0.017129</td>\n",
       "      <td>120.791786</td>\n",
       "      <td>-1.557947e+06</td>\n",
       "      <td>0.026258</td>\n",
       "    </tr>\n",
       "    <tr>\n",
       "      <th>fatiguelife</th>\n",
       "      <td>0.017502</td>\n",
       "      <td>114.884434</td>\n",
       "      <td>-1.555804e+06</td>\n",
       "      <td>0.027637</td>\n",
       "    </tr>\n",
       "  </tbody>\n",
       "</table>\n",
       "</div>"
      ],
      "text/plain": [
       "             sumsquare_error         aic           bic    kl_div\n",
       "chi2                0.017064  118.836782 -1.558339e+06  0.026196\n",
       "erlang              0.017064  118.836891 -1.558339e+06  0.026196\n",
       "gamma               0.017064  118.836834 -1.558339e+06  0.026196\n",
       "f                   0.017129  120.791786 -1.557947e+06  0.026258\n",
       "fatiguelife         0.017502  114.884434 -1.555804e+06  0.027637"
      ]
     },
     "execution_count": 58,
     "metadata": {},
     "output_type": "execute_result"
    }
   ],
   "source": [
    "%%time\n",
    "warnings.filterwarnings(\"ignore\")\n",
    "\n",
    "# Calculamos el costo computacional de la paquetería fitter.\n",
    "# Definimos el tiempo de ajuste máximo de 30 segundos.\n",
    "f_fitter = Fitter(x, bins=20, timeout=30)\n",
    "f_fitter.fit()\n",
    "error_fitter = f_fitter.summary(plot=False)\n",
    "error_fitter"
   ]
  },
  {
   "cell_type": "code",
   "execution_count": 59,
   "metadata": {
    "scrolled": false
   },
   "outputs": [
    {
     "data": {
      "text/html": [
       "<div>\n",
       "<style scoped>\n",
       "    .dataframe tbody tr th:only-of-type {\n",
       "        vertical-align: middle;\n",
       "    }\n",
       "\n",
       "    .dataframe tbody tr th {\n",
       "        vertical-align: top;\n",
       "    }\n",
       "\n",
       "    .dataframe thead th {\n",
       "        text-align: right;\n",
       "    }\n",
       "</style>\n",
       "<table border=\"1\" class=\"dataframe\">\n",
       "  <thead>\n",
       "    <tr style=\"text-align: right;\">\n",
       "      <th></th>\n",
       "      <th>sumsquare_error</th>\n",
       "      <th>aic</th>\n",
       "      <th>bic</th>\n",
       "      <th>kl_div</th>\n",
       "    </tr>\n",
       "  </thead>\n",
       "  <tbody>\n",
       "    <tr>\n",
       "      <th>chi2</th>\n",
       "      <td>0.017064</td>\n",
       "      <td>118.836782</td>\n",
       "      <td>-1.558339e+06</td>\n",
       "      <td>0.026196</td>\n",
       "    </tr>\n",
       "    <tr>\n",
       "      <th>erlang</th>\n",
       "      <td>0.017064</td>\n",
       "      <td>118.836891</td>\n",
       "      <td>-1.558339e+06</td>\n",
       "      <td>0.026196</td>\n",
       "    </tr>\n",
       "    <tr>\n",
       "      <th>gamma</th>\n",
       "      <td>0.017064</td>\n",
       "      <td>118.836834</td>\n",
       "      <td>-1.558339e+06</td>\n",
       "      <td>0.026196</td>\n",
       "    </tr>\n",
       "  </tbody>\n",
       "</table>\n",
       "</div>"
      ],
      "text/plain": [
       "        sumsquare_error         aic           bic    kl_div\n",
       "chi2           0.017064  118.836782 -1.558339e+06  0.026196\n",
       "erlang         0.017064  118.836891 -1.558339e+06  0.026196\n",
       "gamma          0.017064  118.836834 -1.558339e+06  0.026196"
      ]
     },
     "execution_count": 59,
     "metadata": {},
     "output_type": "execute_result"
    }
   ],
   "source": [
    "# Definimos el top 3 de las distribuciones que según el sse mejor se ajustan.\n",
    "best_error = error_fitter.sort_values(by='sumsquare_error').head(3)\n",
    "best_error"
   ]
  },
  {
   "cell_type": "markdown",
   "metadata": {},
   "source": [
    "Tomando en cuenta el **SSE**, con la paquetería **Fitter**, obtenemos que el top 3 de distribuciones que mejor se ajustan a nuestra muestra son las siguientes:\n",
    "- **Chi2**\n",
    "- **Erlang**\n",
    "- **Gamma**"
   ]
  },
  {
   "cell_type": "code",
   "execution_count": 61,
   "metadata": {},
   "outputs": [
    {
     "name": "stdout",
     "output_type": "stream",
     "text": [
      "Wall time: 2min 53s\n"
     ]
    },
    {
     "data": {
      "text/html": [
       "<div>\n",
       "<style scoped>\n",
       "    .dataframe tbody tr th:only-of-type {\n",
       "        vertical-align: middle;\n",
       "    }\n",
       "\n",
       "    .dataframe tbody tr th {\n",
       "        vertical-align: top;\n",
       "    }\n",
       "\n",
       "    .dataframe thead th {\n",
       "        text-align: right;\n",
       "    }\n",
       "</style>\n",
       "<table border=\"1\" class=\"dataframe\">\n",
       "  <thead>\n",
       "    <tr style=\"text-align: right;\">\n",
       "      <th></th>\n",
       "      <th>MSE</th>\n",
       "    </tr>\n",
       "  </thead>\n",
       "  <tbody>\n",
       "    <tr>\n",
       "      <th>chi2</th>\n",
       "      <td>0.00129681</td>\n",
       "    </tr>\n",
       "    <tr>\n",
       "      <th>gamma</th>\n",
       "      <td>0.00129681</td>\n",
       "    </tr>\n",
       "    <tr>\n",
       "      <th>erlang</th>\n",
       "      <td>0.00129682</td>\n",
       "    </tr>\n",
       "  </tbody>\n",
       "</table>\n",
       "</div>"
      ],
      "text/plain": [
       "               MSE\n",
       "chi2    0.00129681\n",
       "gamma   0.00129681\n",
       "erlang  0.00129682"
      ]
     },
     "execution_count": 61,
     "metadata": {},
     "output_type": "execute_result"
    }
   ],
   "source": [
    "%%time\n",
    "# Con la intención de comparar el error, ahora utilizaremos nuestra función give_error.\n",
    "# En ella evaluamos el error medio cuadrático, esto con la intención de ver si evaluando otro error obtenemos el mismo orden.\n",
    "give_error(x, ['chi2', 'erlang', 'gamma']).sort_values(by='MSE')"
   ]
  },
  {
   "cell_type": "markdown",
   "metadata": {},
   "source": [
    "Al observar los errores obtenidos tanto con el **SSE** y el **MSE**, en ambos casos observamos que los errores siguen el mismo orden, sin embargo, recordemos que el error solo nos sirve como una métrica de referencia. Ahora, con la intención de encontrar cuál de ellas resulta ser la que mejor se ajusta a nuestro conjunto de datos, realizaremos un análisis para cada una de las distribuciones descritas. Esto lo haremos a través de la prueba de **Kolmogorov-Smirnov** y una prueba **Cuantil-Cuantil**."
   ]
  },
  {
   "cell_type": "markdown",
   "metadata": {},
   "source": [
    "Comenzamos comparando con la _distribución Chi2_, de manera que nuestra prueba de hipótesis se describe de la siguiente manera:\n",
    "- $H_{0}$: Los datos se distribuyen como una distribución de Chi2.\n",
    "- $H_{a}$: Los datos no se distribuyen como una distribución de Chi2."
   ]
  },
  {
   "cell_type": "code",
   "execution_count": 62,
   "metadata": {
    "scrolled": true
   },
   "outputs": [
    {
     "data": {
      "text/plain": [
       "KstestResult(statistic=0.03142327233943476, pvalue=3.212930978392507e-86)"
      ]
     },
     "execution_count": 62,
     "metadata": {},
     "output_type": "execute_result"
    }
   ],
   "source": [
    "# Comenzamos para la distribución chi2. Prueba Kolmogorov-Smirnov.\n",
    "# Definimos los parámetros para la distribución.\n",
    "chi2_params = st.chi2.fit(x)\n",
    "\n",
    "# Definimos prueba de hipotesis.\n",
    "st.kstest(x, lambda x: st.chi2.cdf(x,*chi2_params))"
   ]
  },
  {
   "cell_type": "markdown",
   "metadata": {},
   "source": [
    "Observando nuestro \"p-value\", vemos como al ser muy pequeño nos da indicios para rechazar la hipótesis nula, de manera que podemos decir que estadísticamente nuestro **Monto Solicitado** **NO** se distribuye como Chi2. \n",
    "\n",
    "Ahora realizamos la prueba **Cuantil-Cuantil**."
   ]
  },
  {
   "cell_type": "code",
   "execution_count": 25,
   "metadata": {},
   "outputs": [],
   "source": [
    "# Definimos una función que nos grafique la distribución real, la ajustada y el q-q plot.\n",
    "def plot_pdf_qq(v_ale_real: 'Variables aleatorias de la distribución real',\n",
    "                bins: 'Número de bins del histograma',\n",
    "                distribution: 'Nombre de la distribución a evaluar'):\n",
    "    # Histograma de las variables reales del conjunto de datos.\n",
    "    divisiones = bins # Cantidad de barras en el histograma\n",
    "    fig, ax = plt.subplots(2,1, figsize=(14,8))\n",
    "    fig.tight_layout(pad=3.0)\n",
    "\n",
    "    y, x, _ = ax[0].hist(v_ale_real, bins, density=True, label='Histograma mediciones')\n",
    "\n",
    "    # Función de distribución de probabilidad la cual creemos que mis datos distribuyen \n",
    "    dist = distribution\n",
    "    params = getattr(st, dist).fit(v_ale_real)\n",
    "\n",
    "    # Graficar PDF de la distribución que queremos probar\n",
    "    y_hat = getattr(st, dist).pdf(x, *params)\n",
    "    ax[0].plot(x, y_hat,'r--', label='Distribución ajustada')\n",
    "    ax[0].set_ylabel('Probability')\n",
    "    ax[0].grid()\n",
    "\n",
    "    # Gráfica de Q-Q entre mis datos y la curva que quiero probar que sigue mi distribución (dist)\n",
    "    grap2 = st.probplot(v_ale_real, dist=dist, sparams=getattr(st, dist).fit(x)[:-2], plot=ax[1], fit=True)\n",
    "    ax[1].grid()\n",
    "    ax[1].set_title('Q-Q Plot')\n",
    "\n",
    "    plt.show()"
   ]
  },
  {
   "cell_type": "code",
   "execution_count": 64,
   "metadata": {},
   "outputs": [],
   "source": [
    "# Graficamos la distribución y el q-q plot.\n",
    "# Comenzamos para la distribución chi2\n",
    "v_ale_real = x\n",
    "bins_norm = 20\n",
    "distribution_name = 'chi2'"
   ]
  },
  {
   "cell_type": "code",
   "execution_count": 65,
   "metadata": {},
   "outputs": [
    {
     "data": {
      "image/png": "[encoded data removed]",
      "text/plain": [
       "<Figure size 1008x576 with 2 Axes>"
      ]
     },
     "metadata": {
      "needs_background": "light"
     },
     "output_type": "display_data"
    }
   ],
   "source": [
    "# Graficamos\n",
    "plot_pdf_qq(v_ale_real, bins_norm, distribution_name)"
   ]
  },
  {
   "cell_type": "markdown",
   "metadata": {},
   "source": [
    "Observando nuestro gráfico **Cuantil - Cuantil**, podemos confirmar lo descrito por nuestra prueba de **Kolmogorov-Smirnov**. Nuestros datos no se distribuyen de manera normal."
   ]
  },
  {
   "cell_type": "markdown",
   "metadata": {},
   "source": [
    "Ahora evaluaremos la _distribución erlang_. Entonces tenemos la siguiente prueba de hipótesis:\n",
    "- $H_{0}$: Los datos se distribuyen como una distribución erlang.\n",
    "- $H_{a}$: Los datos no se distribuyen como distribución erlang."
   ]
  },
  {
   "cell_type": "code",
   "execution_count": 66,
   "metadata": {},
   "outputs": [
    {
     "data": {
      "text/plain": [
       "KstestResult(statistic=0.03142308737228558, pvalue=3.220413088462194e-86)"
      ]
     },
     "execution_count": 66,
     "metadata": {},
     "output_type": "execute_result"
    }
   ],
   "source": [
    "# Prueba Kolmogorov-Smirnov. Para la distribución de erlang.\n",
    "# Definimos los parámetros para la distribución.\n",
    "erlang_params = st.erlang.fit(x)\n",
    "\n",
    "# Definimos prueba de hipotesis.\n",
    "st.kstest(x, lambda x: st.erlang.cdf(x,*erlang_params))"
   ]
  },
  {
   "cell_type": "markdown",
   "metadata": {},
   "source": [
    "En el caso de la _distribución erlang_ obsevamos que contamos con un \"p-value\" que ronda el $0$, el cual, ya nos dice de antemano que rechazemos la hipótesis nula ($H_{0}$), de manera que podemos decir que estadísticamente nuestro conjunto de datos no ditribuye como erlang.\n",
    "\n",
    "Ahora realizamos la prueba **Cuantil-Cuantil**."
   ]
  },
  {
   "cell_type": "code",
   "execution_count": 67,
   "metadata": {
    "scrolled": true
   },
   "outputs": [
    {
     "data": {
      "image/png": "[encoded data removed]",
      "text/plain": [
       "<Figure size 1008x576 with 2 Axes>"
      ]
     },
     "metadata": {
      "needs_background": "light"
     },
     "output_type": "display_data"
    }
   ],
   "source": [
    "# Graficamos la distribución y el q-q plot.\n",
    "# Ahora para la distribución de erlang\n",
    "distribution_name2 = 'erlang'\n",
    "\n",
    "# Graficamos.\n",
    "plot_pdf_qq(v_ale_real, bins_norm, distribution_name2)"
   ]
  },
  {
   "cell_type": "markdown",
   "metadata": {},
   "source": [
    "Aquí nuevamente confirmamos los descrito por nuestra prueba de **Kolmogorov-Smirnov**, los datos no se distribuyen como una _distribución erlang_."
   ]
  },
  {
   "cell_type": "markdown",
   "metadata": {},
   "source": [
    "Por último, para terminar de evaluar las distribuciones con menor error de aproximación, tenemos a la _distribución gamma_. La prueba de hipótesis se ve de la siguiente manera:\n",
    "- $H_{0}$: Los datos se distribuyen como una _distribución gamma_.\n",
    "- $H_{a}$: Los datos no se distribuyen como una _distribución gamma_."
   ]
  },
  {
   "cell_type": "code",
   "execution_count": 68,
   "metadata": {},
   "outputs": [
    {
     "data": {
      "text/plain": [
       "KstestResult(statistic=0.3646051652439122, pvalue=0.0068617727469320045)"
      ]
     },
     "execution_count": 68,
     "metadata": {},
     "output_type": "execute_result"
    }
   ],
   "source": [
    "# Prueba Kolmogorov-Smirnov. Para la distribución de uniforme.\n",
    "# Definimos los parámetros para la distribución.\n",
    "gamma_params = st.gamma.fit(y_real)\n",
    "\n",
    "# Definimos prueba de hipotesis.\n",
    "st.kstest(y_real, lambda x: st.gamma.cdf(x,*gamma_params))"
   ]
  },
  {
   "cell_type": "markdown",
   "metadata": {},
   "source": [
    "De esta distribución con su \"p-value\" pequeño, podemos decir de manera inmediata que rechazamos la hipótesis nula ($H_{0}$). Por lo tanto nuestro conjunto de datos, **NO** se distribuye como una _distribución gamma_."
   ]
  },
  {
   "cell_type": "markdown",
   "metadata": {},
   "source": [
    "Ahora realizamos la prueba **Cuantil-Cuantil**."
   ]
  },
  {
   "cell_type": "code",
   "execution_count": 69,
   "metadata": {},
   "outputs": [
    {
     "data": {
      "image/png": "[encoded data removed]",
      "text/plain": [
       "<Figure size 1008x576 with 2 Axes>"
      ]
     },
     "metadata": {
      "needs_background": "light"
     },
     "output_type": "display_data"
    }
   ],
   "source": [
    "# Graficamos la distribución y el q-q plot.\n",
    "# Ahora para la distribución de uniforme.\n",
    "distribution_name3 = 'gamma'\n",
    "\n",
    "# Graficamos.\n",
    "plot_pdf_qq(v_ale_real, bins_norm, distribution_name3)"
   ]
  },
  {
   "cell_type": "markdown",
   "metadata": {},
   "source": [
    "Para el caso de la _distribución gamma_ confirmamos nuevamente la situación que se viene repitiendo. Nuestro conjunto de datos **Monto Solicitado** no se distribuyen como gamma."
   ]
  },
  {
   "cell_type": "markdown",
   "metadata": {},
   "source": [
    "Entonces, después de analizar el ajuste de la distribución tanto para un **KDE** como para distribuciones de probabilidad hipóteticas, en este caso particular, para las distribuciones **Chi2**, **Erlang** y **Gamma** ninguna se ajustó de manera óptima a nuestro conjunto de datos, con lo cual asumiremos la estimación por **KDE** como la función óptima para generar variables aleatorias que distribuyen como $f(x)$ del **Monto Solicitado**."
   ]
  },
  {
   "cell_type": "markdown",
   "metadata": {},
   "source": [
    "Para generar variables aleatorias que distribuyen como nuestra $f(x)$, utilizaremos el **Método de Aceptación y Rechazo**."
   ]
  },
  {
   "cell_type": "markdown",
   "metadata": {},
   "source": [
    "### `Aceptación y Rechazo`."
   ]
  },
  {
   "cell_type": "code",
   "execution_count": 84,
   "metadata": {},
   "outputs": [],
   "source": [
    "# Método de aceptación rechazo.\n",
    "# Este metodo genera N variables aleatorias\n",
    "def values_acep_rechazo(N:'Cantidad de variables aleatorias a generar',\n",
    "                        f:'Función objetivo a generar',\n",
    "                        t:'Función que mayorea a f',\n",
    "                        lim_inf:'Límite inferior para R2',\n",
    "                        lim_sup:'Límite superior para R2'):\n",
    "    c = []\n",
    "    i = 0\n",
    "    agregador = c.append\n",
    "    \n",
    "    # Iteramos hasta lograr N variables aleatorias.\n",
    "    while i <= N:\n",
    "        \n",
    "        # Generación de variables aleatorias bajo los parámetros establecidos\n",
    "        R1 = np.random.uniform(lim_inf,lim_sup,size=1)\n",
    "        R2 = np.random.rand(1)\n",
    "        \n",
    "        f_x = f(R1)\n",
    "        t_x = t(R1)\n",
    "        \n",
    "        # Condición de aceptación.\n",
    "        if R2 * t_x <= f_x:\n",
    "            agregador(float(R1))  \n",
    "            i+=1\n",
    "        \n",
    "    return c"
   ]
  },
  {
   "cell_type": "markdown",
   "metadata": {},
   "source": [
    "Ya con las función del **Método de Aceptación y Rechazo** programadas, ahora lo que haremos será definir los parámetros necesarios para generar los aleatorios. Definiremos como la función que mayora $t(x)$ como una constante, la cual será el máximo de la función $f(x)$."
   ]
  },
  {
   "cell_type": "code",
   "execution_count": 85,
   "metadata": {},
   "outputs": [
    {
     "name": "stdout",
     "output_type": "stream",
     "text": [
      "El máximo de nuestra f(x) es: 0.3841074592743751\n"
     ]
    },
    {
     "data": {
      "image/png": "[encoded data removed]",
      "text/plain": [
       "<Figure size 432x288 with 1 Axes>"
      ]
     },
     "metadata": {
      "needs_background": "light"
     },
     "output_type": "display_data"
    }
   ],
   "source": [
    "# Definimos el máximo de la función de distribución de probabilidad.\n",
    "max_f = max(f_uni_kde(x_grid))\n",
    "print('El máximo de nuestra f(x) es:',max_f)\n",
    "\n",
    "# Transformamos el máximo en una función constante definida en el dominio de nuestra PDF.\n",
    "t = lambda x: max_f * np.ones([len(x)])\n",
    "\n",
    "# Gráficamos nuestra PDF junto con la función que la mayora.\n",
    "plt.plot(x_grid, f_uni_kde(x_grid), label='f(x)')\n",
    "plt.plot(x_grid, t(x_grid), label='t(x)')\n",
    "plt.title('$t(x) \\geq f(x)$')\n",
    "plt.legend();"
   ]
  },
  {
   "cell_type": "markdown",
   "metadata": {},
   "source": [
    "### `Simulación`."
   ]
  },
  {
   "cell_type": "markdown",
   "metadata": {},
   "source": [
    "Hasta ahora, ya tenemos como se generan variables aleatorias que distribuyen como $f(x)$ que es el función de distribución de probabilidad del **Monto Solicitado**. Lo que haremos a continuación será simular escenarios _a posteriori_ para el **Monto Solicitado**."
   ]
  },
  {
   "cell_type": "code",
   "execution_count": 274,
   "metadata": {},
   "outputs": [
    {
     "data": {
      "image/png": "[encoded data removed]",
      "text/plain": [
       "<Figure size 432x288 with 1 Axes>"
      ]
     },
     "metadata": {
      "needs_background": "light"
     },
     "output_type": "display_data"
    }
   ],
   "source": [
    "# Calculamos los valores aleatorios. Generaremos 1,000 aleatorios.\n",
    "New_VA_MS = values_acep_rechazo(1000, f_uni_kde, t, min(x_real), max(x_real))\n",
    "\n",
    "# A manera de comprobación, graficaremos un histograma de las variables aleatorias generadas. Se espera distribuyan como f(x).\n",
    "sns.histplot(New_VA_MS, color='r', bins=20).set_title('V.A.Generadas');"
   ]
  },
  {
   "cell_type": "markdown",
   "metadata": {},
   "source": [
    "Del histograma antes descrito, podemos observar que masomenos distribuye como nuestra función $f(x)$, con lo cual podemos aceptar el **Método de Aceptación y Rechazo** cómo válido y nuestra simulación también."
   ]
  },
  {
   "cell_type": "code",
   "execution_count": 275,
   "metadata": {},
   "outputs": [
    {
     "name": "stdout",
     "output_type": "stream",
     "text": [
      "La media utilizando el método de números complementarios es de: 12.247596951974685\n"
     ]
    }
   ],
   "source": [
    "# Utilizando el metodo de numeros complementarios.\n",
    "# Complemento de variables aleatorias.\n",
    "a = min(New_VA_MS)\n",
    "b = max(New_VA_MS)\n",
    "U_sC = b - np.array(New_VA_MS) + a\n",
    "\n",
    "# Buscamos la media para este método.\n",
    "complementario = np.concatenate([New_VA_MS, U_sC])\n",
    "media_complementario = np.mean(complementario)\n",
    "\n",
    "print(f'La media utilizando el método de números complementarios es de: {media_complementario}')"
   ]
  },
  {
   "cell_type": "markdown",
   "metadata": {},
   "source": [
    "Ahora definimos un intervalo de confianza para nuestro **Monto solicitado**."
   ]
  },
  {
   "cell_type": "code",
   "execution_count": 279,
   "metadata": {},
   "outputs": [
    {
     "name": "stdout",
     "output_type": "stream",
     "text": [
      "Con una confianza del 95% nuestros datos se encontrarán en el intervalo: (12.192777675298423, 12.302416228650948)\n"
     ]
    }
   ],
   "source": [
    "# Definimos un intervalo al 95 % de confianza.\n",
    "confianza = 0.95\n",
    "muestra_generada = complementario\n",
    "intervalo_MS = st.t.interval(confianza, len(muestra_generada)-1, loc=np.mean(muestra_generada), scale=st.sem(muestra_generada))\n",
    "print(f'Con una confianza del 95% nuestros datos se encontrarán en el intervalo: {intervalo_MS}')"
   ]
  },
  {
   "cell_type": "markdown",
   "metadata": {},
   "source": [
    "Ya con nuestro intervalo definido, ahora desescalamos los datos."
   ]
  },
  {
   "cell_type": "code",
   "execution_count": 280,
   "metadata": {},
   "outputs": [
    {
     "name": "stdout",
     "output_type": "stream",
     "text": [
      "Con una confianza del 95% nuestros datos se encontrarán en el intervalo: (197358.6035043664, 220227.46624156003)\n"
     ]
    }
   ],
   "source": [
    "# Hacemos intervalo deescalado.\n",
    "intervalo_MS_N = ((np.exp(intervalo_MS[0]), np.exp(intervalo_MS[1])))\n",
    "print(f'Con una confianza del 95% nuestros datos se encontrarán en el intervalo: {intervalo_MS_N}')"
   ]
  },
  {
   "cell_type": "markdown",
   "metadata": {},
   "source": [
    "### `Conclusiones`."
   ]
  },
  {
   "cell_type": "markdown",
   "metadata": {},
   "source": [
    "En cuanto al valor esperado para la siguiente solicitud de crédito, observamos que para el **Monto solicitado** del crédito, este se define entre $\\$197,358$ y $\\$220,227$.\n",
    "\n",
    "Entonces nosotros como institución bancaria, a falta de conocer el **Monto Aprobado** de los créditos. Podemos saber aproximadamente como será el comportamiento medio de las solicitudes, con lo cual podemos irnos dando una idea de los recursos que serán necesario emplear a este rubro de la institución."
   ]
  },
  {
   "cell_type": "markdown",
   "metadata": {},
   "source": [
    "## `Nodo: Monto aprobado`."
   ]
  },
  {
   "cell_type": "markdown",
   "metadata": {},
   "source": [
    "### `Visualización de los datos`."
   ]
  },
  {
   "cell_type": "code",
   "execution_count": 94,
   "metadata": {},
   "outputs": [
    {
     "data": {
      "image/png": "[encoded data removed]",
      "text/plain": [
       "<Figure size 432x288 with 1 Axes>"
      ]
     },
     "metadata": {
      "needs_background": "light"
     },
     "output_type": "display_data"
    }
   ],
   "source": [
    "# Visualizando nuestros datos.\n",
    "sns.boxplot(x=data['AMT_CREDIT'], saturation=.5, color='r');"
   ]
  },
  {
   "cell_type": "markdown",
   "metadata": {},
   "source": [
    "De igual manera como se puede observar en el **monto solicitado**, existen valores extremos que excenden el rango intercuatílico de nuestro **boxplot**, con lo cual tenemos una pauta para pensar en alguna transformación matemática a nuestros datos, en este caso la más sencilla resultaría en una transformación logarítmica."
   ]
  },
  {
   "cell_type": "code",
   "execution_count": 95,
   "metadata": {},
   "outputs": [
    {
     "data": {
      "image/png": "[encoded data removed]",
      "text/plain": [
       "<Figure size 432x288 with 1 Axes>"
      ]
     },
     "metadata": {
      "needs_background": "light"
     },
     "output_type": "display_data"
    }
   ],
   "source": [
    "# Transformamos el monto aprobado a una escala logaritmica.\n",
    "data_approved = np.log(data['AMT_CREDIT'])\n",
    "sns.boxplot(x=data_approved, saturation=.5, color='r');"
   ]
  },
  {
   "cell_type": "markdown",
   "metadata": {},
   "source": [
    "Con la transformación logarítmica se puede observar que se logra reducir significativamente el sesgo generado por los valores outliers, y si bien aún siguen existiendo la tendencia generalizada ya parece ser modelable."
   ]
  },
  {
   "cell_type": "code",
   "execution_count": 96,
   "metadata": {},
   "outputs": [
    {
     "data": {
      "text/plain": [
       "count    991477.000000\n",
       "mean         11.588086\n",
       "std           1.072614\n",
       "min           8.544614\n",
       "25%          10.754503\n",
       "50%          11.501966\n",
       "75%          12.304285\n",
       "max          15.321739\n",
       "Name: AMT_CREDIT, dtype: float64"
      ]
     },
     "execution_count": 96,
     "metadata": {},
     "output_type": "execute_result"
    }
   ],
   "source": [
    "# Propiedades estadísticas de los datos en escala logarítmica.\n",
    "data_approved.describe()"
   ]
  },
  {
   "cell_type": "markdown",
   "metadata": {},
   "source": [
    "Dentro de las propiedades estadísticas podemos ver que tenemos alrededor de $991,477$ datos, la media de la distribución ronda por el $11.58$ y el valor mínimo es de $8.54$ mientrás que el máximo es de $15.32$."
   ]
  },
  {
   "cell_type": "code",
   "execution_count": 97,
   "metadata": {},
   "outputs": [
    {
     "data": {
      "image/png": "[encoded data removed]",
      "text/plain": [
       "<Figure size 432x288 with 1 Axes>"
      ]
     },
     "metadata": {
      "needs_background": "light"
     },
     "output_type": "display_data"
    }
   ],
   "source": [
    "# Visualizamos los datos en un histograma.\n",
    "sns.histplot(data_approved, color='y', bins=20).set_title('Monto aprobado. Muestra completa');"
   ]
  },
  {
   "cell_type": "markdown",
   "metadata": {},
   "source": [
    "Recordemos que estamos trabajando con $991,477$ datos, y si tomamos en cuenta los costos computacionales sería recomendable reducir la muestra a alguna cantidad de datos que siga representando significativamente la distribución. Si obsevamos el comportamiento del **monto aprobado** vemos que es muy similar al del **monto solicitado**, nodo sobre el cual se trabajó con $100,000$ muestras aleatorias, por lo tanto realizaremos un proceso similar con este nodo."
   ]
  },
  {
   "cell_type": "code",
   "execution_count": 98,
   "metadata": {},
   "outputs": [
    {
     "data": {
      "image/png": "[encoded data removed]",
      "text/plain": [
       "<Figure size 432x288 with 1 Axes>"
      ]
     },
     "metadata": {
      "needs_background": "light"
     },
     "output_type": "display_data"
    }
   ],
   "source": [
    "# Datos de prueba, tomaremos 100,000.\n",
    "x_approved = data_approved.sample(n=100000, random_state=1)\n",
    "\n",
    "# Con la intención de saber si nuestra muestra representa el comportamiento de la distribución, obtendremos su histograma.\n",
    "sns.histplot(x_approved, color='r', bins=20).set_title('Muestra de 100,000 datos');"
   ]
  },
  {
   "cell_type": "markdown",
   "metadata": {},
   "source": [
    "Del histograma descrito se puede observar que tanto la muestra completa como la muestra de $100,000$ datos se comportan de una manera muy similar, con lo cual se puede aceptar está muestra como válida para poder trabajar sobre ella.\n",
    "\n",
    "Ya con nuestros datos preparados, proseguiremos a realizar una estimación por **KDE**."
   ]
  },
  {
   "cell_type": "markdown",
   "metadata": {},
   "source": [
    "### `Kernel Density Estimation`."
   ]
  },
  {
   "cell_type": "code",
   "execution_count": 99,
   "metadata": {},
   "outputs": [],
   "source": [
    "# Trabajaremos con un kernel univariado.\n",
    "# Límites donde nosotros queremos graficar nuestra distribución.\n",
    "x_grid_approved = np.linspace(9,15,1000) \n",
    "\n",
    "# Datos reales. Muestra completa\n",
    "pdf_true_approved = data_approved"
   ]
  },
  {
   "cell_type": "code",
   "execution_count": 100,
   "metadata": {},
   "outputs": [
    {
     "data": {
      "image/png": "[encoded data removed]",
      "text/plain": [
       "<Figure size 432x288 with 1 Axes>"
      ]
     },
     "metadata": {
      "needs_background": "light"
     },
     "output_type": "display_data"
    },
    {
     "name": "stdout",
     "output_type": "stream",
     "text": [
      "El bandwidth óptimo es de: 0.1138684679449617\n"
     ]
    }
   ],
   "source": [
    "# Definición del modelo para la distribución total.\n",
    "kde_univariate_approved = KDEUnivariate(x_approved)\n",
    "\n",
    "# Guardamos el bw óptimo para este modelo\n",
    "bw_optimo_approved = kde_univariate_approved.fit(bw='normal_reference').bw\n",
    "\n",
    "# Graficamos la distribución junto con la estimación.\n",
    "plt.plot(x_grid_approved,kde_statsmodels_u(x_approved, x_grid_approved))\n",
    "plt.hist(x_approved,bins=20,density=True)\n",
    "plt.title('KDE univariate')\n",
    "plt.show()\n",
    "print(f'El bandwidth óptimo es de: {bw_optimo_approved}')"
   ]
  },
  {
   "cell_type": "markdown",
   "metadata": {},
   "source": [
    "Al observar nuestro ajuste por **KDE** podemos decir que con el bandwidth óptimo que es de $0.1138$ pareciera que estamos sobre estimando el comportamiento de la distribución real. Entonces al igual que lo hicimos con el **monto solicitado** lo que haremos será tratar de suavizar este ajuste aumentando el bandwidth. Utilizaremos uno de $0.20$."
   ]
  },
  {
   "cell_type": "code",
   "execution_count": 101,
   "metadata": {},
   "outputs": [
    {
     "data": {
      "image/png": "[encoded data removed]",
      "text/plain": [
       "<Figure size 432x288 with 1 Axes>"
      ]
     },
     "metadata": {
      "needs_background": "light"
     },
     "output_type": "display_data"
    },
    {
     "name": "stdout",
     "output_type": "stream",
     "text": [
      "El bandwidth es de: 0.20\n"
     ]
    }
   ],
   "source": [
    "# Graficamos la distribución junto con la estimación.\n",
    "plt.plot(x_grid_approved,kde_statsmodels_u20(x_approved, x_grid_approved))\n",
    "plt.hist(x_approved,bins=20,density=True)\n",
    "plt.title('KDE univariate')\n",
    "plt.show()\n",
    "print(f'El bandwidth es de: 0.20')"
   ]
  },
  {
   "cell_type": "markdown",
   "metadata": {},
   "source": [
    "Con un bandwidth de $0.20$ se puede observar que el ajuste es mucho más suave lo que hace que nuestro **KDE** sea más manejable, sobre todo en temas de costos computacionales.\n",
    "\n",
    "Ahora, con la intención de hacer una comparación del ajuste de nuestro **KDE**, respecto a nuestros datos reales, lo que haremos será comparar su aproximación a través de una métrica de error, en este caso particular utilizaremos el **SSE** como referencia."
   ]
  },
  {
   "cell_type": "code",
   "execution_count": 102,
   "metadata": {},
   "outputs": [
    {
     "name": "stdout",
     "output_type": "stream",
     "text": [
      "El error de la suma de la resta de cuadrados que se obtuvo entre nuestro KDE y la distribución real es de: 0.0168\n"
     ]
    }
   ],
   "source": [
    "# Definimos la función de distribución de probabilidad a partir del KDEUnivariate.\n",
    "kde_univariate_approved.fit(bw=0.20)\n",
    "f_uni_kde_a = lambda x: kde_univariate_approved.evaluate(x)\n",
    "\n",
    "# Definimos métrica de error.\n",
    "# Almacenamos la distribución real.\n",
    "y_real_a, x_real_a = np.histogram(data_approved, bins=20, density=True)\n",
    "x_real_a = x_real_a[1:]\n",
    "\n",
    "# Definimos la distribución generada por el KDE.\n",
    "y_est_a = f_uni_kde_a(x_real_a)\n",
    "\n",
    "# Calculamos el error.\n",
    "error_kde_a =((y_real_a-y_est_a)**2).sum()\n",
    "print(f'El error de la suma de la resta de cuadrados que se obtuvo entre nuestro KDE y la distribución real es de: {((error_kde_a)).round(4)}')"
   ]
  },
  {
   "cell_type": "markdown",
   "metadata": {},
   "source": [
    "Observando el **SSE** obtenido, podemos concluir que el **KDE** univariado que se obtuvo, parece aproximar de una buena manera la distribución que sigue nuesto **Monto Aprobado**, sin embargo, con la intención de generar un análisis más profundo, evaluaremos cuales de las funciones de distribución de probabilidad existentes se ajustan bien a nuestros conjunto de datos, esto para determinar si existe alguna otra que se ajuste de mejor manera."
   ]
  },
  {
   "cell_type": "markdown",
   "metadata": {},
   "source": [
    "### `Buscando PDF's`."
   ]
  },
  {
   "cell_type": "markdown",
   "metadata": {},
   "source": [
    "Utilizaremos la paquetería **Fitter** para encontrar de las distribuciones de probabilidad continuas cuales son las que mejor se adecuan a nuestro **monto aprobado**."
   ]
  },
  {
   "cell_type": "code",
   "execution_count": 32,
   "metadata": {},
   "outputs": [
    {
     "data": {
      "text/html": [
       "\n",
       "            <div style=\"float: left; border: 1px solid black; width:500px\">\n",
       "              <div id=\"7bb3f06e-e19e-40ee-bd6d-3f6c787a6ff7\" style=\"background-color:blue; width:0%\">&nbsp;</div>\n",
       "            </div>\n",
       "            <label id=\"9d73831b-b09a-44c5-a406-7701950b1cdd\" style=\"padding-left: 10px;\" text = \"\"/>\n",
       "            "
      ],
      "text/plain": [
       "<IPython.core.display.HTML object>"
      ]
     },
     "metadata": {},
     "output_type": "display_data"
    },
    {
     "name": "stderr",
     "output_type": "stream",
     "text": [
      "WARNING:root:SKIPPED burr distribution (taking more than 30 seconds)\n",
      "WARNING:root:SKIPPED crystalball distribution (taking more than 30 seconds)\n",
      "WARNING:root:SKIPPED gausshyper distribution (taking more than 30 seconds)\n",
      "WARNING:root:SKIPPED genexpon distribution (taking more than 30 seconds)\n",
      "WARNING:root:SKIPPED genextreme distribution (taking more than 30 seconds)\n",
      "WARNING:root:SKIPPED gengamma distribution (taking more than 30 seconds)\n",
      "WARNING:root:SKIPPED genhalflogistic distribution (taking more than 30 seconds)\n",
      "WARNING:root:SKIPPED geninvgauss distribution (taking more than 30 seconds)\n",
      "WARNING:root:SKIPPED genlogistic distribution (taking more than 30 seconds)\n",
      "WARNING:root:SKIPPED genpareto distribution (taking more than 30 seconds)\n",
      "WARNING:root:SKIPPED gilbrat distribution (taking more than 30 seconds)\n",
      "WARNING:root:SKIPPED gompertz distribution (taking more than 30 seconds)\n",
      "WARNING:root:SKIPPED halfcauchy distribution (taking more than 30 seconds)\n",
      "WARNING:root:SKIPPED halfgennorm distribution (taking more than 30 seconds)\n",
      "WARNING:root:SKIPPED invgamma distribution (taking more than 30 seconds)\n",
      "WARNING:root:SKIPPED kstwo distribution (taking more than 30 seconds)\n",
      "WARNING:root:SKIPPED invgauss distribution (taking more than 30 seconds)\n",
      "WARNING:root:SKIPPED invweibull distribution (taking more than 30 seconds)\n",
      "WARNING:root:SKIPPED johnsonsb distribution (taking more than 30 seconds)\n",
      "WARNING:root:SKIPPED johnsonsu distribution (taking more than 30 seconds)\n",
      "WARNING:root:SKIPPED kappa3 distribution (taking more than 30 seconds)\n",
      "WARNING:root:SKIPPED kappa4 distribution (taking more than 30 seconds)\n",
      "WARNING:root:SKIPPED ksone distribution (taking more than 30 seconds)\n",
      "WARNING:root:SKIPPED levy distribution (taking more than 30 seconds)\n",
      "WARNING:root:SKIPPED levy_l distribution (taking more than 30 seconds)\n",
      "WARNING:root:SKIPPED levy_stable distribution (taking more than 30 seconds)\n",
      "WARNING:root:SKIPPED loggamma distribution (taking more than 30 seconds)\n",
      "WARNING:root:SKIPPED loglaplace distribution (taking more than 30 seconds)\n",
      "WARNING:root:SKIPPED lognorm distribution (taking more than 30 seconds)\n",
      "WARNING:root:SKIPPED loguniform distribution (taking more than 30 seconds)\n",
      "WARNING:root:SKIPPED lomax distribution (taking more than 30 seconds)\n",
      "WARNING:root:SKIPPED maxwell distribution (taking more than 30 seconds)\n",
      "WARNING:root:SKIPPED mielke distribution (taking more than 30 seconds)\n",
      "WARNING:root:SKIPPED nakagami distribution (taking more than 30 seconds)\n",
      "WARNING:root:SKIPPED ncf distribution (taking more than 30 seconds)\n",
      "WARNING:root:SKIPPED nct distribution (taking more than 30 seconds)\n",
      "WARNING:root:SKIPPED ncx2 distribution (taking more than 30 seconds)\n",
      "C:\\Users\\bryan\\Anaconda3\\lib\\site-packages\\scipy\\stats\\_distn_infrastructure.py:1715: IntegrationWarning: The algorithm does not converge.  Roundoff error is detected\n",
      "  in the extrapolation table.  It is assumed that the requested tolerance\n",
      "  cannot be achieved, and that the returned result (if full_output = 1) is \n",
      "  the best which can be obtained.\n",
      "  return integrate.quad(self._mom_integ1, 0, 1, args=(m,)+args)[0]\n",
      "WARNING:root:SKIPPED pareto distribution (taking more than 30 seconds)\n",
      "WARNING:root:SKIPPED norminvgauss distribution (taking more than 30 seconds)\n",
      "WARNING:root:SKIPPED pearson3 distribution (taking more than 30 seconds)\n",
      "WARNING:root:SKIPPED powerlaw distribution (taking more than 30 seconds)\n",
      "WARNING:root:SKIPPED rv_continuous distribution (taking more than 30 seconds)\n",
      "WARNING:root:SKIPPED rv_histogram distribution (taking more than 30 seconds)\n",
      "WARNING:root:SKIPPED powerlognorm distribution (taking more than 30 seconds)\n",
      "WARNING:root:SKIPPED powernorm distribution (taking more than 30 seconds)\n",
      "WARNING:root:SKIPPED rayleigh distribution (taking more than 30 seconds)\n",
      "WARNING:root:SKIPPED rdist distribution (taking more than 30 seconds)\n",
      "WARNING:root:SKIPPED recipinvgauss distribution (taking more than 30 seconds)\n",
      "WARNING:root:SKIPPED reciprocal distribution (taking more than 30 seconds)\n",
      "WARNING:root:SKIPPED rice distribution (taking more than 30 seconds)\n",
      "WARNING:root:SKIPPED semicircular distribution (taking more than 30 seconds)\n",
      "WARNING:root:SKIPPED skewnorm distribution (taking more than 30 seconds)\n",
      "WARNING:root:SKIPPED t distribution (taking more than 30 seconds)\n",
      "WARNING:root:SKIPPED trapz distribution (taking more than 30 seconds)\n",
      "WARNING:root:SKIPPED triang distribution (taking more than 30 seconds)\n",
      "C:\\Users\\bryan\\Anaconda3\\lib\\site-packages\\scipy\\stats\\_distn_infrastructure.py:1715: IntegrationWarning: The integral is probably divergent, or slowly convergent.\n",
      "  return integrate.quad(self._mom_integ1, 0, 1, args=(m,)+args)[0]\n",
      "WARNING:root:SKIPPED truncexpon distribution (taking more than 30 seconds)\n",
      "WARNING:root:SKIPPED truncnorm distribution (taking more than 30 seconds)\n",
      "WARNING:root:SKIPPED tukeylambda distribution (taking more than 30 seconds)\n",
      "WARNING:root:SKIPPED vonmises distribution (taking more than 30 seconds)\n",
      "WARNING:root:SKIPPED vonmises_line distribution (taking more than 30 seconds)\n",
      "WARNING:root:SKIPPED wald distribution (taking more than 30 seconds)\n",
      "WARNING:root:SKIPPED weibull_max distribution (taking more than 30 seconds)\n",
      "WARNING:root:SKIPPED weibull_min distribution (taking more than 30 seconds)\n"
     ]
    },
    {
     "name": "stdout",
     "output_type": "stream",
     "text": [
      "Wall time: 4min 44s\n"
     ]
    },
    {
     "data": {
      "text/html": [
       "<div>\n",
       "<style scoped>\n",
       "    .dataframe tbody tr th:only-of-type {\n",
       "        vertical-align: middle;\n",
       "    }\n",
       "\n",
       "    .dataframe tbody tr th {\n",
       "        vertical-align: top;\n",
       "    }\n",
       "\n",
       "    .dataframe thead th {\n",
       "        text-align: right;\n",
       "    }\n",
       "</style>\n",
       "<table border=\"1\" class=\"dataframe\">\n",
       "  <thead>\n",
       "    <tr style=\"text-align: right;\">\n",
       "      <th></th>\n",
       "      <th>sumsquare_error</th>\n",
       "      <th>aic</th>\n",
       "      <th>bic</th>\n",
       "      <th>kl_div</th>\n",
       "    </tr>\n",
       "  </thead>\n",
       "  <tbody>\n",
       "    <tr>\n",
       "      <th>beta</th>\n",
       "      <td>0.008686</td>\n",
       "      <td>121.687146</td>\n",
       "      <td>-1.625849e+06</td>\n",
       "      <td>0.020810</td>\n",
       "    </tr>\n",
       "    <tr>\n",
       "      <th>f</th>\n",
       "      <td>0.009052</td>\n",
       "      <td>117.707349</td>\n",
       "      <td>-1.621728e+06</td>\n",
       "      <td>0.026496</td>\n",
       "    </tr>\n",
       "    <tr>\n",
       "      <th>erlang</th>\n",
       "      <td>0.009570</td>\n",
       "      <td>117.914638</td>\n",
       "      <td>-1.616170e+06</td>\n",
       "      <td>0.025106</td>\n",
       "    </tr>\n",
       "    <tr>\n",
       "      <th>chi2</th>\n",
       "      <td>0.009570</td>\n",
       "      <td>117.914711</td>\n",
       "      <td>-1.616170e+06</td>\n",
       "      <td>0.025106</td>\n",
       "    </tr>\n",
       "    <tr>\n",
       "      <th>gamma</th>\n",
       "      <td>0.009570</td>\n",
       "      <td>117.914757</td>\n",
       "      <td>-1.616170e+06</td>\n",
       "      <td>0.025106</td>\n",
       "    </tr>\n",
       "  </tbody>\n",
       "</table>\n",
       "</div>"
      ],
      "text/plain": [
       "        sumsquare_error         aic           bic    kl_div\n",
       "beta           0.008686  121.687146 -1.625849e+06  0.020810\n",
       "f              0.009052  117.707349 -1.621728e+06  0.026496\n",
       "erlang         0.009570  117.914638 -1.616170e+06  0.025106\n",
       "chi2           0.009570  117.914711 -1.616170e+06  0.025106\n",
       "gamma          0.009570  117.914757 -1.616170e+06  0.025106"
      ]
     },
     "execution_count": 32,
     "metadata": {},
     "output_type": "execute_result"
    }
   ],
   "source": [
    "%%time\n",
    "\n",
    "# Calculamos el costo computacional de la paquetería fitter.\n",
    "# Definimos el tiempo de ajuste máximo de 30 segundos.\n",
    "f_fitter_a = Fitter(x_approved, bins=20, timeout=30)\n",
    "f_fitter_a.fit()\n",
    "error_fitter_a = f_fitter_a.summary(plot=False)\n",
    "error_fitter_a"
   ]
  },
  {
   "cell_type": "code",
   "execution_count": 33,
   "metadata": {},
   "outputs": [
    {
     "data": {
      "text/html": [
       "<div>\n",
       "<style scoped>\n",
       "    .dataframe tbody tr th:only-of-type {\n",
       "        vertical-align: middle;\n",
       "    }\n",
       "\n",
       "    .dataframe tbody tr th {\n",
       "        vertical-align: top;\n",
       "    }\n",
       "\n",
       "    .dataframe thead th {\n",
       "        text-align: right;\n",
       "    }\n",
       "</style>\n",
       "<table border=\"1\" class=\"dataframe\">\n",
       "  <thead>\n",
       "    <tr style=\"text-align: right;\">\n",
       "      <th></th>\n",
       "      <th>sumsquare_error</th>\n",
       "      <th>aic</th>\n",
       "      <th>bic</th>\n",
       "      <th>kl_div</th>\n",
       "    </tr>\n",
       "  </thead>\n",
       "  <tbody>\n",
       "    <tr>\n",
       "      <th>beta</th>\n",
       "      <td>0.008686</td>\n",
       "      <td>121.687146</td>\n",
       "      <td>-1.625849e+06</td>\n",
       "      <td>0.020810</td>\n",
       "    </tr>\n",
       "    <tr>\n",
       "      <th>f</th>\n",
       "      <td>0.009052</td>\n",
       "      <td>117.707349</td>\n",
       "      <td>-1.621728e+06</td>\n",
       "      <td>0.026496</td>\n",
       "    </tr>\n",
       "    <tr>\n",
       "      <th>erlang</th>\n",
       "      <td>0.009570</td>\n",
       "      <td>117.914638</td>\n",
       "      <td>-1.616170e+06</td>\n",
       "      <td>0.025106</td>\n",
       "    </tr>\n",
       "  </tbody>\n",
       "</table>\n",
       "</div>"
      ],
      "text/plain": [
       "        sumsquare_error         aic           bic    kl_div\n",
       "beta           0.008686  121.687146 -1.625849e+06  0.020810\n",
       "f              0.009052  117.707349 -1.621728e+06  0.026496\n",
       "erlang         0.009570  117.914638 -1.616170e+06  0.025106"
      ]
     },
     "execution_count": 33,
     "metadata": {},
     "output_type": "execute_result"
    }
   ],
   "source": [
    "# Definimos el top 3 de las distribuciones que según el sse mejor se ajustan.\n",
    "best_error_a = error_fitter_a.sort_values(by='sumsquare_error').head(3)\n",
    "best_error_a"
   ]
  },
  {
   "cell_type": "markdown",
   "metadata": {},
   "source": [
    "De nuestro ajuste con **Fitter** podemos ver que según el **SSE** el top 3 de distribuciones que mejor se ajustan son las siguientes:\n",
    "- Beta\n",
    "- F\n",
    "- Erlang\n",
    "\n",
    "Recordemos que el error de aproximación solamente sirve como una métrica de referencia, para poder definir cual **PDF** se ajusta mejor a nuestro conjunto de datos realizaremos la prueba de **Kolmogorov-Smirnov** y una prueba **Cuantil-Cuantil**.\n",
    "\n",
    "Trabajaremos con un nivel de significancia del $5\\%$ $\\rightarrow \\alpha = 0.05$"
   ]
  },
  {
   "cell_type": "markdown",
   "metadata": {},
   "source": [
    "Comenzamos comparando con la _distribución Beta_, de manera que nuestra prueba de hipótesis se describe de la siguiente manera:\n",
    "- $H_{0}$: Los datos se distribuyen como una distribución Beta.\n",
    "- $H_{a}$: Los datos no se distribuyen como una distribución Beta."
   ]
  },
  {
   "cell_type": "code",
   "execution_count": 41,
   "metadata": {},
   "outputs": [
    {
     "data": {
      "text/plain": [
       "KstestResult(statistic=0.022221555415565586, pvalue=2.507694883682816e-43)"
      ]
     },
     "execution_count": 41,
     "metadata": {},
     "output_type": "execute_result"
    }
   ],
   "source": [
    "# Comenzamos para la distribución beta. Prueba Kolmogorov-Smirnov.\n",
    "# Definimos los parámetros para la distribución.\n",
    "beta_params = st.beta.fit(x_approved)\n",
    "\n",
    "# Definimos prueba de hipotesis.\n",
    "st.kstest(x_approved, lambda x: st.beta.cdf(x,*beta_params))"
   ]
  },
  {
   "cell_type": "markdown",
   "metadata": {},
   "source": [
    "Recordando que estamos trabajando con $\\alpha = 0.05$ observamos que nuestro \"p-value\" es muy pequeño ni siquiera supera el nivel de significancia, por lo tanto podemos rechazar la $H_{0}$ de manera que el **Monto Aprobado** **NO** se distribuye como una _Distribución Beta_."
   ]
  },
  {
   "cell_type": "markdown",
   "metadata": {},
   "source": [
    "Ahora realizamos la prueba **Cuantil-Cuantil**."
   ]
  },
  {
   "cell_type": "code",
   "execution_count": 47,
   "metadata": {},
   "outputs": [],
   "source": [
    "# Graficamos la distribución y el q-q plot.\n",
    "# Comenzamos para la distribución beta.\n",
    "v_ale_real_a = x_approved\n",
    "bins_norm = 20\n",
    "distribution_name4 = 'beta'"
   ]
  },
  {
   "cell_type": "code",
   "execution_count": 48,
   "metadata": {},
   "outputs": [
    {
     "data": {
      "image/png": "[encoded data removed]",
      "text/plain": [
       "<Figure size 1008x576 with 2 Axes>"
      ]
     },
     "metadata": {
      "needs_background": "light"
     },
     "output_type": "display_data"
    }
   ],
   "source": [
    "# Graficamos\n",
    "plot_pdf_qq(v_ale_real_a, bins_norm, distribution_name4)"
   ]
  },
  {
   "cell_type": "markdown",
   "metadata": {},
   "source": [
    "De la prueba **Cuantil-Cuantil** se observa que el ajuste a lo largo de la recta es muy bueno, sin embargo, la diferencia principal se da en las colas de la distribución donde el ajuste no es muy bueno. \n",
    "\n",
    "A pesar de lo antes descrito, el ajuste de la prueba **Cuantil-Cuantil** sí difiere a los resultados obtenidos por la prueba de **Kolmogorov-Smirnov**, entonces con la intención de tener una mayor certeza sobre si nuestro **Monto Aprobado** se distribuye como una Beta, realizaremos una prueba de hipótesis con $\\chi^{2}$"
   ]
  },
  {
   "cell_type": "markdown",
   "metadata": {},
   "source": [
    "Prueba de $\\chi^{2}$."
   ]
  },
  {
   "cell_type": "code",
   "execution_count": 51,
   "metadata": {},
   "outputs": [
    {
     "name": "stdout",
     "output_type": "stream",
     "text": [
      "Valor de chi cuadrado librería =  Power_divergenceResult(statistic=28.56808519399228, pvalue=0.07308943294731723)\n"
     ]
    }
   ],
   "source": [
    "# Probability Density Function.\n",
    "pdf_beta = st.beta.pdf(x_real_a,*beta_params)\n",
    "\n",
    "# Cálculo de la esperanza usando la expresión teórica.\n",
    "Ei_beta = x_real_a * pdf_beta\n",
    "\n",
    "# Cálculo usando la librería estadística de la chi cuadrada.\n",
    "X2_beta = st.chisquare(y_real_a, Ei_beta)\n",
    "print('Valor de chi cuadrado librería = ', X2_beta)"
   ]
  },
  {
   "cell_type": "markdown",
   "metadata": {},
   "source": [
    "Despues de realizar la prueba de $\\chi^{2}$ se obtiene un \"p-value\" que ronda en el $0.0730$, si recordamos que nuestro nivel de significancia es de $5\\%$, entonces eso significa que nuestro \"p-value\" es mayor que nuestro $\\alpha$ con lo cual teóricamente no podríamos rechazar $H_{0}$, sin embargo, la probabilidad (p-value) sigue siendo significativamente pequeña, con lo cual se decide rechazar la _Distribución Beta_ como la que mejor se ajusta al **Monto Aprobado**."
   ]
  },
  {
   "cell_type": "markdown",
   "metadata": {},
   "source": [
    "Ahora lo compararemos con la _distribución F_, entonces tenemos la siguiente prueba de hipótesis.\n",
    "- $H_{0}$: Los datos se distribuyen como una distribución F.\n",
    "- $H_{a}$: Los datos no se distribuyen como una distribución F."
   ]
  },
  {
   "cell_type": "code",
   "execution_count": 42,
   "metadata": {},
   "outputs": [
    {
     "data": {
      "text/plain": [
       "KstestResult(statistic=0.019867354963910122, pvalue=1.0188604423569024e-34)"
      ]
     },
     "execution_count": 42,
     "metadata": {},
     "output_type": "execute_result"
    }
   ],
   "source": [
    "# Definimos los parámetros para la distribución.\n",
    "f_params = st.f.fit(x_approved)\n",
    "\n",
    "# Definimos prueba de hipotesis.\n",
    "st.kstest(x_approved, lambda x: st.f.cdf(x,*f_params))"
   ]
  },
  {
   "cell_type": "markdown",
   "metadata": {},
   "source": [
    "Nuevamente obtenemos un \"p-value\" muy pequeño, con lo cual rechazamos nuestra $H_{0}$ de manera que podemos decir que el **Monto Aprobado** **NO** se distribuye como una _Distribución F_."
   ]
  },
  {
   "cell_type": "markdown",
   "metadata": {},
   "source": [
    "Ahora realizamos la prueba **Cuantil-Cuantil**."
   ]
  },
  {
   "cell_type": "code",
   "execution_count": 49,
   "metadata": {},
   "outputs": [
    {
     "data": {
      "image/png": "[encoded data removed]",
      "text/plain": [
       "<Figure size 1008x576 with 2 Axes>"
      ]
     },
     "metadata": {
      "needs_background": "light"
     },
     "output_type": "display_data"
    }
   ],
   "source": [
    "# Graficamos\n",
    "distribution_name5 = 'f'\n",
    "\n",
    "plot_pdf_qq(v_ale_real_a, bins_norm, distribution_name5)"
   ]
  },
  {
   "cell_type": "markdown",
   "metadata": {},
   "source": [
    "De la prueba de **Cuantil-Cuantil** para la _Distribución F_ se observa que no se ajusta bien a la recta, con lo cual podemos concluir que la _Distribución F_ no se ajusta correctamente a nuestro conjunto de datos del **Monto Aprobado**."
   ]
  },
  {
   "cell_type": "markdown",
   "metadata": {},
   "source": [
    "Por último tenemos a la _distribución Erlang_, donde definimos la siguiente prueba de hipótesis.\n",
    "- $H_{0}$: Los datos se distribuyen como una distribución Erlang.\n",
    "- $H_{a}$: Los datos no se distribuyen como una distribución Erlang."
   ]
  },
  {
   "cell_type": "code",
   "execution_count": 43,
   "metadata": {},
   "outputs": [
    {
     "data": {
      "text/plain": [
       "KstestResult(statistic=0.020635101419888113, pvalue=2.025231548684985e-37)"
      ]
     },
     "execution_count": 43,
     "metadata": {},
     "output_type": "execute_result"
    }
   ],
   "source": [
    "# Definimos los parámetros para la distribución.\n",
    "erlang_params2 = st.erlang.fit(x_approved)\n",
    "\n",
    "# Definimos prueba de hipotesis.\n",
    "st.kstest(x_approved, lambda x: st.erlang.cdf(x,*erlang_params2))"
   ]
  },
  {
   "cell_type": "markdown",
   "metadata": {},
   "source": [
    "Tenemos un \"p-value\" muy pequeño por lo cual rechazamos nuevamente $H_{0}$ de manera que el **Monto Aprobado** **NO** se distribuye como una _Distribución Erlang_."
   ]
  },
  {
   "cell_type": "markdown",
   "metadata": {},
   "source": [
    "Ahora realizamos la prueba **Cuantil-Cuantil**."
   ]
  },
  {
   "cell_type": "code",
   "execution_count": 50,
   "metadata": {},
   "outputs": [
    {
     "data": {
      "image/png": "[encoded data removed]",
      "text/plain": [
       "<Figure size 1008x576 with 2 Axes>"
      ]
     },
     "metadata": {
      "needs_background": "light"
     },
     "output_type": "display_data"
    }
   ],
   "source": [
    "# Graficamos\n",
    "distribution_name6 = 'erlang'\n",
    "\n",
    "plot_pdf_qq(v_ale_real_a, bins_norm, distribution_name6)"
   ]
  },
  {
   "cell_type": "markdown",
   "metadata": {},
   "source": [
    "En cuanto a la prueba **Cuantil-Cuantil** de la _Distribución Erlang_ se puede percibir que el ajuste a la recta no es bueno, con lo cual rechazamos que la _Distribución de Erlang_ se ajuste de manera óptima a nuestro conjunto de datos del **Monto Aprobado**."
   ]
  },
  {
   "cell_type": "markdown",
   "metadata": {},
   "source": [
    "Entonces, después de analizar el ajuste de la distribución tanto para un **KDE** como para distribuciones de probabilidad hipóteticas, en este caso particular, para las distribuciones **Beta**, **F** y **Erlang** ninguna se ajustó de manera óptima a nuestro conjunto de datos, con lo cual asumiremos la estimación por **KDE** como la función óptima para generar variables aleatorias que distribuyen como $f(x)$ del **Monto Aprobado**."
   ]
  },
  {
   "cell_type": "markdown",
   "metadata": {},
   "source": [
    "Para generar variables aleatorias que distribuyen como nuestra $f(x)$, utilizaremos el **Método de Aceptación y Rechazo**."
   ]
  },
  {
   "cell_type": "markdown",
   "metadata": {},
   "source": [
    "### `Aceptación y Rechazo`."
   ]
  },
  {
   "cell_type": "markdown",
   "metadata": {},
   "source": [
    "Ahora lo que haremos será definir los parámetros necesarios para generar los aleatorios. Definiremos como la función que mayora $t(x)$ como una constante, la cual será el máximo de la función $f(x)$."
   ]
  },
  {
   "cell_type": "code",
   "execution_count": 103,
   "metadata": {
    "scrolled": true
   },
   "outputs": [
    {
     "name": "stdout",
     "output_type": "stream",
     "text": [
      "El máximo de nuestra f(x) es: 0.3618579237402727\n"
     ]
    },
    {
     "data": {
      "image/png": "[encoded data removed]",
      "text/plain": [
       "<Figure size 432x288 with 1 Axes>"
      ]
     },
     "metadata": {
      "needs_background": "light"
     },
     "output_type": "display_data"
    }
   ],
   "source": [
    "# Definimos el máximo de la función de distribución de probabilidad.\n",
    "max_f_a = max(f_uni_kde_a(x_grid_approved))\n",
    "print('El máximo de nuestra f(x) es:',max_f_a)\n",
    "\n",
    "# Transformamos el máximo en una función constante definida en el dominio de nuestra PDF.\n",
    "t_a = lambda x: max_f_a * np.ones([len(x)])\n",
    "\n",
    "# Gráficamos nuestra PDF junto con la función que la mayora.\n",
    "plt.plot(x_grid_approved, f_uni_kde_a(x_grid_approved), label='f(x)')\n",
    "plt.plot(x_grid_approved, t_a(x_grid_approved), label='t(x)')\n",
    "plt.title('$t(x) \\geq f(x)$')\n",
    "plt.legend();"
   ]
  },
  {
   "cell_type": "markdown",
   "metadata": {},
   "source": [
    "### `Simulación`."
   ]
  },
  {
   "cell_type": "markdown",
   "metadata": {},
   "source": [
    "Hasta ahora, ya tenemos como se generan variables aleatorias que distribuyen como $f(x)$ que es el función de distribución de probabilidad del **Monto Aprobado**. Lo que haremos a continuación será simular escenarios _a posteriori_ para el **Monto Aprobado**."
   ]
  },
  {
   "cell_type": "code",
   "execution_count": 281,
   "metadata": {},
   "outputs": [
    {
     "data": {
      "image/png": "[encoded data removed]",
      "text/plain": [
       "<Figure size 432x288 with 1 Axes>"
      ]
     },
     "metadata": {
      "needs_background": "light"
     },
     "output_type": "display_data"
    }
   ],
   "source": [
    "# Calculamos los valores aleatorios. Generaremos 1,000 aleatorios.\n",
    "Values_Approved = values_acep_rechazo(1000, f_uni_kde_a, t_a, min(x_real_a), max(x_real_a))\n",
    "\n",
    "# A manera de comprobación, graficaremos un histograma de las variables aleatorias generadas. Se espera distribuyan como f(x).\n",
    "sns.histplot(Values_Approved, color='r', bins=20).set_title('V.A.Generadas');"
   ]
  },
  {
   "cell_type": "markdown",
   "metadata": {},
   "source": [
    "Del histograma que se describe se puede observar que el comportamiento de nuestros $1,000$ aleatorios generados sí se distribuyen como nuestra función $f(x)$ con lo cual podemos aceptar el **Método de Aceptación y Rechazo** como válido para el **Monto Aprobado**.\n",
    "\n",
    "Ahora utilizaremos algún **Método de Reducción de Varianza** para poder obtener una muestra aún mejor. En este caso se eligió el **Método de Números Complementarios**."
   ]
  },
  {
   "cell_type": "code",
   "execution_count": 282,
   "metadata": {},
   "outputs": [
    {
     "name": "stdout",
     "output_type": "stream",
     "text": [
      "La media utilizando el método de números complementarios es de: 12.001799466800012\n"
     ]
    }
   ],
   "source": [
    "# Utilizando el metodo de numeros complementarios.\n",
    "# Complemento de variables aleatorias.\n",
    "a_2 = min(Values_Approved)\n",
    "b_2 = max(Values_Approved)\n",
    "U_sC_a = b_2 - np.array(Values_Approved) + a_2\n",
    "\n",
    "# Buscamos la media para este método.\n",
    "complementario_a = np.concatenate([Values_Approved, U_sC_a])\n",
    "media_complementario_a = np.mean(complementario_a)\n",
    "\n",
    "print(f'La media utilizando el método de números complementarios es de: {media_complementario_a}')"
   ]
  },
  {
   "cell_type": "markdown",
   "metadata": {},
   "source": [
    "Ahora definiremos un intervalo de confianza para el **Monto Aprobado**."
   ]
  },
  {
   "cell_type": "code",
   "execution_count": 283,
   "metadata": {},
   "outputs": [
    {
     "name": "stdout",
     "output_type": "stream",
     "text": [
      "Con una confianza del 95% nuestros datos se encontrarán en el intervalo: (11.949987001165324, 12.0536119324347)\n"
     ]
    }
   ],
   "source": [
    "# Definimos un intervalo al 95 % de confianza.\n",
    "confianza = 0.95\n",
    "muestra_generada_a = complementario_a\n",
    "intervalo_MS_a = st.t.interval(confianza, len(muestra_generada_a)-1, loc=np.mean(muestra_generada_a), scale=st.sem(muestra_generada_a))\n",
    "print(f'Con una confianza del 95% nuestros datos se encontrarán en el intervalo: {intervalo_MS_a}')"
   ]
  },
  {
   "cell_type": "markdown",
   "metadata": {},
   "source": [
    "Ahora lo que haremos será desescalar los datos. Recordemos están en escala logarítmica."
   ]
  },
  {
   "cell_type": "code",
   "execution_count": 284,
   "metadata": {},
   "outputs": [
    {
     "name": "stdout",
     "output_type": "stream",
     "text": [
      "Con una confianza del 95% nuestros datos se encontrarán en el intervalo: (154815.13414681912, 171718.5249480553)\n"
     ]
    }
   ],
   "source": [
    "# Hacemos intervalo deescalado.\n",
    "intervalo_MS_a_N = ((np.exp(intervalo_MS_a[0]), np.exp(intervalo_MS_a[1])))\n",
    "print(f'Con una confianza del 95% nuestros datos se encontrarán en el intervalo: {intervalo_MS_a_N}')"
   ]
  },
  {
   "cell_type": "markdown",
   "metadata": {},
   "source": [
    "### `Conclusiones`."
   ]
  },
  {
   "cell_type": "markdown",
   "metadata": {},
   "source": [
    "En cuanto al valor esperado para la siguiente solicitud de crédito, observamos que para el **Monto Aprobado** del crédito, este se define entre $\\$154,815$ y $\\$171,718$.\n",
    "\n",
    "Si recordamos que el **Monto Solicitado** se mueve en el intervalo $[\\$197,358$ y \\$220,227]$, entonces se puede comenzar a observar una tendencia generalizada. Estadísticamente y tomando en cuenta los resultados de la simulación de $1,000$ aleatorios, podemos ver que la tendencia general es que el **Monto Aprobado** sea menor al **Monto Solicitado**, esto nos da pauta a ir estableciendo relaciones entre estos 2 nodos, comenzando por el hecho de que se espera que la cantidad que solicite no necesariamente se vea reflejado en la cantidad de crédito que se otorgue.\n",
    "\n",
    "Esta relación nos da pauta a preguntarnos **¿Cuál es la probabilidad de que el monto solicitado del crédito corresponda con la cantidad que se aprueba para la línea?** Para tratar de resolver está interrogante se utilizará un enfoque frecuentista de la probabilidad sobre los datos originales, es decir, veremos a través de los históricos que tenemos cual es la probabilidad de que el **Monto Aprobado** $=$ **Monto Solicitado**."
   ]
  },
  {
   "cell_type": "code",
   "execution_count": 129,
   "metadata": {},
   "outputs": [],
   "source": [
    "# Almacenamos en un vector los valores donde son iguales\n",
    "is_equal = [1 if data.AMT_APPLICATION[i] == data.AMT_CREDIT[i] else 0 for i in data.index]"
   ]
  },
  {
   "cell_type": "code",
   "execution_count": 135,
   "metadata": {},
   "outputs": [
    {
     "name": "stdout",
     "output_type": "stream",
     "text": [
      "La probabilidad de que el Monto Solicitado sea igual al Monto Aprobado es de: 19.699700547768632%\n"
     ]
    }
   ],
   "source": [
    "# Calculamos la probabilidad de que sean iguales.\n",
    "prob_is_equal = sum(is_equal) / len(data)\n",
    "print(f'La probabilidad de que el Monto Solicitado sea igual al Monto Aprobado es de: {(prob_is_equal * 100)}%')"
   ]
  },
  {
   "cell_type": "markdown",
   "metadata": {},
   "source": [
    "Observamos que la probabilidad respalda lo representado en los aleatorios generados, existe una tendencia en donde aproximadamente en el $80\\%$ de los casos de las solicitudes el **Monto Aprobado** no corresponderá al **Monto Solicitado**."
   ]
  },
  {
   "cell_type": "markdown",
   "metadata": {},
   "source": [
    "## `Nodo: Bienes adquiridos`."
   ]
  },
  {
   "cell_type": "markdown",
   "metadata": {},
   "source": [
    "### `Exploración y Visualización de los datos`."
   ]
  },
  {
   "cell_type": "code",
   "execution_count": 296,
   "metadata": {},
   "outputs": [
    {
     "data": {
      "text/plain": [
       "array(['Mobile', 'XNA', 'Consumer Electronics', 'Construction Materials',\n",
       "       'Auto Accessories', 'Photo / Cinema Equipment', 'Computers',\n",
       "       'Audio/Video', 'Medicine', 'Clothing and Accessories', 'Furniture',\n",
       "       'Sport and Leisure', 'Homewares', 'Gardening', 'Jewelry',\n",
       "       'Vehicles', 'Education', 'Medical Supplies', 'Other',\n",
       "       'Direct Sales', 'Office Appliances', 'Fitness', 'Tourism',\n",
       "       'Insurance', 'Additional Service', 'Weapon', 'Animals'],\n",
       "      dtype=object)"
      ]
     },
     "execution_count": 296,
     "metadata": {},
     "output_type": "execute_result"
    }
   ],
   "source": [
    "#observamos los valores unicos que contiene la variable\n",
    "data['NAME_GOODS_CATEGORY'].unique()"
   ]
  },
  {
   "cell_type": "code",
   "execution_count": 297,
   "metadata": {},
   "outputs": [
    {
     "data": {
      "text/plain": [
       "XNA                         365106\n",
       "Mobile                      186174\n",
       "Consumer Electronics        111525\n",
       "Audio/Video                  89394\n",
       "Computers                    88050\n",
       "Furniture                    49090\n",
       "Construction Materials       22471\n",
       "Clothing and Accessories     21460\n",
       "Photo / Cinema Equipment     21379\n",
       "Auto Accessories              6560\n",
       "Jewelry                       5679\n",
       "Homewares                     4540\n",
       "Medical Supplies              3539\n",
       "Vehicles                      2990\n",
       "Sport and Leisure             2718\n",
       "Gardening                     2469\n",
       "Other                         2432\n",
       "Office Appliances             2082\n",
       "Tourism                       1462\n",
       "Medicine                      1448\n",
       "Direct Sales                   372\n",
       "Fitness                        207\n",
       "Additional Service             116\n",
       "Education                       91\n",
       "Weapon                          70\n",
       "Insurance                       52\n",
       "Animals                          1\n",
       "Name: NAME_GOODS_CATEGORY, dtype: int64"
      ]
     },
     "execution_count": 297,
     "metadata": {},
     "output_type": "execute_result"
    }
   ],
   "source": [
    "#observamos los valores en función de su frecuencia\n",
    "data['NAME_GOODS_CATEGORY'].value_counts()"
   ]
  },
  {
   "cell_type": "markdown",
   "metadata": {},
   "source": [
    "Podemos observar que existe una categoría llamada _XNA_ lo cual significa que desconocemos el bien en el que se se gasto el crédito.\n",
    "Esta información no es útil para nuestro analisís, ya que nos interesa saber el fin en el que se empleo el dinero para así ayudar al banco a conocer los hábitos de consumo de sus clientes. Sin embargo, realizaremos un analisís rápido de este caso."
   ]
  },
  {
   "cell_type": "code",
   "execution_count": 298,
   "metadata": {},
   "outputs": [
    {
     "data": {
      "text/html": [
       "<div>\n",
       "<style scoped>\n",
       "    .dataframe tbody tr th:only-of-type {\n",
       "        vertical-align: middle;\n",
       "    }\n",
       "\n",
       "    .dataframe tbody tr th {\n",
       "        vertical-align: top;\n",
       "    }\n",
       "\n",
       "    .dataframe thead th {\n",
       "        text-align: right;\n",
       "    }\n",
       "</style>\n",
       "<table border=\"1\" class=\"dataframe\">\n",
       "  <thead>\n",
       "    <tr style=\"text-align: right;\">\n",
       "      <th></th>\n",
       "      <th>SK_ID_CURR</th>\n",
       "      <th>NAME_CONTRACT_TYPE</th>\n",
       "      <th>AMT_APPLICATION</th>\n",
       "      <th>AMT_CREDIT</th>\n",
       "      <th>WEEKDAY_APPR_PROCESS_START</th>\n",
       "      <th>NAME_CASH_LOAN_PURPOSE</th>\n",
       "      <th>NAME_CLIENT_TYPE</th>\n",
       "      <th>NAME_GOODS_CATEGORY</th>\n",
       "      <th>NAME_PORTFOLIO</th>\n",
       "      <th>CHANNEL_TYPE</th>\n",
       "    </tr>\n",
       "  </thead>\n",
       "  <tbody>\n",
       "    <tr>\n",
       "      <th>1</th>\n",
       "      <td>108129</td>\n",
       "      <td>Cash loans</td>\n",
       "      <td>607500.0</td>\n",
       "      <td>679671.0</td>\n",
       "      <td>THURSDAY</td>\n",
       "      <td>XNA</td>\n",
       "      <td>Repeater</td>\n",
       "      <td>XNA</td>\n",
       "      <td>Cash</td>\n",
       "      <td>5</td>\n",
       "    </tr>\n",
       "    <tr>\n",
       "      <th>2</th>\n",
       "      <td>122040</td>\n",
       "      <td>Cash loans</td>\n",
       "      <td>112500.0</td>\n",
       "      <td>136444.5</td>\n",
       "      <td>TUESDAY</td>\n",
       "      <td>XNA</td>\n",
       "      <td>Repeater</td>\n",
       "      <td>XNA</td>\n",
       "      <td>Cash</td>\n",
       "      <td>1</td>\n",
       "    </tr>\n",
       "    <tr>\n",
       "      <th>3</th>\n",
       "      <td>176158</td>\n",
       "      <td>Cash loans</td>\n",
       "      <td>450000.0</td>\n",
       "      <td>470790.0</td>\n",
       "      <td>MONDAY</td>\n",
       "      <td>XNA</td>\n",
       "      <td>Repeater</td>\n",
       "      <td>XNA</td>\n",
       "      <td>Cash</td>\n",
       "      <td>1</td>\n",
       "    </tr>\n",
       "    <tr>\n",
       "      <th>4</th>\n",
       "      <td>199383</td>\n",
       "      <td>Cash loans</td>\n",
       "      <td>315000.0</td>\n",
       "      <td>340573.5</td>\n",
       "      <td>SATURDAY</td>\n",
       "      <td>Everyday expenses</td>\n",
       "      <td>Repeater</td>\n",
       "      <td>XNA</td>\n",
       "      <td>Cash</td>\n",
       "      <td>1</td>\n",
       "    </tr>\n",
       "    <tr>\n",
       "      <th>5</th>\n",
       "      <td>447712</td>\n",
       "      <td>Cash loans</td>\n",
       "      <td>270000.0</td>\n",
       "      <td>335754.0</td>\n",
       "      <td>FRIDAY</td>\n",
       "      <td>XNA</td>\n",
       "      <td>Repeater</td>\n",
       "      <td>XNA</td>\n",
       "      <td>Cash</td>\n",
       "      <td>1</td>\n",
       "    </tr>\n",
       "  </tbody>\n",
       "</table>\n",
       "</div>"
      ],
      "text/plain": [
       "   SK_ID_CURR NAME_CONTRACT_TYPE  AMT_APPLICATION  AMT_CREDIT  \\\n",
       "1      108129         Cash loans         607500.0    679671.0   \n",
       "2      122040         Cash loans         112500.0    136444.5   \n",
       "3      176158         Cash loans         450000.0    470790.0   \n",
       "4      199383         Cash loans         315000.0    340573.5   \n",
       "5      447712         Cash loans         270000.0    335754.0   \n",
       "\n",
       "  WEEKDAY_APPR_PROCESS_START NAME_CASH_LOAN_PURPOSE NAME_CLIENT_TYPE  \\\n",
       "1                   THURSDAY                    XNA         Repeater   \n",
       "2                    TUESDAY                    XNA         Repeater   \n",
       "3                     MONDAY                    XNA         Repeater   \n",
       "4                   SATURDAY      Everyday expenses         Repeater   \n",
       "5                     FRIDAY                    XNA         Repeater   \n",
       "\n",
       "  NAME_GOODS_CATEGORY NAME_PORTFOLIO  CHANNEL_TYPE  \n",
       "1                 XNA           Cash             5  \n",
       "2                 XNA           Cash             1  \n",
       "3                 XNA           Cash             1  \n",
       "4                 XNA           Cash             1  \n",
       "5                 XNA           Cash             1  "
      ]
     },
     "execution_count": 298,
     "metadata": {},
     "output_type": "execute_result"
    }
   ],
   "source": [
    "particular2=data[data['NAME_GOODS_CATEGORY']=='XNA']\n",
    "particular2.head()"
   ]
  },
  {
   "cell_type": "code",
   "execution_count": 299,
   "metadata": {},
   "outputs": [
    {
     "data": {
      "text/plain": [
       "Cash loans         312540\n",
       "Revolving loans     52054\n",
       "Consumer loans        512\n",
       "Name: NAME_CONTRACT_TYPE, dtype: int64"
      ]
     },
     "execution_count": 299,
     "metadata": {},
     "output_type": "execute_result"
    }
   ],
   "source": [
    "particular2['NAME_CONTRACT_TYPE'].value_counts()"
   ]
  },
  {
   "cell_type": "markdown",
   "metadata": {},
   "source": [
    "La mayoría pertenecen a los portafolios de Efectivo y tarjetas de crédito. "
   ]
  },
  {
   "cell_type": "code",
   "execution_count": 300,
   "metadata": {},
   "outputs": [
    {
     "data": {
      "text/plain": [
       "XNA                                 285607\n",
       "XAP                                  52566\n",
       "Repairs                               8677\n",
       "Other                                 6677\n",
       "Urgent needs                          3574\n",
       "Everyday expenses                     1236\n",
       "Medicine                              1037\n",
       "Buying a used car                      881\n",
       "Education                              765\n",
       "Building a house or an annex           675\n",
       "Purchase of electronic equipment       588\n",
       "Journey                                559\n",
       "Wedding / gift / holiday               397\n",
       "Car repairs                            358\n",
       "Furniture                              333\n",
       "Payments on other loans                304\n",
       "Buying a new car                       221\n",
       "Buying a home                          200\n",
       "Buying a holiday home / land           132\n",
       "Business development                   130\n",
       "Gasification / water supply            115\n",
       "Buying a garage                         39\n",
       "Hobby                                   19\n",
       "Money for a third person                12\n",
       "Refusal to name the goal                 4\n",
       "Name: NAME_CASH_LOAN_PURPOSE, dtype: int64"
      ]
     },
     "execution_count": 300,
     "metadata": {},
     "output_type": "execute_result"
    }
   ],
   "source": [
    "particular2['NAME_CASH_LOAN_PURPOSE'].value_counts()"
   ]
  },
  {
   "cell_type": "markdown",
   "metadata": {},
   "source": [
    "Es interesante observar que igualmente la gran mayoría tampoco tiene un proposito de crédito especifíco a la hora que solicitaron el crédito."
   ]
  },
  {
   "cell_type": "code",
   "execution_count": 301,
   "metadata": {},
   "outputs": [
    {
     "data": {
      "text/plain": [
       "Repeater     305662\n",
       "Refreshed     35841\n",
       "New           23444\n",
       "XNA             159\n",
       "Name: NAME_CLIENT_TYPE, dtype: int64"
      ]
     },
     "execution_count": 301,
     "metadata": {},
     "output_type": "execute_result"
    }
   ],
   "source": [
    "particular2['NAME_CLIENT_TYPE'].value_counts()"
   ]
  },
  {
   "cell_type": "markdown",
   "metadata": {},
   "source": [
    "La mayoría de los clientes que hicieron gastos en esta categoría son clientes que previamente ya han solicitado un servicio a la institución."
   ]
  },
  {
   "cell_type": "code",
   "execution_count": 302,
   "metadata": {},
   "outputs": [
    {
     "data": {
      "text/plain": [
       "0                            Mobile\n",
       "8              Consumer Electronics\n",
       "9            Construction Materials\n",
       "10                 Auto Accessories\n",
       "11         Photo / Cinema Equipment\n",
       "                     ...           \n",
       "1036772                   Furniture\n",
       "1036773                   Furniture\n",
       "1036776                   Furniture\n",
       "1036777                   Furniture\n",
       "1036778        Consumer Electronics\n",
       "Name: NAME_GOODS_CATEGORY, Length: 626371, dtype: object"
      ]
     },
     "execution_count": 302,
     "metadata": {},
     "output_type": "execute_result"
    }
   ],
   "source": [
    "#Definimos los datos con los que trabajaremos\n",
    "goods = data['NAME_GOODS_CATEGORY'][data['NAME_GOODS_CATEGORY'] != 'XNA']\n",
    "goods"
   ]
  },
  {
   "cell_type": "markdown",
   "metadata": {},
   "source": [
    "Al observar nuestras categorías de la categoría de bienes, observamos que tenemos datos del tipo \"string\". \n",
    "Con la intención de trabajar de una manera más cómoda, lo que haremos será transformar los datos únicos tipo \"string\" por datos numéricos.\n",
    "\n",
    "Estos estarán categorizados de manera que en el dominio de la frecuencia nos permitan observar alguna distribución de probabilidad que sea más moldeable."
   ]
  },
  {
   "cell_type": "code",
   "execution_count": 303,
   "metadata": {},
   "outputs": [
    {
     "data": {
      "text/plain": [
       "Mobile                      186174\n",
       "Consumer Electronics        111525\n",
       "Audio/Video                  89394\n",
       "Computers                    88050\n",
       "Furniture                    49090\n",
       "Construction Materials       22471\n",
       "Clothing and Accessories     21460\n",
       "Photo / Cinema Equipment     21379\n",
       "Auto Accessories              6560\n",
       "Jewelry                       5679\n",
       "Homewares                     4540\n",
       "Medical Supplies              3539\n",
       "Vehicles                      2990\n",
       "Sport and Leisure             2718\n",
       "Gardening                     2469\n",
       "Other                         2432\n",
       "Office Appliances             2082\n",
       "Tourism                       1462\n",
       "Medicine                      1448\n",
       "Direct Sales                   372\n",
       "Fitness                        207\n",
       "Additional Service             116\n",
       "Education                       91\n",
       "Weapon                          70\n",
       "Insurance                       52\n",
       "Animals                          1\n",
       "Name: NAME_GOODS_CATEGORY, dtype: int64"
      ]
     },
     "execution_count": 303,
     "metadata": {},
     "output_type": "execute_result"
    }
   ],
   "source": [
    "goods.value_counts()"
   ]
  },
  {
   "cell_type": "code",
   "execution_count": 304,
   "metadata": {},
   "outputs": [],
   "source": [
    "goods = goods.replace('Mobile',0)\n",
    "goods = goods.replace('Consumer Electronics',1)\n",
    "goods = goods.replace('Audio/Video',2)\n",
    "goods = goods.replace('Computers',3)\n",
    "goods = goods.replace('Furniture',4)\n",
    "goods = goods.replace('Construction Materials',5)\n",
    "goods = goods.replace('Clothing and Accessories',6)\n",
    "goods = goods.replace('Photo / Cinema Equipment',7)\n",
    "goods = goods.replace('Auto Accessories',8)\n",
    "goods = goods.replace('Jewelry',9)\n",
    "goods = goods.replace('Homewares',10)\n",
    "goods = goods.replace('Medical Supplies',11)\n",
    "goods = goods.replace('Vehicles',12)\n",
    "goods = goods.replace('Sport and Leisure',13)\n",
    "goods = goods.replace('Gardening',14)\n",
    "goods = goods.replace('Other',15)\n",
    "goods = goods.replace('Office Appliances',16)\n",
    "goods = goods.replace('Tourism',17)\n",
    "goods = goods.replace('Medicine',18)\n",
    "goods = goods.replace('Direct Sales',19)\n",
    "goods = goods.replace('Fitness',20)\n",
    "goods = goods.replace('Additional Service',21)\n",
    "goods = goods.replace('Education',22)\n",
    "goods = goods.replace('Weapon',23)\n",
    "goods = goods.replace('Insurance',24)\n",
    "goods = goods.replace('Animals',25)"
   ]
  },
  {
   "cell_type": "code",
   "execution_count": 305,
   "metadata": {},
   "outputs": [
    {
     "data": {
      "image/png": "[encoded data removed]",
      "text/plain": [
       "<Figure size 432x288 with 1 Axes>"
      ]
     },
     "metadata": {
      "needs_background": "light"
     },
     "output_type": "display_data"
    }
   ],
   "source": [
    "# Visualización utilizando un histograma con los datos ordenados\n",
    "sns.histplot(x=goods,bins=26,color='y').set_title('NAME_GOODS_CATEGORY');"
   ]
  },
  {
   "cell_type": "code",
   "execution_count": 306,
   "metadata": {},
   "outputs": [
    {
     "data": {
      "image/png": "[encoded data removed]",
      "text/plain": [
       "<Figure size 432x288 with 1 Axes>"
      ]
     },
     "metadata": {
      "needs_background": "light"
     },
     "output_type": "display_data"
    }
   ],
   "source": [
    "# Visualización utilizando un boxplot con los datos ordenados\n",
    "sns.boxplot(x=goods,color='r').set_title('NAME_GOODS_CATEGORY');"
   ]
  },
  {
   "cell_type": "markdown",
   "metadata": {},
   "source": [
    "Tomamos una muestra aleatoria más pequeña para trabajar con mayor facilidad.\n",
    "La muestra que tomaremos será de 300,000"
   ]
  },
  {
   "cell_type": "code",
   "execution_count": 307,
   "metadata": {},
   "outputs": [],
   "source": [
    "sample = goods.sample(300000)"
   ]
  },
  {
   "cell_type": "markdown",
   "metadata": {},
   "source": [
    "Observamos con el histograma y el boxplot que esta refleje el comportamiento de nuestros datos originales."
   ]
  },
  {
   "cell_type": "code",
   "execution_count": 308,
   "metadata": {},
   "outputs": [
    {
     "data": {
      "image/png": "[encoded data removed]",
      "text/plain": [
       "<Figure size 432x288 with 1 Axes>"
      ]
     },
     "metadata": {
      "needs_background": "light"
     },
     "output_type": "display_data"
    }
   ],
   "source": [
    "sns.histplot(x=sample,bins=25,color='y').set_title('Muestra');"
   ]
  },
  {
   "cell_type": "markdown",
   "metadata": {},
   "source": [
    "### `Aceptación y Rechazo`."
   ]
  },
  {
   "cell_type": "code",
   "execution_count": 309,
   "metadata": {},
   "outputs": [
    {
     "data": {
      "image/png": "[encoded data removed]",
      "text/plain": [
       "<Figure size 432x288 with 1 Axes>"
      ]
     },
     "metadata": {
      "needs_background": "light"
     },
     "output_type": "display_data"
    }
   ],
   "source": [
    "sns.boxplot(x=sample,color='r').set_title('Muestra');"
   ]
  },
  {
   "cell_type": "markdown",
   "metadata": {},
   "source": [
    "### `Kernel Density Estimation`."
   ]
  },
  {
   "cell_type": "code",
   "execution_count": 310,
   "metadata": {},
   "outputs": [],
   "source": [
    "np.random.seed(455)"
   ]
  },
  {
   "cell_type": "code",
   "execution_count": 311,
   "metadata": {},
   "outputs": [],
   "source": [
    "# Definimos función. Regresa la evaluación de la pdf.\n",
    "def kde_statsmodels_u(x, x_grid, **kwargs):\n",
    "    \"\"\"Univariate Kernel Density Estimation with Statsmodels\"\"\"\n",
    "    kde = KDEUnivariate(x)\n",
    "    kde.fit(bw='normal_reference', **kwargs)\n",
    "    return kde.evaluate(x_grid)"
   ]
  },
  {
   "cell_type": "code",
   "execution_count": 312,
   "metadata": {},
   "outputs": [
    {
     "data": {
      "image/png": "[encoded data removed]",
      "text/plain": [
       "<Figure size 432x288 with 1 Axes>"
      ]
     },
     "metadata": {
      "needs_background": "light"
     },
     "output_type": "display_data"
    },
    {
     "name": "stdout",
     "output_type": "stream",
     "text": [
      "El bandwidth óptimo es de: 0.18909184590449082\n"
     ]
    }
   ],
   "source": [
    "# Definición del modelo para encontar la distribución\n",
    "kde_univariate = KDEUnivariate(sample)\n",
    "\n",
    "# Histograma de nuestros datos discretos.\n",
    "y,x,_=plt.hist(sample,bins=26,density=True,label='data') # en un hist puedo almacenar y,x\n",
    "x = x[1:]\n",
    "\n",
    "# dominio de la función\n",
    "x_grid = np.arange(0,26,1)\n",
    "# Guardamos el bw óptimo para este modelo\n",
    "bw_op = kde_univariate.fit(bw='normal_reference').bw\n",
    "\n",
    "#error\n",
    "y_hat = kde_statsmodels_u(sample, x_grid)\n",
    "err0 = ((y-y_hat)**2).sum()\n",
    "\n",
    "# Graficamos la distribución junto con la estimación.\n",
    "plt.plot(x_grid,kde_statsmodels_u(sample, x_grid))\n",
    "plt.hist(sample,bins=25,density=True)\n",
    "plt.title('KDE univariate')\n",
    "plt.show()\n",
    "print(f'El bandwidth óptimo es de: {bw_op}')"
   ]
  },
  {
   "cell_type": "markdown",
   "metadata": {},
   "source": [
    "Con la intención de hacer una comparación del ajuste de nuestro **KDE**, respecto a nuestros datos reales, lo que haremos será comparar su aproximación a través de una métrica de error, en este caso particular utilizaremos el **SSE** como referencia."
   ]
  },
  {
   "cell_type": "code",
   "execution_count": 313,
   "metadata": {},
   "outputs": [
    {
     "name": "stdout",
     "output_type": "stream",
     "text": [
      "El error de la suma de la resta de cuadrados que se obtuvo entre nuestro KDE y la distribución real es de: 0.0247\n"
     ]
    }
   ],
   "source": [
    "# Definimos nuestro kde en una función.\n",
    "f_uni_kde_d = lambda x: kde_univariate.evaluate(x)\n",
    "\n",
    "# Definimos métrica de error.\n",
    "# Almacenamos la distribución real.\n",
    "y_real, x_real = np.histogram(goods, bins=26, density=True)\n",
    "x_real = x_real[1:]\n",
    "\n",
    "# Definimos la distribución generada por el KDE.\n",
    "y_est = f_uni_kde_d(x_real)\n",
    "\n",
    "# Calculamos el error.\n",
    "error_kde =((y_real-y_est)**2).sum()\n",
    "print(f'El error de la suma de la resta de cuadrados que se obtuvo entre nuestro KDE y la distribución real es de: {((error_kde)).round(4)}')"
   ]
  },
  {
   "cell_type": "markdown",
   "metadata": {},
   "source": [
    "### `Buscando PDF´s`."
   ]
  },
  {
   "cell_type": "code",
   "execution_count": 22,
   "metadata": {},
   "outputs": [
    {
     "data": {
      "text/html": [
       "<div>\n",
       "<style scoped>\n",
       "    .dataframe tbody tr th:only-of-type {\n",
       "        vertical-align: middle;\n",
       "    }\n",
       "\n",
       "    .dataframe tbody tr th {\n",
       "        vertical-align: top;\n",
       "    }\n",
       "\n",
       "    .dataframe thead th {\n",
       "        text-align: right;\n",
       "    }\n",
       "</style>\n",
       "<table border=\"1\" class=\"dataframe\">\n",
       "  <thead>\n",
       "    <tr style=\"text-align: right;\">\n",
       "      <th></th>\n",
       "      <th>error</th>\n",
       "    </tr>\n",
       "  </thead>\n",
       "  <tbody>\n",
       "    <tr>\n",
       "      <th>expon</th>\n",
       "      <td>0.042612</td>\n",
       "    </tr>\n",
       "  </tbody>\n",
       "</table>\n",
       "</div>"
      ],
      "text/plain": [
       "          error\n",
       "expon  0.042612"
      ]
     },
     "execution_count": 22,
     "metadata": {},
     "output_type": "execute_result"
    },
    {
     "data": {
      "image/png": "[encoded data removed]",
      "text/plain": [
       "<Figure size 432x288 with 1 Axes>"
      ]
     },
     "metadata": {
      "needs_background": "light"
     },
     "output_type": "display_data"
    }
   ],
   "source": [
    "# A fin de comparar. Visualizamos nuestros datos respecto a una distribución exponencial continua.\n",
    "plt.hist(sample,bins=26,density=True,label='data')\n",
    "\n",
    "error = pd.DataFrame(index=['expon'], columns=['error'])\n",
    "\n",
    "params = st.expon.fit(sample)\n",
    "y_hat = st.expon.pdf(x_real)\n",
    "error['error']=((y-y_hat)**2).sum() #SSE\n",
    "\n",
    "plt.title('PDF exponencial')\n",
    "plt.plot(x_real,y_hat,label='')\n",
    "plt.legend()\n",
    "error "
   ]
  },
  {
   "cell_type": "markdown",
   "metadata": {},
   "source": [
    "### `Q-Q Plot`\n",
    "\n",
    "Mediante está grafica buscamos una confirmación visual con la cual podamos saber si nuestros ajuste es suficientemente bueno como para asegurar que nuestros datos se distribuyen de esta forma."
   ]
  },
  {
   "cell_type": "code",
   "execution_count": 23,
   "metadata": {},
   "outputs": [],
   "source": [
    "v_ale_real_dis = sample\n",
    "bins = 26\n",
    "distribution = 'expon'"
   ]
  },
  {
   "cell_type": "code",
   "execution_count": 26,
   "metadata": {},
   "outputs": [
    {
     "data": {
      "image/png": "[encoded data removed]",
      "text/plain": [
       "<Figure size 1008x576 with 2 Axes>"
      ]
     },
     "metadata": {
      "needs_background": "light"
     },
     "output_type": "display_data"
    }
   ],
   "source": [
    "plot_pdf_qq(v_ale_real_dis,bins,distribution)"
   ]
  },
  {
   "cell_type": "markdown",
   "metadata": {},
   "source": [
    "Podemos observar que aunque nuestros datos son discretos el hecho de tener más categorías hace que una distribución \n",
    "continua \n",
    "pueda ajustarse mejor (en comparación con el **canal de ventas**), sin embargo podemos observar que tenemos la cola derecha es pesada y presenta outliers por lo que graficamente no parece ser un buen ajuste."
   ]
  },
  {
   "cell_type": "markdown",
   "metadata": {},
   "source": [
    "Ahora, con la intención de encontrar distribuciones de probabilidad existentes a nuestro conjunto de datos, realizaremos el test de ajuste con **Kolmogorov-Smirnov**. Este método lo que hace es determinar la bondad de ajuste de dos distribuciones de probabilidad entre sí. En nuestro caso una de ellas será la **Categoría del bien** y la otra será la que estaremos variando.\n",
    "\n",
    "Para conocer que tan buenos es el ajuste de la distribución exponencial que hemos hecho aplicamos la prueba **Kolmogorov-Smirnov**.\n",
    "\n",
    "Definimos un nivel de significancia ${\\alpha} = 0.01$. Por lo tanto queremos un nivel de confianza  $1-{\\alpha} = 99\\%$.\n",
    "\n",
    "$H_{0}$: Nuestro conjunto de datos sigue una distribución Exponencial.\n",
    "\n",
    "$H_{a}$: Nuestro conjunto de datos NO sigue una distribución Exponencial.\n",
    "\n",
    "Si el \"p-value\" es menor que ${\\alpha}$ se rechaza $H_{0}$.\n",
    "\n",
    "Si el \"p-value\" es mayor que el nivel de significancia no se puede rechazar $H_{0}$."
   ]
  },
  {
   "cell_type": "code",
   "execution_count": 27,
   "metadata": {},
   "outputs": [
    {
     "data": {
      "text/plain": [
       "KstestResult(statistic=0.679000595302709, pvalue=0.0)"
      ]
     },
     "execution_count": 27,
     "metadata": {},
     "output_type": "execute_result"
    }
   ],
   "source": [
    "# Prueba de Kolmogorov-Smirnov para la distribución exponencial.\n",
    "st.kstest(sample,lambda x: st.expon.cdf(x,(1/np.mean(sample)),(1/np.mean(sample)**2)))"
   ]
  },
  {
   "cell_type": "markdown",
   "metadata": {},
   "source": [
    "El \"p-value\" resultó menor que ${\\alpha}$ por lo tanto se rechaza ${H_{0}}$."
   ]
  },
  {
   "cell_type": "markdown",
   "metadata": {},
   "source": [
    "### `Prueba de bondad y ajuste con chi cuadrada`"
   ]
  },
  {
   "cell_type": "markdown",
   "metadata": {},
   "source": [
    "Ya que observamos que la _Distribución Exponencial_ no se ajusta a nuestro conjunto de datos, lo que haremos será ajustarlo para distribuciones discretas.\n",
    "\n",
    "Decidimos utilizar las siguientes funciones discretas para realizar el test de prueba de bondad y ajuste con chi cuadrada.\n",
    "\n",
    "1. Poisson\n",
    "2. Binomial\n",
    "3. Geometrica"
   ]
  },
  {
   "cell_type": "markdown",
   "metadata": {},
   "source": [
    "**Distirbución Binomial**"
   ]
  },
  {
   "cell_type": "markdown",
   "metadata": {},
   "source": [
    "**Formulación de hipótesis**\n",
    "\n",
    "$H_{0}$: Nuestro conjunto de datos tienen una distribución binomial.\n",
    "\n",
    "$H_{a}$: Nuestro conjunto de datos no sigue una distribución binomial."
   ]
  },
  {
   "cell_type": "markdown",
   "metadata": {},
   "source": [
    "**Plan de análisis.**\n",
    "\n",
    "Para este análisis nuestro nivel de significancia  es 5%.\n",
    "\n",
    "Por lo tanto nuestro nivel de confianza es del 95%.\n",
    "\n",
    "${\\alpha} = 0.05$\n",
    "\n",
    "$1-{\\alpha} = 0.95$"
   ]
  },
  {
   "cell_type": "markdown",
   "metadata": {},
   "source": [
    "**Parametros para la distribución binomial**\n",
    "\n",
    "n = 25 \n",
    "\n",
    "$$E[X] = np$$\n",
    "\n",
    "La esperanza de la muestra $E[X] =2.5118$\n",
    "\n",
    "$$2.5118= 26p$$\n",
    "\n",
    "$$p = 0.0966$$"
   ]
  },
  {
   "cell_type": "markdown",
   "metadata": {},
   "source": [
    "**Generación de datos**\n",
    "\n",
    "Como muestra observada utilizamos los \"_counts_\" del histograma de la muestra tomada de nuestro conjunto de datos original.\n",
    "\n",
    "Como muestra esperada utilizamos los \"_counts_\" del histograma de una muestra que se distribuya de manera binomial."
   ]
  },
  {
   "cell_type": "code",
   "execution_count": 28,
   "metadata": {},
   "outputs": [],
   "source": [
    "# Parametros para la distribución binomial\n",
    "n, p = 26,0.0966\n",
    "\n",
    "# Muestra binomial\n",
    "bi = st.binom.rvs(n,p,size=10000)"
   ]
  },
  {
   "cell_type": "code",
   "execution_count": 29,
   "metadata": {},
   "outputs": [
    {
     "data": {
      "image/png": "[encoded data removed]",
      "text/plain": [
       "<Figure size 432x288 with 1 Axes>"
      ]
     },
     "metadata": {
      "needs_background": "light"
     },
     "output_type": "display_data"
    }
   ],
   "source": [
    "# Graficamos las distribuciones \n",
    "plt.title('Muestra Binomial vs Muestra Original')\n",
    "y2,x2,_=plt.hist(bi,bins=26,label='Binomial')\n",
    "y1,x1,_=plt.hist(sample,bins=26,label='Original')\n",
    "plt.legend()\n",
    "plt.show()"
   ]
  },
  {
   "cell_type": "code",
   "execution_count": 30,
   "metadata": {},
   "outputs": [
    {
     "data": {
      "text/plain": [
       "Power_divergenceResult(statistic=nan, pvalue=nan)"
      ]
     },
     "execution_count": 30,
     "metadata": {},
     "output_type": "execute_result"
    }
   ],
   "source": [
    "warnings.filterwarnings(\"ignore\")\n",
    "# Realizamos la prueba de bondad y ajuste.\n",
    "chi_bin = st.chisquare(f_obs=y1,f_exp=y2)\n",
    "chi_bin"
   ]
  },
  {
   "cell_type": "markdown",
   "metadata": {},
   "source": [
    "El \"p-value\" resulto menor que ${\\alpha}$ por lo tanto se rechaza ${H_{0}}$"
   ]
  },
  {
   "cell_type": "markdown",
   "metadata": {},
   "source": [
    "**Distribución de Poisson**."
   ]
  },
  {
   "cell_type": "markdown",
   "metadata": {},
   "source": [
    "**Formulación de hipótesis**\n",
    "\n",
    "$H_{0}$: Nuestro conjunto de datos tienen una distribución de Poisson.\n",
    "\n",
    "$H_{a}$: Nuestro conjunto de datos no sigue una distribución de Poisson."
   ]
  },
  {
   "cell_type": "markdown",
   "metadata": {},
   "source": [
    "**Plan de análisis.**\n",
    "\n",
    "Para este análisis nuestro nivel de significancia  es 5%.\n",
    "\n",
    "Por lo tanto nuestro nivel de confianza es del 95%.\n",
    "\n",
    "${\\alpha} = 0.05$\n",
    "\n",
    "$1-{\\alpha} = 0.95$"
   ]
  },
  {
   "cell_type": "markdown",
   "metadata": {},
   "source": [
    "**Generación de datos**\n",
    "\n",
    "Como muestra observada utilizamos los \"_counts_\" del histograma de la muestra tomada de nuestro conjunto de datos original.\n",
    "\n",
    "Como muestra esperada utilizamos los \"_counts_\" del histograma de una muestra que se distribuya como Poisson."
   ]
  },
  {
   "cell_type": "markdown",
   "metadata": {},
   "source": [
    "**Obtención de parámetros**\n",
    "\n",
    "Para conocer si nuestra muestra se distribuye como  **_Poisson_** nosotros identificamps los parametros que distribuyen esta distribución. En el caso de **_Poisson_** tanto ${\\mu}$ y ${\\sigma}^{2}$ son iguales al parametro ${\\lambda}$.\n",
    "El parametro ${\\lambda}$ es igual a la media de la los datos."
   ]
  },
  {
   "cell_type": "code",
   "execution_count": 31,
   "metadata": {},
   "outputs": [],
   "source": [
    "# Calculando la media de la muestra.\n",
    "mu = np.mean(sample)\n",
    "\n",
    "# Vector de enteros con los valores a generar.\n",
    "k = x_grid\n",
    "\n",
    "# Muestra Poisson.\n",
    "poi = st.poisson.rvs(mu,size=len(sample))"
   ]
  },
  {
   "cell_type": "code",
   "execution_count": 32,
   "metadata": {},
   "outputs": [
    {
     "data": {
      "image/png": "[encoded data removed]",
      "text/plain": [
       "<Figure size 432x288 with 1 Axes>"
      ]
     },
     "metadata": {
      "needs_background": "light"
     },
     "output_type": "display_data"
    }
   ],
   "source": [
    "# Graficamos las distribuciones.\n",
    "plt.title('Muestra Poisson vs Muestra Original')\n",
    "y2,x2,_=plt.hist(poi,bins=26,label='Poisson',density=True)\n",
    "y1,x1,_=plt.hist(sample,bins=26,label='Original',density=True)\n",
    "plt.legend()\n",
    "plt.show()"
   ]
  },
  {
   "cell_type": "code",
   "execution_count": 33,
   "metadata": {},
   "outputs": [
    {
     "data": {
      "text/plain": [
       "Power_divergenceResult(statistic=nan, pvalue=nan)"
      ]
     },
     "execution_count": 33,
     "metadata": {},
     "output_type": "execute_result"
    }
   ],
   "source": [
    "warnings.filterwarnings(\"ignore\")\n",
    "# Realizamos la prueba de bondad y ajuste.\n",
    "chi_poi = st.chisquare(f_obs=y1,f_exp=y2)\n",
    "chi_poi"
   ]
  },
  {
   "cell_type": "markdown",
   "metadata": {},
   "source": [
    "**Distribución Geométrica**."
   ]
  },
  {
   "cell_type": "markdown",
   "metadata": {},
   "source": [
    "**Formulación de hipótesis**\n",
    "\n",
    "$H_{0}$: Nuestro conjunto de datos tienen una distribución geométrica.\n",
    "\n",
    "$H_{a}$: Nuestro conjunto de datos no sigue una distribución geométrica"
   ]
  },
  {
   "cell_type": "markdown",
   "metadata": {},
   "source": [
    "**Obtención de Parámetros**\n",
    "\n",
    "La media de la distribución geometrica se calcula de la siguiente manera:\n",
    "\n",
    "$$ E[X] = \\frac{1-p}{p} $$\n",
    "Recordando que la media de neustra muestra es igual a:2.5118 Podemos despejar la ecuación para obtener ${p}$.\n",
    "\n",
    "$$ 2.5118p = 1-p $$\n",
    "\n",
    "$$ 3.5118p = 1 $$\n",
    "\n",
    "$$ p = .2847 $$"
   ]
  },
  {
   "cell_type": "code",
   "execution_count": 34,
   "metadata": {},
   "outputs": [],
   "source": [
    "# Definición de parámetros.\n",
    "p_g = 0.2847\n",
    "g = st.geom.rvs(p_g,size=len(sample))"
   ]
  },
  {
   "cell_type": "code",
   "execution_count": 35,
   "metadata": {},
   "outputs": [
    {
     "data": {
      "image/png": "[encoded data removed]",
      "text/plain": [
       "<Figure size 432x288 with 1 Axes>"
      ]
     },
     "metadata": {
      "needs_background": "light"
     },
     "output_type": "display_data"
    }
   ],
   "source": [
    "# Graficamos las distribuciones.\n",
    "plt.title('Muestra Geómetrica vs Muestra Original')\n",
    "y2,x2,_=plt.hist(g,bins=25,label='Geómetrica',density=True)\n",
    "y1,x1,_=plt.hist(sample,bins=25,label='Original',density=True)\n",
    "plt.legend()\n",
    "plt.show()"
   ]
  },
  {
   "cell_type": "code",
   "execution_count": 36,
   "metadata": {},
   "outputs": [
    {
     "data": {
      "text/plain": [
       "Power_divergenceResult(statistic=inf, pvalue=0.0)"
      ]
     },
     "execution_count": 36,
     "metadata": {},
     "output_type": "execute_result"
    }
   ],
   "source": [
    "warnings.filterwarnings(\"ignore\")\n",
    "# Realizamos la prueba de bondad y ajuste.\n",
    "chi_geom = st.chisquare(f_obs=y1,f_exp=y2)\n",
    "chi_geom"
   ]
  },
  {
   "cell_type": "markdown",
   "metadata": {},
   "source": [
    "El \"p-value\" resultó menor que ${\\alpha}$ por lo tanto se rechaza ${H_{0}}$"
   ]
  },
  {
   "cell_type": "markdown",
   "metadata": {},
   "source": [
    "olmogorov-smirnov. Por lo tanto después de simular redondearemos al entero más cercano para mantener el resultado de la simulación como una vari"
   ]
  },
  {
   "cell_type": "markdown",
   "metadata": {},
   "source": [
    "### `Aceptación y Rechazo`."
   ]
  },
  {
   "cell_type": "code",
   "execution_count": 314,
   "metadata": {},
   "outputs": [
    {
     "name": "stdout",
     "output_type": "stream",
     "text": [
      "El máximo de nuestra f(x) es: 0.6262605142204624\n"
     ]
    },
    {
     "data": {
      "image/png": "[encoded data removed]",
      "text/plain": [
       "<Figure size 432x288 with 1 Axes>"
      ]
     },
     "metadata": {
      "needs_background": "light"
     },
     "output_type": "display_data"
    }
   ],
   "source": [
    "max_d2 = max(f_uni_kde_d(x_grid))\n",
    "print('El máximo de nuestra f(x) es:',max_d2)\n",
    "\n",
    "# Transformamos el máximo en una función constante definida en el dominio de nuestra PDF.\n",
    "t_d2 = lambda x: max_d2*np.ones([len(x)])\n",
    "\n",
    "# Gráficamos nuestra PDF junto con la función que la mayora.\n",
    "plt.plot(x_grid, f_uni_kde_d(x_grid), label='f(x)')\n",
    "plt.plot(x_grid, t_d2(x_grid), label='t(x)')\n",
    "plt.title('$t(x) \\geq f(x)$')\n",
    "plt.legend(loc='best');"
   ]
  },
  {
   "cell_type": "markdown",
   "metadata": {},
   "source": [
    "### `Simulación`."
   ]
  },
  {
   "cell_type": "code",
   "execution_count": 315,
   "metadata": {},
   "outputs": [],
   "source": [
    "def values_acep_rechazo_Discrete(N:'Cantidad de variables aleatorias a generar',\n",
    "                                 f:'Función objetivo a generar',\n",
    "                                 t:'Función que mayorea a f',\n",
    "                                 lim_inf:'Límite inferior para R2',\n",
    "                                 lim_sup:'Límite superior para R2'):\n",
    "    c = []\n",
    "    i = 0\n",
    "    agregador = c.append\n",
    "   \n",
    "    # Iteramos hasta lograr N variables aleatorias.\n",
    "    while i < N:\n",
    "       \n",
    "        # Generación de variables aleatorias bajo los parámetros establecidos\n",
    "        R1 = np.random.random_integers(lim_inf,lim_sup,size=1)\n",
    "        R2 = np.random.rand(1)\n",
    "       \n",
    "        f_x = f(int(R1))\n",
    "        t_x = t(R1)\n",
    "       \n",
    "        # Condición de aceptación.\n",
    "        if R2 * t_x <= f_x:\n",
    "            agregador(int(R1))\n",
    "            i+=1\n",
    "       \n",
    "    return c"
   ]
  },
  {
   "cell_type": "code",
   "execution_count": 317,
   "metadata": {},
   "outputs": [],
   "source": [
    "N = 1000\n",
    "new_goods = values_acep_rechazo_Discrete(N,f_uni_kde_d,t_d2,0,25)"
   ]
  },
  {
   "cell_type": "code",
   "execution_count": 319,
   "metadata": {},
   "outputs": [],
   "source": [
    "new_goods = np.array(new_goods)"
   ]
  },
  {
   "cell_type": "markdown",
   "metadata": {},
   "source": [
    "### `Reducción de Varianza`"
   ]
  },
  {
   "cell_type": "markdown",
   "metadata": {},
   "source": [
    "**Numeros Complementarios**"
   ]
  },
  {
   "cell_type": "code",
   "execution_count": 320,
   "metadata": {},
   "outputs": [],
   "source": [
    "f_ar = lambda x: values_acep_rechazo_Discrete(x,f_uni_kde_d,t_d2,0,25)"
   ]
  },
  {
   "cell_type": "code",
   "execution_count": 321,
   "metadata": {},
   "outputs": [],
   "source": [
    "def values_acep_rechazo_Discrete_Comp(N:'Cantidad de variables aleatorias a generar',\n",
    "                                      f:'Función objetivo a generar',\n",
    "                                      t:'Función que mayorea a f',\n",
    "                                      lim_inf:'Límite inferior para R2',\n",
    "                                      lim_sup:'Límite superior para R2',\n",
    "                                      f_ar: 'función aceptación rechazo normal'):\n",
    "    \n",
    "    b = f_ar(N/2)\n",
    "    c = []\n",
    "    i = 0\n",
    "    agregador = c.append\n",
    "   \n",
    "    # Iteramos hasta lograr N variables aleatorias.\n",
    "    while i < N/2:\n",
    "       \n",
    "        # Generación de variables aleatorias bajo los parámetros establecidos\n",
    "        R1 = np.random.random_integers(lim_inf,lim_sup,size=1)\n",
    "        R1_C = lim_sup - R1 + lim_inf\n",
    "        R2 = np.random.rand(1)\n",
    "       \n",
    "        f_x = f(int(R1_C))\n",
    "        t_x = t((R1_C))\n",
    "       \n",
    "        # Condición de aceptación.\n",
    "        if R2 * t_x <= f_x:\n",
    "            agregador(int(R1_C))\n",
    "            i+=1\n",
    "       \n",
    "    return np.concatenate([b,c])"
   ]
  },
  {
   "cell_type": "code",
   "execution_count": 44,
   "metadata": {},
   "outputs": [],
   "source": [
    "c2=values_acep_rechazo_Discrete_Comp(N,f_uni_kde_d,t_d2,0,25,f_ar)"
   ]
  },
  {
   "cell_type": "code",
   "execution_count": 45,
   "metadata": {},
   "outputs": [],
   "source": [
    "# Función para graficar histogramas de una distribución discreta.\n",
    "def plot_histogram_discrete(distribucion_TI:'señal de varibles aleatorias de un distribución DISCRETA dada.',\n",
    "                            title:'título del histograma',\n",
    "                            label:'label de los legends a aparecer en el gráfica'):\n",
    "    \n",
    "    # Parametros del histograma de la muestra generada.\n",
    "    plt.figure(figsize=[10,5])\n",
    "    labels1, counts1 = np.unique(distribucion_TI, return_counts=True)\n",
    "\n",
    "    # Grafica\n",
    "    plt.bar(labels1, (counts1 / len(distribucion_TI)), color='#F4D03F', align='center', label=label[0])\n",
    "    plt.gca().set_xticks(labels1)\n",
    "    plt.title(title)\n",
    "    plt.legend()\n",
    "    plt.show()"
   ]
  },
  {
   "cell_type": "code",
   "execution_count": 46,
   "metadata": {},
   "outputs": [
    {
     "data": {
      "image/png": "[encoded data removed]",
      "text/plain": [
       "<Figure size 720x360 with 1 Axes>"
      ]
     },
     "metadata": {
      "needs_background": "light"
     },
     "output_type": "display_data"
    }
   ],
   "source": [
    "plot_histogram_discrete(c2,'Histograma Bienes Adquiridos','Prob asiganda')"
   ]
  },
  {
   "cell_type": "markdown",
   "metadata": {},
   "source": [
    "**Media del Complementario**"
   ]
  },
  {
   "cell_type": "code",
   "execution_count": 47,
   "metadata": {},
   "outputs": [
    {
     "data": {
      "text/plain": [
       "3.0"
      ]
     },
     "execution_count": 47,
     "metadata": {},
     "output_type": "execute_result"
    }
   ],
   "source": [
    "np.round(np.mean(c2)) #redondeamos al entero más cercano ya que son variables discretas"
   ]
  },
  {
   "cell_type": "markdown",
   "metadata": {},
   "source": [
    "**Intervalo de confianza**"
   ]
  },
  {
   "cell_type": "code",
   "execution_count": 48,
   "metadata": {},
   "outputs": [
    {
     "name": "stdout",
     "output_type": "stream",
     "text": [
      "Con una confianza del 95% nuestros datos se encuentran en el intervalo: (2.323075776734061, 2.6909242232659394)\n"
     ]
    }
   ],
   "source": [
    "confianza = 0.95\n",
    "intervalo = st.t.interval(confianza,len(c2)-1,loc=np.mean(c2),scale=st.sem(c2))\n",
    "print(f'Con una confianza del 95% nuestros datos se encuentran en el intervalo: {intervalo}')"
   ]
  },
  {
   "cell_type": "markdown",
   "metadata": {},
   "source": [
    "En conclusión con una confianza del 95% podemos esperar que el el siguiente cliente que pida un crédito lo utilizara para adquirir bienes que pertenecen a la categoría de Audio/Video."
   ]
  },
  {
   "cell_type": "markdown",
   "metadata": {},
   "source": [
    "### `Simulación Montecarlo`."
   ]
  },
  {
   "cell_type": "markdown",
   "metadata": {},
   "source": [
    "En este apartado lo que haremos será generar una **simulación montecarlo** para cada nodo seleccionado. A partir de los análisis anteriores se pudo determinar una manera óptima de generar aleatorios que distribuyan como cada conjunto de datos que fue de nuestro interés, los cuales recordemos son los siguientes:\n",
    "- **Canal de Venta**.\n",
    "- **Monto Solicitado**.\n",
    "- **Monto Aprobado**.\n",
    "- **Bienes Adquiridos**.\n",
    "\n",
    "Entonces ya conociendo las características de estos nodos, realizaremos una simulación con las siguientes características:\n",
    "- $1,000$ escenarios.\n",
    "- $10$ solicitudes.\n",
    "\n",
    "Esto implica que al nosotros realizar esta **simulación montecarlo** lo que haremos será conocer los principales atributos de las siguientes $10$ solicitudes de crédito que nosotros como institución bancaria recibiremos.\n",
    "\n",
    "Cómo técnica de reducción de varianza utilizaremos el **Método de Números Complementarios** esto porque a lo largo del desarrollo del proyecto hemos encontrado este método muy efectivo, a excepción del nodo de **Canal de Venta** donde utilizaremos el **Muestreo Estratificado Igualmente Espaciado**."
   ]
  },
  {
   "cell_type": "markdown",
   "metadata": {},
   "source": [
    "Comenzamos para el nodo de **Canal de Venta**."
   ]
  },
  {
   "cell_type": "markdown",
   "metadata": {},
   "source": [
    "En este caso utilizaremos el muestreo estratificado igualmente espaciado modificando nuestra función de Generación de\n",
    "distribuciones discretas, agregando un nuevo argumento el cual es una función _lambda_ que llama a la función de muestras estratificadas (la cual definimos anteriormente)."
   ]
  },
  {
   "cell_type": "code",
   "execution_count": 285,
   "metadata": {},
   "outputs": [],
   "source": [
    "def Gen_distr_discreta2(p_acum: 'P.Acumulada de la distribución a generar',\n",
    "                       indices: 'valores reales a generar aleatoriamente',\n",
    "                       U: 'cantidad de números aleatorios a generar',\n",
    "                       f: 'función de estratificados'):\n",
    "    \n",
    "    U =f(U)\n",
    "    # Diccionario de valores aleatorios\n",
    "    rand2reales = {i: idx for i, idx in enumerate(indices)}\n",
    "\n",
    "    # Series de los valores aletorios\n",
    "    y = pd.Series([sum([1 for p in p_acum if p < ui]) for ui in U]).map(rand2reales)\n",
    "\n",
    "    return y"
   ]
  },
  {
   "cell_type": "markdown",
   "metadata": {},
   "source": [
    "Definimos nuestros argumentos:"
   ]
  },
  {
   "cell_type": "code",
   "execution_count": 286,
   "metadata": {},
   "outputs": [],
   "source": [
    "# Simulación montecarlo.\n",
    "# Definimos probabilidad acumulada.\n",
    "p_acum_monte = poisson(mu,k)\n",
    "\n",
    "# Generamos muestra.\n",
    "N_aleatorios = 1000\n",
    "\n",
    "#función que llama a la función de estratificados para variables discretas\n",
    "estra = lambda x: estra_igualmente_espaciado(x)"
   ]
  },
  {
   "cell_type": "markdown",
   "metadata": {},
   "source": [
    "Simulación"
   ]
  },
  {
   "cell_type": "code",
   "execution_count": 287,
   "metadata": {},
   "outputs": [
    {
     "data": {
      "text/plain": [
       "matrix([[1.118],\n",
       "        [1.12 ],\n",
       "        [1.117],\n",
       "        [1.117],\n",
       "        [1.119],\n",
       "        [1.118],\n",
       "        [1.117],\n",
       "        [1.117],\n",
       "        [1.119],\n",
       "        [1.119]])"
      ]
     },
     "execution_count": 287,
     "metadata": {},
     "output_type": "execute_result"
    }
   ],
   "source": [
    "# Realizamos la simulación montecarlo.\n",
    "n = 10 # solicitudes\n",
    "sim1 = np.asmatrix([Gen_distr_discreta2(p_acum,k,N_aleatorios,estra) for i in range(n)])\n",
    "m1=np.mean(sim1, axis = 1) # obteniendo la media\n",
    "m1"
   ]
  },
  {
   "cell_type": "markdown",
   "metadata": {},
   "source": [
    "Ahora para el nodo de **Monto Solicitado**."
   ]
  },
  {
   "cell_type": "markdown",
   "metadata": {},
   "source": [
    "En el caso del **Monto Solicitado** y el **Monto Aprobado** estamos ante variables continuas, entonces con la intención de agilizar el proceso de simulación lo que haremos será definir directamente una función que nos permita generar la muestra con **Aceptación y Rechazo** y con reducción de varianza, específicamente para el **Método de Números Complementarios**."
   ]
  },
  {
   "cell_type": "code",
   "execution_count": 288,
   "metadata": {},
   "outputs": [],
   "source": [
    "# Definimos función. Genera la muestra aleatoria.\n",
    "def random_values_cn(values: 'Muestra obtenida por aceptación rechazo regular'):\n",
    "        \n",
    "    # Definimos los parámetros para aplicar reducción de varianza.\n",
    "    # Complemento de variables aleatorias.\n",
    "    a = min(values)\n",
    "    b = max(values)\n",
    "    U_s = b - np.array(values) + a\n",
    "\n",
    "    # Definimos el vector con la muestra complementaria\n",
    "    complementario = np.concatenate([values, U_s])\n",
    "    \n",
    "    return complementario"
   ]
  },
  {
   "cell_type": "markdown",
   "metadata": {},
   "source": [
    "Ya con nuestra función definida lo que haremos ahora será simular."
   ]
  },
  {
   "cell_type": "code",
   "execution_count": 289,
   "metadata": {
    "scrolled": true
   },
   "outputs": [
    {
     "data": {
      "text/plain": [
       "matrix([[11.89851766],\n",
       "        [12.08829478],\n",
       "        [11.93642101],\n",
       "        [11.80696778],\n",
       "        [11.96692566],\n",
       "        [11.94689727],\n",
       "        [11.7588597 ],\n",
       "        [11.83117908],\n",
       "        [12.01841998],\n",
       "        [11.85370509]])"
      ]
     },
     "execution_count": 289,
     "metadata": {},
     "output_type": "execute_result"
    }
   ],
   "source": [
    "# Simulamos\n",
    "monto_solicitado = np.asmatrix([random_values_cn(values_acep_rechazo(N_aleatorios, f_uni_kde, t, min(x_real), \n",
    "                                                                     max(x_real))) for i in range(n)])\n",
    "m2 = np.mean(monto_solicitado, axis=1)\n",
    "m2"
   ]
  },
  {
   "cell_type": "code",
   "execution_count": 290,
   "metadata": {},
   "outputs": [
    {
     "data": {
      "text/plain": [
       "array([[147048.48836374],\n",
       "       [177778.69664851],\n",
       "       [152729.09458102],\n",
       "       [134184.06784274],\n",
       "       [157459.82995948],\n",
       "       [154337.53475822],\n",
       "       [127881.54657271],\n",
       "       [137472.4868748 ],\n",
       "       [165780.51246381],\n",
       "       [140604.33509198]])"
      ]
     },
     "execution_count": 290,
     "metadata": {},
     "output_type": "execute_result"
    }
   ],
   "source": [
    "# Desescalamos los datos.\n",
    "np.array(np.exp(m2))"
   ]
  },
  {
   "cell_type": "markdown",
   "metadata": {},
   "source": [
    "Ahora para el nodo de **Monto Aprobado**."
   ]
  },
  {
   "cell_type": "markdown",
   "metadata": {},
   "source": [
    "Realizamos la simulación montecarlo."
   ]
  },
  {
   "cell_type": "code",
   "execution_count": 291,
   "metadata": {},
   "outputs": [
    {
     "data": {
      "text/plain": [
       "matrix([[12.17244914],\n",
       "        [11.92393953],\n",
       "        [11.97155793],\n",
       "        [12.04368845],\n",
       "        [11.93771083],\n",
       "        [11.94078158],\n",
       "        [11.94130571],\n",
       "        [11.82838592],\n",
       "        [12.01274853],\n",
       "        [12.15258151]])"
      ]
     },
     "execution_count": 291,
     "metadata": {},
     "output_type": "execute_result"
    }
   ],
   "source": [
    "# Simulamos\n",
    "monto_aprobado = np.asmatrix([random_values_cn(values_acep_rechazo(N_aleatorios, f_uni_kde_a, t_a, min(x_real_a), \n",
    "                                                                   max(x_real_a))) for i in range(n)])\n",
    "m3 = np.mean(monto_aprobado, axis=1)\n",
    "m3"
   ]
  },
  {
   "cell_type": "code",
   "execution_count": 292,
   "metadata": {},
   "outputs": [
    {
     "data": {
      "text/plain": [
       "array([[193387.09689257],\n",
       "       [150834.65675341],\n",
       "       [158190.91904794],\n",
       "       [170022.90687653],\n",
       "       [152926.21465527],\n",
       "       [153396.5354562 ],\n",
       "       [153476.95545669],\n",
       "       [137089.04000541],\n",
       "       [164842.95724864],\n",
       "       [189582.86851684]])"
      ]
     },
     "execution_count": 292,
     "metadata": {},
     "output_type": "execute_result"
    }
   ],
   "source": [
    "# Desescalamos los datos.\n",
    "np.array(np.exp(m3))"
   ]
  },
  {
   "cell_type": "markdown",
   "metadata": {},
   "source": [
    "Para el Nodo **Bienes Adquiridos**"
   ]
  },
  {
   "cell_type": "code",
   "execution_count": 344,
   "metadata": {},
   "outputs": [],
   "source": [
    "# Simulamos.\n",
    "n = 10 # solicitudes\n",
    "sim4 = np.asmatrix([values_acep_rechazo_Discrete_Comp(n,f_uni_kde_d,t_d2,0,25,f_ar) for i in range(n)])\n",
    "m4=np.mean(sim4, axis = 1) # obteniendo la media\n",
    "m4=np.array(m4).flatten()\n",
    "m4=[round(i) for i in m4]"
   ]
  },
  {
   "cell_type": "code",
   "execution_count": 345,
   "metadata": {},
   "outputs": [
    {
     "data": {
      "text/plain": [
       "[2, 2, 1, 3, 2, 2, 3, 3, 2, 3]"
      ]
     },
     "execution_count": 345,
     "metadata": {},
     "output_type": "execute_result"
    }
   ],
   "source": [
    "# Visualizamos.\n",
    "m4"
   ]
  },
  {
   "cell_type": "markdown",
   "metadata": {},
   "source": [
    "Estructuramos toda la información en un **dataframe**."
   ]
  },
  {
   "cell_type": "code",
   "execution_count": 346,
   "metadata": {},
   "outputs": [
    {
     "data": {
      "text/html": [
       "<div>\n",
       "<style scoped>\n",
       "    .dataframe tbody tr th:only-of-type {\n",
       "        vertical-align: middle;\n",
       "    }\n",
       "\n",
       "    .dataframe tbody tr th {\n",
       "        vertical-align: top;\n",
       "    }\n",
       "\n",
       "    .dataframe thead th {\n",
       "        text-align: right;\n",
       "    }\n",
       "</style>\n",
       "<table border=\"1\" class=\"dataframe\">\n",
       "  <thead>\n",
       "    <tr style=\"text-align: right;\">\n",
       "      <th></th>\n",
       "      <th>Canal de Venta</th>\n",
       "      <th>Monto Solicitado</th>\n",
       "      <th>Monto Aprobado</th>\n",
       "      <th>Bienes Adquiridos</th>\n",
       "    </tr>\n",
       "  </thead>\n",
       "  <tbody>\n",
       "    <tr>\n",
       "      <th>1</th>\n",
       "      <td>1.0</td>\n",
       "      <td>147048.488364</td>\n",
       "      <td>193387.096893</td>\n",
       "      <td>2</td>\n",
       "    </tr>\n",
       "    <tr>\n",
       "      <th>2</th>\n",
       "      <td>1.0</td>\n",
       "      <td>177778.696649</td>\n",
       "      <td>150834.656753</td>\n",
       "      <td>2</td>\n",
       "    </tr>\n",
       "    <tr>\n",
       "      <th>3</th>\n",
       "      <td>1.0</td>\n",
       "      <td>152729.094581</td>\n",
       "      <td>158190.919048</td>\n",
       "      <td>1</td>\n",
       "    </tr>\n",
       "    <tr>\n",
       "      <th>4</th>\n",
       "      <td>1.0</td>\n",
       "      <td>134184.067843</td>\n",
       "      <td>170022.906877</td>\n",
       "      <td>3</td>\n",
       "    </tr>\n",
       "    <tr>\n",
       "      <th>5</th>\n",
       "      <td>1.0</td>\n",
       "      <td>157459.829959</td>\n",
       "      <td>152926.214655</td>\n",
       "      <td>2</td>\n",
       "    </tr>\n",
       "    <tr>\n",
       "      <th>6</th>\n",
       "      <td>1.0</td>\n",
       "      <td>154337.534758</td>\n",
       "      <td>153396.535456</td>\n",
       "      <td>2</td>\n",
       "    </tr>\n",
       "    <tr>\n",
       "      <th>7</th>\n",
       "      <td>1.0</td>\n",
       "      <td>127881.546573</td>\n",
       "      <td>153476.955457</td>\n",
       "      <td>3</td>\n",
       "    </tr>\n",
       "    <tr>\n",
       "      <th>8</th>\n",
       "      <td>1.0</td>\n",
       "      <td>137472.486875</td>\n",
       "      <td>137089.040005</td>\n",
       "      <td>3</td>\n",
       "    </tr>\n",
       "    <tr>\n",
       "      <th>9</th>\n",
       "      <td>1.0</td>\n",
       "      <td>165780.512464</td>\n",
       "      <td>164842.957249</td>\n",
       "      <td>2</td>\n",
       "    </tr>\n",
       "    <tr>\n",
       "      <th>10</th>\n",
       "      <td>1.0</td>\n",
       "      <td>140604.335092</td>\n",
       "      <td>189582.868517</td>\n",
       "      <td>3</td>\n",
       "    </tr>\n",
       "  </tbody>\n",
       "</table>\n",
       "</div>"
      ],
      "text/plain": [
       "    Canal de Venta  Monto Solicitado  Monto Aprobado  Bienes Adquiridos\n",
       "1              1.0     147048.488364   193387.096893                  2\n",
       "2              1.0     177778.696649   150834.656753                  2\n",
       "3              1.0     152729.094581   158190.919048                  1\n",
       "4              1.0     134184.067843   170022.906877                  3\n",
       "5              1.0     157459.829959   152926.214655                  2\n",
       "6              1.0     154337.534758   153396.535456                  2\n",
       "7              1.0     127881.546573   153476.955457                  3\n",
       "8              1.0     137472.486875   137089.040005                  3\n",
       "9              1.0     165780.512464   164842.957249                  2\n",
       "10             1.0     140604.335092   189582.868517                  3"
      ]
     },
     "execution_count": 346,
     "metadata": {},
     "output_type": "execute_result"
    }
   ],
   "source": [
    "# Definimos el data frame.\n",
    "final_results = pd.DataFrame(columns=['Canal de Venta', 'Monto Solicitado', 'Monto Aprobado', 'Bienes Adquiridos'],\n",
    "                             index=np.arange(1,11))\n",
    "\n",
    "# Llenamos el data frame.\n",
    "final_results['Canal de Venta'] = (m1.round())\n",
    "final_results['Monto Solicitado'] = np.array(np.exp(m2))\n",
    "final_results['Monto Aprobado'] = np.array(np.exp(m3))\n",
    "final_results['Bienes Adquiridos'] = m4\n",
    "\n",
    "# Visualizamos dara frame.\n",
    "final_results"
   ]
  },
  {
   "cell_type": "markdown",
   "metadata": {},
   "source": [
    "### `Prueba de hipótesis`."
   ]
  },
  {
   "cell_type": "markdown",
   "metadata": {},
   "source": [
    "Recordando que unos de los postulados que sobre los cuales se trabajo es que **el monto de crédito aprobado es independiente del canal de ventas por el cuál se haya tramitado el crédito.** Con la intención de conocer si esto es real o no, realizaremos una prueba de hipótesis.\n",
    "\n",
    "Para esto utilizaremos el _test-t_ para demostrar independencia entre los diferentes **Montos Aprobados** por categoria. Si observamos las variables que se desean comparar (**Canal de Venta** y **Monto Aprobado**) nos podemos percatar que estamos ante un conjunto de datos discreto y otro de ellos es continuio. Entonces para poder realizar a cabo la prueba de hipótesis lo que haremos será encontrar los **Montos Aprobados** por categoría y sobre dichos vectores compararemos.\n",
    "\n",
    "Recordando la categorización del **Canal de Venta**:\n",
    "- 'Country-wide': 0\n",
    "- 'Credit and cash offices': 1\n",
    "- 'Stone': 2\n",
    "- 'Regional / local': 3\n",
    "- 'AP+ (cash loan)': 4\n",
    "- 'Contact center': 5\n",
    "- 'Channel of corporate sales': 6\n",
    "- 'Car dealer': 7\n",
    "\n",
    "Entonces lo que se hará será encontrar los valores correspondientes a los **Montos Aprobados** de cada canal y posteriormente se realizará el _test-t_ para cada una de las combinanciones, de manera que la prueba de hipótesis se verá de la siguiente manera:\n",
    "- $H_{0} : \\mu_{0} = \\mu_{1} = \\mu_{2} = \\mu_{3} = \\mu_{4} = \\mu_{5} = \\mu_{6} = \\mu_{7}$\n",
    "- $H_{a}: \\mu_{0} \\neq \\mu_{1} \\neq \\mu_{2} \\neq \\mu_{3} \\neq \\mu_{4} \\neq \\mu_{5} \\neq \\mu_{6} \\neq \\mu_{7}$\n",
    "\n",
    "Trabajaremos con un nivel de significancia del $5\\%$ de manera que $\\rightarrow \\alpha = 0.05$"
   ]
  },
  {
   "cell_type": "code",
   "execution_count": 323,
   "metadata": {},
   "outputs": [],
   "source": [
    "# Almacenamos en vectores los valores de montos aprobados de cada canal de venta.\n",
    "# Trabajaremos sobre escala logarítmica para no \n",
    "canal_0 = np.array(np.log(data[data['CHANNEL_TYPE']==0]['AMT_CREDIT']))\n",
    "canal_1 = np.array(np.log(data[data['CHANNEL_TYPE']==1]['AMT_CREDIT']))\n",
    "canal_2 = np.array(np.log(data[data['CHANNEL_TYPE']==2]['AMT_CREDIT']))\n",
    "canal_3 = np.array(np.log(data[data['CHANNEL_TYPE']==3]['AMT_CREDIT']))\n",
    "canal_4 = np.array(np.log(data[data['CHANNEL_TYPE']==4]['AMT_CREDIT']))\n",
    "canal_5 = np.array(np.log(data[data['CHANNEL_TYPE']==5]['AMT_CREDIT']))\n",
    "canal_6 = np.array(np.log(data[data['CHANNEL_TYPE']==6]['AMT_CREDIT']))\n",
    "canal_7 = np.array(np.log(data[data['CHANNEL_TYPE']==7]['AMT_CREDIT']))"
   ]
  },
  {
   "cell_type": "code",
   "execution_count": 324,
   "metadata": {},
   "outputs": [
    {
     "data": {
      "text/plain": [
       "[Ttest_indResult(statistic=-710.5736168006933, pvalue=0.0),\n",
       " Ttest_indResult(statistic=-61.41351933715898, pvalue=0.0),\n",
       " Ttest_indResult(statistic=-88.83649772540547, pvalue=0.0),\n",
       " Ttest_indResult(statistic=-208.10094357935196, pvalue=0.0),\n",
       " Ttest_indResult(statistic=-277.46686930557206, pvalue=0.0),\n",
       " Ttest_indResult(statistic=-65.18249618258396, pvalue=0.0),\n",
       " Ttest_indResult(statistic=-74.69341402464903, pvalue=1.6451375815344085e-189)]"
      ]
     },
     "execution_count": 324,
     "metadata": {},
     "output_type": "execute_result"
    }
   ],
   "source": [
    "# Realizamos el test-t de manera iterativa.\n",
    "res_canal_0 = [st.ttest_ind(canal_0, i, equal_var=False) for i in (canal_1, canal_2, canal_3, \n",
    "                                                                   canal_4, canal_5, canal_6, \n",
    "                                                                   canal_7)]\n",
    "res_canal_0"
   ]
  },
  {
   "cell_type": "markdown",
   "metadata": {},
   "source": [
    "Recordando que estamos trabajando con un $\\alpha = 0.05$ y al observar nuestro \"p-value\" vemos que la probabilidad de que las medias ($\\mu$) sean estadísticamente iguales es prácticamente de cero, lo cual nos da indicios para rechazar la hipótesis nula ($H_{0}$) de manera que podemos decir que los **Montos Aprobados** son INDEPENDIENTES del **Canal de Venta** sobre el cuál llega la solicitud."
   ]
  },
  {
   "cell_type": "markdown",
   "metadata": {},
   "source": [
    "### `Conclusión Final`."
   ]
  },
  {
   "cell_type": "markdown",
   "metadata": {},
   "source": [
    "Entonces ya con todos los nodos simulados, ya conocemos la información que caracteriza a las próximas solicitudes de crédito que a nosotros como institución financiera nos interesa conocer a partir de las variables de interés. Situándonos particularmente en la próximas $10$ solicitudes de crédito podemos concluir lo siguiente:\n",
    "\n",
    "- El **Canal de Venta** que más atraerá clientes será 'Credit and cash offices', siendo este el único valor obtenido en promedio.\n",
    "- El **Monto Solicitado** medio de las solicitudes de crédito rondará en un intervalo entre $[\\$127,881, \\$177,778]$, de manera que estos montos representan la demanda / expectativa de crédito sobre la institución financiera.\n",
    "- El **Monto Aprobado** medio de las solicitudes de crédito rondará en un intervalo entre $[\\$137,089, \\$193,387]$, siendo está la oferta real de crédito de la institución financiera.\n",
    "- Los **Bienes Adquiridos** rondan entre 'Audio/Video', 'Computers' y 'Consumer Electronics', siendo la primera de ellas el bien que se espera adquieran nuestros clientes con mayor frecuencia.\n",
    "\n",
    "Es importante resaltar que el hecho de que la capacidad créditicia (oferta) de la institución sea mayor a los **Montos Solicitados** no necesariamente refiere a que para cada crédito que se solicite la línea otorgada será mayor, pues recordemos que la probabilidad de que ambos montos coincidan ronda en un $20\\%$ siendo el $80\\%$ restante la probabilidad de que no sean igual, es decir, que no se cumplan estrictamente las expectativas (demanda) de crédito por parte de los clientes de la institución financiera.\n",
    "\n",
    "Otra cuestión que surge del análisis realizado es que hoy en día los hábitos de consumo por parte de los clientes parecen estar cada vez más sesgados a cuestión de consumo de electrónicos, esto da pauta a una nueva línea de negocio que pueda involucrar a la institución financiera con aquellos comercios o tiendas que se especialicen en la venta de productos con estas características.\n",
    "\n",
    "Por último también es importante resaltar que la línea de crédito que se otorgue (**Monto Aprobado**) resulta independiente del **Canal de Venta** sobre el cual llegue la solicitud, es decir, se espera una cartera de clientes diversificada, esto además nos podría dar indicios de un buen trabajo en el área de publicidad por parte de la institución sin embargo, recordemos que los **Canales de Venta** registrados son muy tradicionales. Por otra parte el hecho de que el **Canal de Venta** más esperado sean las oficinas tradicionales nos indica que existe un área de oportunidad de inversión en canales digitales ya que actualmente  comienzan a surgir alternativas bancarias digitales como las fintech las cuales podrían acaparar este mercado si el banco no busca una transición digital."
   ]
  },
  {
   "cell_type": "markdown",
   "metadata": {},
   "source": [
    "<script>\n",
    "  $(document).ready(function(){\n",
    "    $('div.prompt').hide();\n",
    "    $('div.back-to-top').hide();\n",
    "    $('nav#menubar').hide();\n",
    "    $('.breadcrumb').hide();\n",
    "    $('.hidden-print').hide();\n",
    "  });\n",
    "</script>\n",
    "\n",
    "<footer id=\"attribution\" style=\"float:right; color:#808080; background:#fff;\">\n",
    "Created with Jupyter by Esteban Jiménez Rodríguez.\n",
    "</footer>"
   ]
  }
 ],
 "metadata": {
  "kernelspec": {
   "display_name": "Python 3",
   "language": "python",
   "name": "python3"
  }
 },
 "nbformat": 4,
 "nbformat_minor": 2
}
